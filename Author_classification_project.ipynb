{
  "nbformat": 4,
  "nbformat_minor": 0,
  "metadata": {
    "colab": {
      "name": "Author classification project.ipynb",
      "provenance": [],
      "collapsed_sections": [],
      "toc_visible": true,
      "machine_shape": "hm",
      "include_colab_link": true
    },
    "kernelspec": {
      "name": "python3",
      "display_name": "Python 3"
    },
    "accelerator": "TPU"
  },
  "cells": [
    {
      "cell_type": "markdown",
      "metadata": {
        "id": "view-in-github",
        "colab_type": "text"
      },
      "source": [
        "<a href=\"https://colab.research.google.com/github/Nhatkhang/Machine_learning_CBD/blob/Project_assignments/Author_classification_project.ipynb\" target=\"_parent\"><img src=\"https://colab.research.google.com/assets/colab-badge.svg\" alt=\"Open In Colab\"/></a>"
      ]
    },
    {
      "cell_type": "markdown",
      "metadata": {
        "id": "9iV8F5hFP6c1",
        "colab_type": "text"
      },
      "source": [
        "Using NLP and techniques of supervised learning (including Deep\n",
        "Learning) and unsupervised learning (emphasizing on unsupervised\n",
        "for this project), and collect thousand texts from Gutenberg project\n",
        "(and 7 novels) for at least 10 authors, build a project to classify\n",
        "text-author. The project should follow the guideline as:\n",
        "\n",
        "1. Pre-process data using Spacy and other methods.\n",
        "2. Perform data exploration\n",
        "3. Using Bag of Word, apply supervised models such as Naive\n",
        "Bayes, Logistic Regression, Decision Tree, Random Forest,\n",
        "KNN, SVM and Gradient Boosting, including GridSearchCV.\n",
        "4. Similar to 3., but using TF-IDF.\n",
        "5. Similar to 3., but using word2vec.\n",
        "6. Appy RNN to do classification.\n",
        "7. Using unsupervised technique, visualize bar graphs for clusters\n",
        "containing 10 author documents. Adjust by silhouette scores.\n",
        "8. Using LSA, LDA and NNMF, print out top ten words (with their\n",
        "highest loading) for each topic modeling. Analyze and compare\n",
        "among three methods.\n",
        "9. Write up analysis and conclusions."
      ]
    },
    {
      "cell_type": "markdown",
      "metadata": {
        "id": "OgI1DJiETuLn",
        "colab_type": "text"
      },
      "source": [
        "# Introduction\n",
        "The main goal of this report is to research and present the NLP techniques including supervised and unsupervised learning to build a authorship classifier. The text processing tools in this report are Bag of word, TF-IDF and word2vec applied to the Gutenberg data set. This report is structured as followed:\n",
        "1. Load and process data\n",
        "2. Data Exploration\n",
        "3. Supervised learning used Bag of Word, TF-IDF, Word2vec\n",
        "4. Recurrent neural network (RNN)\n",
        "5. Unsupervised learning\n",
        "6. Application of LSA\n",
        "7. Conclusion\n",
        "\n",
        "\n",
        "\n",
        "\n"
      ]
    },
    {
      "cell_type": "markdown",
      "metadata": {
        "id": "oO3-5W8tV_aP",
        "colab_type": "text"
      },
      "source": [
        "## 1. Load and process data"
      ]
    },
    {
      "cell_type": "code",
      "metadata": {
        "id": "MceCjTIwRLrP",
        "colab_type": "code",
        "colab": {}
      },
      "source": [
        "### importing libraries\n",
        "import seaborn as sns\n",
        "sns.set(style=\"whitegrid\", color_codes=True)\n",
        "import pandas as pd # data processing, CSV file I/O (e.g. pd.read_csv)\n",
        "import numpy as np # linear algebra\n",
        "import matplotlib.pyplot as plt\n",
        "import sklearn\n",
        "from sklearn.model_selection import train_test_split\n",
        "%matplotlib inline\n",
        "import nltk\n",
        "import random\n",
        "import time\n",
        "from sklearn.preprocessing import LabelBinarizer\n",
        "from nltk.corpus import stopwords # Import the stop word list\n",
        "from random import randint \n",
        "from nltk.tokenize import RegexpTokenizer\n",
        "from sklearn import tree\n",
        "from sklearn import metrics\n",
        "from sklearn.preprocessing import PolynomialFeatures, StandardScaler\n",
        "from sklearn.preprocessing import LabelEncoder, OneHotEncoder\n",
        "from sklearn.model_selection import train_test_split, cross_val_score, cross_val_predict\n",
        "from sklearn.decomposition import PCA\n",
        "from sklearn.linear_model import LogisticRegression\n",
        "from sklearn.metrics import classification_report, accuracy_score\n",
        "from sklearn.naive_bayes import GaussianNB \n",
        "from sklearn.ensemble import RandomForestClassifier, GradientBoostingClassifier\n",
        "from sklearn.svm import SVC\n",
        "from sklearn.neighbors import KNeighborsClassifier \n",
        "import warnings\n",
        "warnings.filterwarnings(\"ignore\")"
      ],
      "execution_count": 0,
      "outputs": []
    },
    {
      "cell_type": "code",
      "metadata": {
        "id": "12OeYiBLRL3y",
        "colab_type": "code",
        "outputId": "3e10a628-0991-41cb-8fb5-4635f35cd88d",
        "colab": {
          "base_uri": "https://localhost:8080/",
          "height": 102
        }
      },
      "source": [
        "nltk.download('gutenberg')\n",
        "nltk.download('stopwords')"
      ],
      "execution_count": 2,
      "outputs": [
        {
          "output_type": "stream",
          "text": [
            "[nltk_data] Downloading package gutenberg to /root/nltk_data...\n",
            "[nltk_data]   Package gutenberg is already up-to-date!\n",
            "[nltk_data] Downloading package stopwords to /root/nltk_data...\n",
            "[nltk_data]   Package stopwords is already up-to-date!\n"
          ],
          "name": "stdout"
        },
        {
          "output_type": "execute_result",
          "data": {
            "text/plain": [
              "True"
            ]
          },
          "metadata": {
            "tags": []
          },
          "execution_count": 2
        }
      ]
    },
    {
      "cell_type": "code",
      "metadata": {
        "id": "4-RnGRA8RL-b",
        "colab_type": "code",
        "colab": {}
      },
      "source": [
        "file_ID=nltk.corpus.gutenberg.fileids()\n",
        "author_list=[]\n",
        "data_set=[]\n",
        "for f in file_ID: \n",
        "  tmp=(nltk.corpus.gutenberg.words(f))\n",
        "  for i in range(len(tmp)):\n",
        "    if tmp[i]==']':\n",
        "      author_list.append(tmp[1:i])\n",
        "      data_set.append(tmp[i+1:len(tmp)])\n",
        "      break\n",
        "    "
      ],
      "execution_count": 0,
      "outputs": []
    },
    {
      "cell_type": "code",
      "metadata": {
        "id": "bGVc_NZhvCsI",
        "colab_type": "code",
        "colab": {}
      },
      "source": [
        "## remove stopwords\n",
        "for i in range (len(file_ID)):\n",
        "  #data_set[i]=[ w.lower() for w in data_set[i]] ## convert to lower case first\n",
        "  data_set[i]=[w for w in data_set[i] if not w.lower() in stopwords.words(\"english\")]"
      ],
      "execution_count": 0,
      "outputs": []
    },
    {
      "cell_type": "code",
      "metadata": {
        "id": "RbTgYPF2dW72",
        "colab_type": "code",
        "colab": {}
      },
      "source": [
        "author=[]\n",
        "name=[]\n",
        "author_list[3]=['The', 'King', 'by','James', 'Bible'] ## adding by for easy\n",
        "for i in range(len (file_ID)):\n",
        "  #print(i,author_list[i])\n",
        "  for k in range(len (author_list[i])):\n",
        "    if author_list[i][k]=='by':\n",
        "      author.append((author_list[i][k+1:len(author_list[i])]))\n",
        "      name.append((author_list[i][0:k]))\n",
        "authors=[]\n",
        "for i in range(len(file_ID)):\n",
        "  if author[i][-1].isnumeric() == True:\n",
        "    authors.append(author[i][0:-1])\n",
        "  else:\n",
        "    authors.append(author[i])\n",
        "\n",
        "authors=[\" \".join(authors[i]) for i in range(len(authors))]\n",
        "name=[\" \".join(name[i]) for i in range(len(name))]"
      ],
      "execution_count": 0,
      "outputs": []
    },
    {
      "cell_type": "code",
      "metadata": {
        "id": "dI0LM8tDLMi2",
        "colab_type": "code",
        "outputId": "15940017-c065-458d-fd7b-c85cedaa42ac",
        "colab": {
          "base_uri": "https://localhost:8080/",
          "height": 323
        }
      },
      "source": [
        "for i,k in zip(authors, name):\n",
        "  print(i,k)"
      ],
      "execution_count": 6,
      "outputs": [
        {
          "output_type": "stream",
          "text": [
            "Jane Austen Emma\n",
            "Jane Austen Persuasion\n",
            "Jane Austen Sense and Sensibility\n",
            "James Bible The King\n",
            "William Blake Poems\n",
            "Sara Cone Bryant Stories to Tell to Children\n",
            "Thornton W . Burgess The Adventures of Buster Bear\n",
            "Lewis Carroll Alice ' s Adventures in Wonderland\n",
            "G . K . Chesterton The Ball and The Cross\n",
            "G . K . Chesterton The Wisdom of Father Brown\n",
            "G . K . Chesterton The Man Who Was Thursday\n",
            "Maria Edgeworth The Parent ' s Assistant ,\n",
            "Herman Melville Moby Dick\n",
            "John Milton Paradise Lost\n",
            "William Shakespeare The Tragedie of Julius Caesar\n",
            "William Shakespeare The Tragedie of Hamlet\n",
            "William Shakespeare The Tragedie of Macbeth\n",
            "Walt Whitman Leaves of Grass\n"
          ],
          "name": "stdout"
        }
      ]
    },
    {
      "cell_type": "markdown",
      "metadata": {
        "id": "XJwoSjqZk5t3",
        "colab_type": "text"
      },
      "source": [
        "We have 18 texts with 12 unique authors. This quantity is too small to build a proper machine learning model, thus, additional stratergy is applied, i.e. each text will be devided into 1000 sub texts, then the total number of sample is increased while the labels (authorship) will remain the same. "
      ]
    },
    {
      "cell_type": "code",
      "metadata": {
        "id": "5OZwFR3__CkL",
        "colab_type": "code",
        "colab": {}
      },
      "source": [
        "def randomList(m, n):   # function to create a list with length M and sum of them is N\n",
        "    # Create an array of size m where  \n",
        "    # every element is initialized to 0  \n",
        "    arr = [0] * m;  \n",
        "    # To make the sum of the final list as n  \n",
        "    for i in range(n) : \n",
        "        # Increment any random element  \n",
        "        arr[randint(0, n) % m] += 1;  \n",
        "    return arr"
      ],
      "execution_count": 0,
      "outputs": []
    },
    {
      "cell_type": "code",
      "metadata": {
        "id": "X4vhJEnmRMER",
        "colab_type": "code",
        "outputId": "550273a1-1ef3-4914-c25a-fe70129f59c0",
        "colab": {
          "base_uri": "https://localhost:8080/",
          "height": 323
        }
      },
      "source": [
        "update_data_set=[]\n",
        "update_name=[]\n",
        "update_author=[]\n",
        "for i in range (len(file_ID)):\n",
        "  arr=randomList(200, len(data_set[i]))\n",
        "  st=0\n",
        "  for ii in arr:\n",
        "    fs=st+ii\n",
        "    update_data_set.append(\" \".join(data_set[i][st:fs]))\n",
        "    update_name.append(name[i])\n",
        "    update_author.append(authors[i])\n",
        "    st=fs\n",
        "  print(fs,len(data_set[i]))"
      ],
      "execution_count": 8,
      "outputs": [
        {
          "output_type": "stream",
          "text": [
            "103970 103970\n",
            "52381 52381\n",
            "74822 74822\n",
            "593752 593752\n",
            "5219 5219\n",
            "30661 30661\n",
            "10208 10208\n",
            "19008 19008\n",
            "54019 54019\n",
            "48114 48114\n",
            "38807 38807\n",
            "118066 118066\n",
            "152910 152910\n",
            "61893 61893\n",
            "16079 16079\n",
            "22985 22985\n",
            "14939 14939\n",
            "93680 93680\n"
          ],
          "name": "stdout"
        }
      ]
    },
    {
      "cell_type": "code",
      "metadata": {
        "id": "xk71mNfjy9qg",
        "colab_type": "code",
        "colab": {}
      },
      "source": [
        "tokenizer = RegexpTokenizer(r'\\w+')\n",
        "for i in range (len(update_data_set)):\n",
        "    update_data_set[i] = tokenizer.tokenize(update_data_set[i])\n",
        "    update_data_set[i] = \" \".join(update_data_set[i]) ## rejoin\n"
      ],
      "execution_count": 0,
      "outputs": []
    },
    {
      "cell_type": "markdown",
      "metadata": {
        "id": "WCPp0ij6Evdn",
        "colab_type": "text"
      },
      "source": [
        "We have fisnihed the data preparation, we have a data set consists of 18000 samples categorized into 12 authors."
      ]
    },
    {
      "cell_type": "markdown",
      "metadata": {
        "id": "sbZbo1t9-l_Z",
        "colab_type": "text"
      },
      "source": [
        "##2. Data Exploration"
      ]
    },
    {
      "cell_type": "code",
      "metadata": {
        "id": "Z2AnrotiSpRX",
        "colab_type": "code",
        "colab": {}
      },
      "source": [
        "## convert to data frame\n",
        "data=np.array([update_author, update_name,update_data_set])\n",
        "data=np.transpose(data)\n",
        "df = pd.DataFrame(data, columns=['Author', 'Book_name', 'Text'])"
      ],
      "execution_count": 0,
      "outputs": []
    },
    {
      "cell_type": "code",
      "metadata": {
        "id": "gRck-mru02zS",
        "colab_type": "code",
        "outputId": "f968bf0e-a177-4ac9-dc71-24e2ebb18ceb",
        "colab": {
          "base_uri": "https://localhost:8080/",
          "height": 54
        }
      },
      "source": [
        "print(update_data_set[1])"
      ],
      "execution_count": 11,
      "outputs": [
        {
          "output_type": "stream",
          "text": [
            "Hartfield spite separate lawn shrubberies name really belong afforded equals Woodhouses first consequence looked many acquaintance place father universally civil one among could accepted lieu Miss Taylor even half day melancholy change Emma could sigh wish impossible things till father awoke made necessary cheerful spirits required support nervous man easily depressed fond every body used hating part hating change every kind Matrimony origin change always disagreeable means yet reconciled daughter marrying could ever speak compassion though entirely match affection obliged part Miss Taylor habits gentle selfishness never able suppose people could feel differently much disposed think Miss Taylor done sad thing would great deal happier spent rest life Hartfield Emma smiled chatted cheerfully could keep thoughts tea came impossible say exactly said dinner Poor Miss Taylor wish pity Mr Weston ever thought cannot agree papa know cannot Mr Weston good humoured pleasant excellent man thoroughly deserves good wife would Miss Taylor live us ever bear odd humours might house house advantage house three times large never odd humours dear often shall going see coming see us shall always meeting _We_ must begin must go pay wedding visit soon dear get far Randalls distance could walk half far papa nobody thought walking must go carriage sure carriage James like put horses little way poor horses paying visit put Mr Weston stable papa know settled already talked Mr Weston last night James may sure always like going Randalls daughter housemaid doubt whether ever take us anywhere else papa got Hannah good place Nobody thought Hannah till mentioned James obliged glad think lucky would poor James think slighted upon account sure make good servant civil pretty spoken girl great opinion Whenever see always curtseys asks pretty manner needlework observe always turns lock door right way never bangs sure excellent servant great comfort poor Miss Taylor somebody used see Whenever James goes see daughter know hearing us able tell Emma spared exertions maintain happier flow ideas hoped help backgammon get father tolerably evening attacked regrets backgammon table placed visitor immediately afterwards walked made unnecessary Mr Knightley sensible man seven eight thirty old intimate friend family particularly connected elder brother Isabella husband lived mile Highbury frequent visitor\n"
          ],
          "name": "stdout"
        }
      ]
    },
    {
      "cell_type": "code",
      "metadata": {
        "id": "M3173pNH9V-x",
        "colab_type": "code",
        "outputId": "5824d8f3-7bca-4a2d-8c6a-c5c42ec345ef",
        "colab": {
          "base_uri": "https://localhost:8080/",
          "height": 376
        }
      },
      "source": [
        "print('Dataframe dimensions:', data.shape) ## print shape\n",
        "pd.set_option('display.max_columns', None)\n",
        "df.head(10)"
      ],
      "execution_count": 12,
      "outputs": [
        {
          "output_type": "stream",
          "text": [
            "Dataframe dimensions: (3600, 3)\n"
          ],
          "name": "stdout"
        },
        {
          "output_type": "execute_result",
          "data": {
            "text/html": [
              "<div>\n",
              "<style scoped>\n",
              "    .dataframe tbody tr th:only-of-type {\n",
              "        vertical-align: middle;\n",
              "    }\n",
              "\n",
              "    .dataframe tbody tr th {\n",
              "        vertical-align: top;\n",
              "    }\n",
              "\n",
              "    .dataframe thead th {\n",
              "        text-align: right;\n",
              "    }\n",
              "</style>\n",
              "<table border=\"1\" class=\"dataframe\">\n",
              "  <thead>\n",
              "    <tr style=\"text-align: right;\">\n",
              "      <th></th>\n",
              "      <th>Author</th>\n",
              "      <th>Book_name</th>\n",
              "      <th>Text</th>\n",
              "    </tr>\n",
              "  </thead>\n",
              "  <tbody>\n",
              "    <tr>\n",
              "      <th>0</th>\n",
              "      <td>Jane Austen</td>\n",
              "      <td>Emma</td>\n",
              "      <td>VOLUME CHAPTER Emma Woodhouse handsome clever ...</td>\n",
              "    </tr>\n",
              "    <tr>\n",
              "      <th>1</th>\n",
              "      <td>Jane Austen</td>\n",
              "      <td>Emma</td>\n",
              "      <td>Hartfield spite separate lawn shrubberies name...</td>\n",
              "    </tr>\n",
              "    <tr>\n",
              "      <th>2</th>\n",
              "      <td>Jane Austen</td>\n",
              "      <td>Emma</td>\n",
              "      <td>always welcome time welcome usual coming direc...</td>\n",
              "    </tr>\n",
              "    <tr>\n",
              "      <th>3</th>\n",
              "      <td>Jane Austen</td>\n",
              "      <td>Emma</td>\n",
              "      <td>time life settled home important secure comfor...</td>\n",
              "    </tr>\n",
              "    <tr>\n",
              "      <th>4</th>\n",
              "      <td>Jane Austen</td>\n",
              "      <td>Emma</td>\n",
              "      <td>kind office done think well Mr Elton way servi...</td>\n",
              "    </tr>\n",
              "    <tr>\n",
              "      <th>5</th>\n",
              "      <td>Jane Austen</td>\n",
              "      <td>Emma</td>\n",
              "      <td>made fortune bought house obtained wife beginn...</td>\n",
              "    </tr>\n",
              "    <tr>\n",
              "      <th>6</th>\n",
              "      <td>Jane Austen</td>\n",
              "      <td>Emma</td>\n",
              "      <td>brought alleviation Mr Woodhouse compliments n...</td>\n",
              "    </tr>\n",
              "    <tr>\n",
              "      <th>7</th>\n",
              "      <td>Jane Austen</td>\n",
              "      <td>Emma</td>\n",
              "      <td>body happiness quicksighted every body merits ...</td>\n",
              "    </tr>\n",
              "    <tr>\n",
              "      <th>8</th>\n",
              "      <td>Jane Austen</td>\n",
              "      <td>Emma</td>\n",
              "      <td>given soft blue eyes natural graces wasted inf...</td>\n",
              "    </tr>\n",
              "    <tr>\n",
              "      <th>9</th>\n",
              "      <td>Jane Austen</td>\n",
              "      <td>Emma</td>\n",
              "      <td>Harriet Smith therefore one could summon time ...</td>\n",
              "    </tr>\n",
              "  </tbody>\n",
              "</table>\n",
              "</div>"
            ],
            "text/plain": [
              "        Author Book_name                                               Text\n",
              "0  Jane Austen      Emma  VOLUME CHAPTER Emma Woodhouse handsome clever ...\n",
              "1  Jane Austen      Emma  Hartfield spite separate lawn shrubberies name...\n",
              "2  Jane Austen      Emma  always welcome time welcome usual coming direc...\n",
              "3  Jane Austen      Emma  time life settled home important secure comfor...\n",
              "4  Jane Austen      Emma  kind office done think well Mr Elton way servi...\n",
              "5  Jane Austen      Emma  made fortune bought house obtained wife beginn...\n",
              "6  Jane Austen      Emma  brought alleviation Mr Woodhouse compliments n...\n",
              "7  Jane Austen      Emma  body happiness quicksighted every body merits ...\n",
              "8  Jane Austen      Emma  given soft blue eyes natural graces wasted inf...\n",
              "9  Jane Austen      Emma  Harriet Smith therefore one could summon time ..."
            ]
          },
          "metadata": {
            "tags": []
          },
          "execution_count": 12
        }
      ]
    },
    {
      "cell_type": "code",
      "metadata": {
        "id": "SPg3wE5W9eje",
        "colab_type": "code",
        "outputId": "2fac39fc-11cd-4bf4-f03c-308fd20b53cc",
        "colab": {
          "base_uri": "https://localhost:8080/",
          "height": 359
        }
      },
      "source": [
        "fig = plt.figure(1, figsize=(40,5))\n",
        "y = df.Author.value_counts()\n",
        "plt.bar(range(len(y)), y,tick_label=y.index,color=np.random.rand(18,3))\n",
        "plt.xlabel(\"Authors\")\n",
        "plt.ylabel(\"# of samples\")\n",
        "COLOR = 'White'\n",
        "plt.rcParams['text.color'] = COLOR\n",
        "plt.rcParams['axes.labelcolor'] = COLOR\n",
        "plt.rcParams['xtick.color'] = COLOR\n",
        "plt.rcParams['ytick.color'] = COLOR"
      ],
      "execution_count": 13,
      "outputs": [
        {
          "output_type": "display_data",
          "data": {
            "image/png": "[encoded data removed]",
            "text/plain": [
              "<Figure size 2880x360 with 1 Axes>"
            ]
          },
          "metadata": {
            "tags": []
          }
        }
      ]
    },
    {
      "cell_type": "code",
      "metadata": {
        "id": "nODKrvxtLujN",
        "colab_type": "code",
        "colab": {}
      },
      "source": [
        "all_words = df['Text'].str.split(expand=True).unstack().value_counts()"
      ],
      "execution_count": 0,
      "outputs": []
    },
    {
      "cell_type": "code",
      "metadata": {
        "id": "clVgbEulV5E6",
        "colab_type": "code",
        "outputId": "bac4afab-df3e-4c84-a0c9-680fdda95093",
        "colab": {
          "base_uri": "https://localhost:8080/",
          "height": 372
        }
      },
      "source": [
        "indx=all_words.index\n",
        "fig = plt.figure(1, figsize=(15,5))\n",
        "y = all_words[0:25]\n",
        "plt.bar(range(len(y)), y,tick_label=indx[0:25],color=np.random.rand(25,3))\n",
        "plt.xlabel(\"Words\")\n",
        "plt.ylabel(\"# of appear in text\")\n",
        "plt.title('Top 25 words appears most in the data')"
      ],
      "execution_count": 15,
      "outputs": [
        {
          "output_type": "execute_result",
          "data": {
            "text/plain": [
              "Text(0.5, 1.0, 'Top 25 words appears most in the data')"
            ]
          },
          "metadata": {
            "tags": []
          },
          "execution_count": 15
        },
        {
          "output_type": "display_data",
          "data": {
            "image/png": "[encoded data removed]",
            "text/plain": [
              "<Figure size 1080x360 with 1 Axes>"
            ]
          },
          "metadata": {
            "tags": []
          }
        }
      ]
    },
    {
      "cell_type": "markdown",
      "metadata": {
        "id": "inbVSCpmelFw",
        "colab_type": "text"
      },
      "source": [
        "Let's examine word count/length statistics:"
      ]
    },
    {
      "cell_type": "code",
      "metadata": {
        "id": "jRYYAozQABrf",
        "colab_type": "code",
        "outputId": "349d9ddd-fb3c-4522-9655-278ec98b8470",
        "colab": {
          "base_uri": "https://localhost:8080/",
          "height": 68
        }
      },
      "source": [
        "document_lengths = np.array(list(map(len, df.Text.str.split(' '))))\n",
        "\n",
        "print(\"The average number of words in a document is: {}.\".format(np.mean(document_lengths)))\n",
        "print(\"The minimum number of words in a document is: {}.\".format(min(document_lengths)))\n",
        "print(\"The maximum number of words in a document is: {}.\".format(max(document_lengths)))"
      ],
      "execution_count": 16,
      "outputs": [
        {
          "output_type": "stream",
          "text": [
            "The average number of words in a document is: 302.54583333333335.\n",
            "The minimum number of words in a document is: 8.\n",
            "The maximum number of words in a document is: 2359.\n"
          ],
          "name": "stdout"
        }
      ]
    },
    {
      "cell_type": "code",
      "metadata": {
        "colab_type": "code",
        "outputId": "fcfc56b3-149b-416a-a4ab-c6c1486850b4",
        "id": "DaF0dSXXAgFN",
        "colab": {
          "base_uri": "https://localhost:8080/",
          "height": 318
        }
      },
      "source": [
        "# Plot word count distribution\n",
        "sns.distplot(document_lengths, kde = False, bins = 70, color = 'blue').set_title(\"Word Count Distribution\")\n",
        "plt.xlabel('Text Length (Words)')\n",
        "plt.ylabel('Count')\n",
        "#plt.xlim(0, 100)"
      ],
      "execution_count": 17,
      "outputs": [
        {
          "output_type": "execute_result",
          "data": {
            "text/plain": [
              "Text(0, 0.5, 'Count')"
            ]
          },
          "metadata": {
            "tags": []
          },
          "execution_count": 17
        },
        {
          "output_type": "display_data",
          "data": {
            "image/png": "[encoded data removed]",
            "text/plain": [
              "<Figure size 432x288 with 1 Axes>"
            ]
          },
          "metadata": {
            "tags": []
          }
        }
      ]
    },
    {
      "cell_type": "markdown",
      "metadata": {
        "id": "Zvzd13CWnG29",
        "colab_type": "text"
      },
      "source": [
        "Most of the text has the number of words less than 200."
      ]
    },
    {
      "cell_type": "code",
      "metadata": {
        "id": "TBgzF5vWAyeH",
        "colab_type": "code",
        "outputId": "c1a17b9d-c86e-4216-ff3b-58d63dad65ca",
        "colab": {
          "base_uri": "https://localhost:8080/",
          "height": 34
        }
      },
      "source": [
        "print(\"There are {} samples with over 150 words.\".format(sum(document_lengths > 150)))\n"
      ],
      "execution_count": 18,
      "outputs": [
        {
          "output_type": "stream",
          "text": [
            "There are 2042 samples with over 150 words.\n"
          ],
          "name": "stdout"
        }
      ]
    },
    {
      "cell_type": "code",
      "metadata": {
        "id": "U76PuFdFBI81",
        "colab_type": "code",
        "outputId": "58a80419-6791-440d-ed11-93f5882e3e31",
        "colab": {
          "base_uri": "https://localhost:8080/",
          "height": 34
        }
      },
      "source": [
        "df.Text[document_lengths == 10]"
      ],
      "execution_count": 19,
      "outputs": [
        {
          "output_type": "execute_result",
          "data": {
            "text/plain": [
              "Series([], Name: Text, dtype: object)"
            ]
          },
          "metadata": {
            "tags": []
          },
          "execution_count": 19
        }
      ]
    },
    {
      "cell_type": "code",
      "metadata": {
        "id": "KJYnt-mXHgCX",
        "colab_type": "code",
        "colab": {}
      },
      "source": [
        "df['document_lengths']=document_lengths"
      ],
      "execution_count": 0,
      "outputs": []
    },
    {
      "cell_type": "code",
      "metadata": {
        "id": "5wg_PYO3HnEA",
        "colab_type": "code",
        "outputId": "869a46c5-76c9-4d54-c334-8b3cf999e50e",
        "colab": {
          "base_uri": "https://localhost:8080/",
          "height": 204
        }
      },
      "source": [
        "df[df.document_lengths>20]\n",
        "df.head()"
      ],
      "execution_count": 21,
      "outputs": [
        {
          "output_type": "execute_result",
          "data": {
            "text/html": [
              "<div>\n",
              "<style scoped>\n",
              "    .dataframe tbody tr th:only-of-type {\n",
              "        vertical-align: middle;\n",
              "    }\n",
              "\n",
              "    .dataframe tbody tr th {\n",
              "        vertical-align: top;\n",
              "    }\n",
              "\n",
              "    .dataframe thead th {\n",
              "        text-align: right;\n",
              "    }\n",
              "</style>\n",
              "<table border=\"1\" class=\"dataframe\">\n",
              "  <thead>\n",
              "    <tr style=\"text-align: right;\">\n",
              "      <th></th>\n",
              "      <th>Author</th>\n",
              "      <th>Book_name</th>\n",
              "      <th>Text</th>\n",
              "      <th>document_lengths</th>\n",
              "    </tr>\n",
              "  </thead>\n",
              "  <tbody>\n",
              "    <tr>\n",
              "      <th>0</th>\n",
              "      <td>Jane Austen</td>\n",
              "      <td>Emma</td>\n",
              "      <td>VOLUME CHAPTER Emma Woodhouse handsome clever ...</td>\n",
              "      <td>400</td>\n",
              "    </tr>\n",
              "    <tr>\n",
              "      <th>1</th>\n",
              "      <td>Jane Austen</td>\n",
              "      <td>Emma</td>\n",
              "      <td>Hartfield spite separate lawn shrubberies name...</td>\n",
              "      <td>362</td>\n",
              "    </tr>\n",
              "    <tr>\n",
              "      <th>2</th>\n",
              "      <td>Jane Austen</td>\n",
              "      <td>Emma</td>\n",
              "      <td>always welcome time welcome usual coming direc...</td>\n",
              "      <td>335</td>\n",
              "    </tr>\n",
              "    <tr>\n",
              "      <th>3</th>\n",
              "      <td>Jane Austen</td>\n",
              "      <td>Emma</td>\n",
              "      <td>time life settled home important secure comfor...</td>\n",
              "      <td>383</td>\n",
              "    </tr>\n",
              "    <tr>\n",
              "      <th>4</th>\n",
              "      <td>Jane Austen</td>\n",
              "      <td>Emma</td>\n",
              "      <td>kind office done think well Mr Elton way servi...</td>\n",
              "      <td>398</td>\n",
              "    </tr>\n",
              "  </tbody>\n",
              "</table>\n",
              "</div>"
            ],
            "text/plain": [
              "        Author Book_name                                               Text  \\\n",
              "0  Jane Austen      Emma  VOLUME CHAPTER Emma Woodhouse handsome clever ...   \n",
              "1  Jane Austen      Emma  Hartfield spite separate lawn shrubberies name...   \n",
              "2  Jane Austen      Emma  always welcome time welcome usual coming direc...   \n",
              "3  Jane Austen      Emma  time life settled home important secure comfor...   \n",
              "4  Jane Austen      Emma  kind office done think well Mr Elton way servi...   \n",
              "\n",
              "   document_lengths  \n",
              "0               400  \n",
              "1               362  \n",
              "2               335  \n",
              "3               383  \n",
              "4               398  "
            ]
          },
          "metadata": {
            "tags": []
          },
          "execution_count": 21
        }
      ]
    },
    {
      "cell_type": "markdown",
      "metadata": {
        "id": "RaEkp-wQtz4S",
        "colab_type": "text"
      },
      "source": [
        "We have finished the exploration of the data, thus we will move to next section."
      ]
    },
    {
      "cell_type": "code",
      "metadata": {
        "id": "34_96Wp5hwWH",
        "colab_type": "code",
        "colab": {}
      },
      "source": [
        "## all word is dictionary\n"
      ],
      "execution_count": 0,
      "outputs": []
    },
    {
      "cell_type": "markdown",
      "metadata": {
        "id": "r2PdK2fsuFK0",
        "colab_type": "text"
      },
      "source": [
        "##3. Supervised learning used Bag of Word, TF-IDF, Word2vec"
      ]
    },
    {
      "cell_type": "markdown",
      "metadata": {
        "id": "V3ZxQ55HuKJU",
        "colab_type": "text"
      },
      "source": [
        "### 3.1 Bag of words"
      ]
    },
    {
      "cell_type": "markdown",
      "metadata": {
        "id": "mNBOwBOqtWBk",
        "colab_type": "text"
      },
      "source": [
        "Create the training and test data"
      ]
    },
    {
      "cell_type": "code",
      "metadata": {
        "id": "GuszcMORsteO",
        "colab_type": "code",
        "colab": {}
      },
      "source": [
        "text_train, text_test, author_train, author_test = train_test_split(df.Text, df.Author, test_size = 0.2, random_state = 5)"
      ],
      "execution_count": 0,
      "outputs": []
    },
    {
      "cell_type": "code",
      "metadata": {
        "id": "8xsAnixltrRN",
        "colab_type": "code",
        "outputId": "6c0df4cc-4fe3-4b12-c44c-320db4d7a2d6",
        "colab": {
          "base_uri": "https://localhost:8080/",
          "height": 85
        }
      },
      "source": [
        "# Check shapes of created datasets\n",
        "print(np.shape(text_train))\n",
        "print(np.shape(text_test))\n",
        "print(np.shape(author_train))\n",
        "print(np.shape(author_test))"
      ],
      "execution_count": 0,
      "outputs": [
        {
          "output_type": "stream",
          "text": [
            "(2880,)\n",
            "(720,)\n",
            "(2880,)\n",
            "(720,)\n"
          ],
          "name": "stdout"
        }
      ]
    },
    {
      "cell_type": "markdown",
      "metadata": {
        "id": "QrbQgGsb5qKb",
        "colab_type": "text"
      },
      "source": [
        "Creating Features from a Bag of Words"
      ]
    },
    {
      "cell_type": "code",
      "metadata": {
        "id": "IWOJ92jvtwGd",
        "colab_type": "code",
        "outputId": "d9f528ad-267c-47e6-e251-549250a0ae6b",
        "colab": {
          "base_uri": "https://localhost:8080/",
          "height": 51
        }
      },
      "source": [
        "print (\"Creating the bag of words...\\n\")\n",
        "from sklearn.feature_extraction.text import CountVectorizer\n",
        "vectorizer = CountVectorizer(max_features=5000).fit(text_train) \n",
        "train_X = vectorizer.transform(text_train)\n",
        "train_X = train_X.toarray()\n",
        "test_X = vectorizer.transform(text_test)\n",
        "test_X = test_X.toarray()"
      ],
      "execution_count": 0,
      "outputs": [
        {
          "output_type": "stream",
          "text": [
            "Creating the bag of words...\n",
            "\n"
          ],
          "name": "stdout"
        }
      ]
    },
    {
      "cell_type": "code",
      "metadata": {
        "id": "QfkTTvCBt-Z2",
        "colab_type": "code",
        "outputId": "f9600895-ca6a-4088-d2d4-7131d738a027",
        "colab": {
          "base_uri": "https://localhost:8080/",
          "height": 51
        }
      },
      "source": [
        "print (train_X.shape)\n",
        "print (test_X.shape)"
      ],
      "execution_count": 0,
      "outputs": [
        {
          "output_type": "stream",
          "text": [
            "(2880, 5000)\n",
            "(720, 5000)\n"
          ],
          "name": "stdout"
        }
      ]
    },
    {
      "cell_type": "code",
      "metadata": {
        "id": "UoBf3nr8qvkk",
        "colab_type": "code",
        "colab": {}
      },
      "source": [
        "author_lb = LabelEncoder()\n",
        "Y_train = author_lb.fit_transform(author_train)\n",
        "Y_test = author_lb.transform(author_test)"
      ],
      "execution_count": 0,
      "outputs": []
    },
    {
      "cell_type": "code",
      "metadata": {
        "id": "bnPjNsxIZ9Yx",
        "colab_type": "code",
        "outputId": "088bba0a-b46a-40a9-f8a9-4ebf7511b1d6",
        "colab": {
          "base_uri": "https://localhost:8080/",
          "height": 340
        }
      },
      "source": [
        "## check the grid CV serach to have best parameter on 10 % data set\n",
        "from sklearn.model_selection import GridSearchCV\n",
        "DTC = tree.DecisionTreeClassifier()\n",
        "RF = RandomForestClassifier()\n",
        "GBC = GradientBoostingClassifier()\n",
        "SVM = SVC()\n",
        "LogR = LogisticRegression()\n",
        "NVG = GaussianNB()\n",
        "KNN = KNeighborsClassifier()\n",
        "## 10% of data set\n",
        "X_train_10=train_X[0:1440]\n",
        "Y_train_10=Y_train[0:1440]\n",
        "X_test_10 =test_X[0:360]\n",
        "Y_test_10 =Y_test[0:360]\n",
        "### parameter change\n",
        "parameters_logr = [{'C': [1, 10,100]}]\n",
        "parameters_dtc = [{'max_depth': [10,20,30] }]\n",
        "parameters_RF = [{'n_estimators': [10,20,30]}]\n",
        "parameters_GBC = [{'n_estimators': [10,20,30]}]\n",
        "parameters_svm = [{'C': [1, 10,100]}]\n",
        "parameters_knn = [{'n_neighbors': [10, 20,30]}]\n",
        "model_parameters=[parameters_RF,parameters_logr,parameters_dtc,parameters_GBC,parameters_svm,parameters_knn]\n",
        "## no change param for Naive Bayes\n",
        "\n",
        "model_predict=[RF,LogR,DTC,GBC,SVM,KNN]\n",
        "## SVM will be updated later\n",
        "model_name=['Random Forest Classifier'\n",
        "            ,'Logistic Regression'\n",
        "            , 'Decision Tree Classifer'\n",
        "            ,'Gradient Boosting Classifier'\n",
        "            ,'SVM Classifier'\n",
        "            ,'K-nearest neighbour']\n",
        "for model, name, para in zip (model_predict,model_name,model_parameters):\n",
        "    time_start = time.clock()\n",
        "    grid_search = GridSearchCV(estimator = model,\n",
        "                           param_grid = para,\n",
        "                           scoring = 'accuracy',\n",
        "                           cv = 5)\n",
        "    grid_search = grid_search.fit(X_train_10, Y_train_10)\n",
        "    accuracy = grid_search.best_score_\n",
        "    param_best=grid_search.best_params_\n",
        "    print(name)\n",
        "    #para_out.append(param_best)\n",
        "    print('Best parameter:     ', param_best)\n",
        "    print('Best Accuracy: %12.3f'%accuracy)\n",
        "print('======================End of gettting best parameter======================')\n",
        "## "
      ],
      "execution_count": 0,
      "outputs": [
        {
          "output_type": "stream",
          "text": [
            "Random Forest Classifier\n",
            "Best parameter:      {'n_estimators': 30}\n",
            "Best Accuracy:        0.878\n",
            "Logistic Regression\n",
            "Best parameter:      {'C': 1}\n",
            "Best Accuracy:        0.974\n",
            "Decision Tree Classifer\n",
            "Best parameter:      {'max_depth': 20}\n",
            "Best Accuracy:        0.779\n",
            "Gradient Boosting Classifier\n",
            "Best parameter:      {'n_estimators': 30}\n",
            "Best Accuracy:        0.909\n",
            "SVM Classifier\n",
            "Best parameter:      {'C': 100}\n",
            "Best Accuracy:        0.982\n",
            "K-nearest neighbour\n",
            "Best parameter:      {'n_neighbors': 10}\n",
            "Best Accuracy:        0.156\n",
            "======================End of gettting best parameter======================\n"
          ],
          "name": "stdout"
        }
      ]
    },
    {
      "cell_type": "code",
      "metadata": {
        "id": "NpkmKeVF-8Ca",
        "colab_type": "code",
        "colab": {}
      },
      "source": [
        "DTC = tree.DecisionTreeClassifier(max_depth=100)\n",
        "RF = RandomForestClassifier(n_estimators=20)\n",
        "GBC = GradientBoostingClassifier(n_estimators=50)\n",
        "SVM = SVC(C=100,gamma='auto', class_weight='balanced')\n",
        "LogR = LogisticRegression(C=1)\n",
        "NVG = GaussianNB()\n",
        "#KNN = KNeighborsClassifier(n_neighbors = 12)\n",
        "KNN = KNeighborsClassifier(n_jobs=-1)\n"
      ],
      "execution_count": 0,
      "outputs": []
    },
    {
      "cell_type": "code",
      "metadata": {
        "id": "tMzYfOf1YYUJ",
        "colab_type": "code",
        "outputId": "3963668d-64e8-4960-8105-bf71ad141702",
        "colab": {
          "base_uri": "https://localhost:8080/",
          "height": 357
        }
      },
      "source": [
        "clf=KNN.fit(train_X,Y_train)\n",
        "predictions = clf.predict(test_X)\n",
        "tmp1=classification_report(Y_test,predictions)\n",
        "tmp2=accuracy_score(Y_test,predictions)\n",
        "print(tmp1)\n",
        "print('Accuracy Score: %12.3f'%tmp2)"
      ],
      "execution_count": 0,
      "outputs": [
        {
          "output_type": "stream",
          "text": [
            "              precision    recall  f1-score   support\n",
            "\n",
            "           0       0.12      0.01      0.02       112\n",
            "           1       1.00      0.19      0.31        43\n",
            "           2       1.00      0.98      0.99        45\n",
            "           3       0.94      0.26      0.40       117\n",
            "           4       0.25      0.02      0.04        45\n",
            "           5       0.16      0.27      0.20        41\n",
            "           6       1.00      0.29      0.45        31\n",
            "           7       0.50      0.18      0.26        39\n",
            "           8       0.19      0.27      0.22        41\n",
            "           9       0.00      0.00      0.00        39\n",
            "          10       0.10      1.00      0.18        42\n",
            "          11       0.38      0.12      0.18       125\n",
            "\n",
            "    accuracy                           0.25       720\n",
            "   macro avg       0.47      0.30      0.27       720\n",
            "weighted avg       0.47      0.25      0.25       720\n",
            "\n",
            "Accuracy Score:        0.249\n"
          ],
          "name": "stdout"
        }
      ]
    },
    {
      "cell_type": "code",
      "metadata": {
        "id": "Zhy4ynwaQyZR",
        "colab_type": "code",
        "outputId": "495fb4b1-561f-4706-8373-6f0898552a94",
        "colab": {
          "base_uri": "https://localhost:8080/",
          "height": 1000
        }
      },
      "source": [
        "model_predict=[RF,LogR,DTC,GBC,SVM,NVG,KNN]\n",
        "model_predict=[RF,LogR,DTC,NVG,KNN]\n",
        "## SVM,GBC will be updated later\n",
        "model_name=['Random Forest Classifier'\n",
        "            ,'Logistic Regression'\n",
        "            , 'Decision Tree Classifer'\n",
        "#            ,'Gradient Boosting Classifier'\n",
        "#            ,'SVM Classifier'\n",
        "            ,'Naive Bayes Gauss'\n",
        "            ,'K-nearest neighbour']\n",
        "## loop\n",
        "for model, name in zip (model_predict,model_name):\n",
        "    time_start = time.clock()\n",
        "    clf=model.fit(train_X,Y_train)\n",
        "    predictions = clf.predict(test_X)\n",
        "    tmp1=classification_report(Y_test,predictions)\n",
        "    tmp2=accuracy_score(Y_test,predictions)\n",
        "    time_elapsed = (time.clock() - time_start)\n",
        "    print(name)\n",
        "    print(tmp1)\n",
        "    print('Accuracy Score: %12.3f'%tmp2)\n",
        "    print('Computing time: %12.3f second'%time_elapsed)\n",
        "    print('==========================================================')\n",
        "    #break\n",
        "    \n",
        "    \n",
        "print('======================End of predicting======================')\n",
        "## "
      ],
      "execution_count": 0,
      "outputs": [
        {
          "output_type": "stream",
          "text": [
            "Random Forest Classifier\n",
            "              precision    recall  f1-score   support\n",
            "\n",
            "           0       0.85      0.98      0.91       112\n",
            "           1       1.00      0.91      0.95        43\n",
            "           2       1.00      1.00      1.00        45\n",
            "           3       0.90      0.99      0.94       117\n",
            "           4       0.93      0.96      0.95        45\n",
            "           5       1.00      0.93      0.96        41\n",
            "           6       0.94      0.55      0.69        31\n",
            "           7       0.90      0.49      0.63        39\n",
            "           8       0.97      0.90      0.94        41\n",
            "           9       0.87      0.87      0.87        39\n",
            "          10       0.79      0.98      0.87        42\n",
            "          11       0.98      0.98      0.98       125\n",
            "\n",
            "    accuracy                           0.92       720\n",
            "   macro avg       0.93      0.88      0.89       720\n",
            "weighted avg       0.92      0.92      0.91       720\n",
            "\n",
            "Accuracy Score:        0.918\n",
            "Computing time:        0.712 second\n",
            "==========================================================\n",
            "Logistic Regression\n",
            "              precision    recall  f1-score   support\n",
            "\n",
            "           0       1.00      1.00      1.00       112\n",
            "           1       1.00      1.00      1.00        43\n",
            "           2       1.00      0.93      0.97        45\n",
            "           3       1.00      1.00      1.00       117\n",
            "           4       1.00      1.00      1.00        45\n",
            "           5       1.00      1.00      1.00        41\n",
            "           6       1.00      1.00      1.00        31\n",
            "           7       0.95      1.00      0.97        39\n",
            "           8       1.00      0.98      0.99        41\n",
            "           9       1.00      1.00      1.00        39\n",
            "          10       0.98      1.00      0.99        42\n",
            "          11       0.99      1.00      1.00       125\n",
            "\n",
            "    accuracy                           0.99       720\n",
            "   macro avg       0.99      0.99      0.99       720\n",
            "weighted avg       0.99      0.99      0.99       720\n",
            "\n",
            "Accuracy Score:        0.994\n",
            "Computing time:        2.565 second\n",
            "==========================================================\n",
            "Decision Tree Classifer\n",
            "              precision    recall  f1-score   support\n",
            "\n",
            "           0       0.81      0.78      0.79       112\n",
            "           1       0.92      0.79      0.85        43\n",
            "           2       1.00      1.00      1.00        45\n",
            "           3       0.90      0.90      0.90       117\n",
            "           4       0.90      0.60      0.72        45\n",
            "           5       0.85      0.95      0.90        41\n",
            "           6       0.54      0.68      0.60        31\n",
            "           7       0.54      0.54      0.54        39\n",
            "           8       0.81      0.85      0.83        41\n",
            "           9       0.76      0.64      0.69        39\n",
            "          10       0.74      0.83      0.79        42\n",
            "          11       0.89      0.97      0.93       125\n",
            "\n",
            "    accuracy                           0.83       720\n",
            "   macro avg       0.80      0.79      0.79       720\n",
            "weighted avg       0.83      0.83      0.83       720\n",
            "\n",
            "Accuracy Score:        0.826\n",
            "Computing time:        1.719 second\n",
            "==========================================================\n",
            "Naive Bayes Gauss\n",
            "              precision    recall  f1-score   support\n",
            "\n",
            "           0       0.81      0.97      0.88       112\n",
            "           1       0.59      1.00      0.74        43\n",
            "           2       0.88      1.00      0.94        45\n",
            "           3       0.94      1.00      0.97       117\n",
            "           4       0.69      0.84      0.76        45\n",
            "           5       1.00      0.39      0.56        41\n",
            "           6       0.67      0.97      0.79        31\n",
            "           7       0.77      0.44      0.56        39\n",
            "           8       1.00      0.59      0.74        41\n",
            "           9       0.70      0.85      0.77        39\n",
            "          10       1.00      0.07      0.13        42\n",
            "          11       0.98      0.98      0.98       125\n",
            "\n",
            "    accuracy                           0.83       720\n",
            "   macro avg       0.84      0.76      0.74       720\n",
            "weighted avg       0.86      0.83      0.80       720\n",
            "\n",
            "Accuracy Score:        0.831\n",
            "Computing time:        0.550 second\n",
            "==========================================================\n",
            "K-nearest neighbour\n",
            "              precision    recall  f1-score   support\n",
            "\n",
            "           0       0.12      0.01      0.02       112\n",
            "           1       1.00      0.19      0.31        43\n",
            "           2       1.00      0.98      0.99        45\n",
            "           3       0.94      0.26      0.40       117\n",
            "           4       0.25      0.02      0.04        45\n",
            "           5       0.16      0.27      0.20        41\n",
            "           6       1.00      0.29      0.45        31\n",
            "           7       0.50      0.18      0.26        39\n",
            "           8       0.19      0.27      0.22        41\n",
            "           9       0.00      0.00      0.00        39\n",
            "          10       0.10      1.00      0.18        42\n",
            "          11       0.38      0.12      0.18       125\n",
            "\n",
            "    accuracy                           0.25       720\n",
            "   macro avg       0.47      0.30      0.27       720\n",
            "weighted avg       0.47      0.25      0.25       720\n",
            "\n",
            "Accuracy Score:        0.249\n",
            "Computing time:       26.732 second\n",
            "==========================================================\n",
            "======================End of predicting======================\n"
          ],
          "name": "stdout"
        }
      ]
    },
    {
      "cell_type": "markdown",
      "metadata": {
        "id": "KNX1B01XzYfF",
        "colab_type": "text"
      },
      "source": [
        "As we can see, using bag of word, KNN performs badly which produces 18 % of accuracy. Naive Bayes and Logics Regression shows good results where the accuracy is 83 % and 95 % respectively. "
      ]
    },
    {
      "cell_type": "markdown",
      "metadata": {
        "id": "Td81ZsePBXMu",
        "colab_type": "text"
      },
      "source": [
        "###3.2 TFIDF"
      ]
    },
    {
      "cell_type": "markdown",
      "metadata": {
        "id": "_uOL9CgClur3",
        "colab_type": "text"
      },
      "source": [
        "Now we will exam the performance of the TFIDF scheme."
      ]
    },
    {
      "cell_type": "code",
      "metadata": {
        "id": "kCeUImNAzWk7",
        "colab_type": "code",
        "colab": {}
      },
      "source": [
        "from sklearn.feature_extraction.text import TfidfVectorizer\n",
        "vectorizer = TfidfVectorizer(max_features = 5000).fit(text_train) \n",
        "train_X = vectorizer.transform(text_train)\n",
        "train_X = train_X.toarray()\n",
        "test_X = vectorizer.transform(text_test)\n",
        "test_X = test_X.toarray()\n",
        "## use standard scaler \n",
        "#scale=StandardScaler()\n",
        "#X_train_sc=scale.fit_transform(train_X)\n",
        "#X_test_sc=scale.transform(test_X)"
      ],
      "execution_count": 0,
      "outputs": []
    },
    {
      "cell_type": "code",
      "metadata": {
        "id": "TRBSpfjrzWjZ",
        "colab_type": "code",
        "colab": {}
      },
      "source": [
        "DTC = tree.DecisionTreeClassifier(max_depth=100)\n",
        "RF = RandomForestClassifier(n_estimators=20)\n",
        "GBC = GradientBoostingClassifier(n_estimators=50)\n",
        "SVM = SVC(C=100,gamma='auto', class_weight='balanced')\n",
        "LogR = LogisticRegression(C=1)\n",
        "NVG = GaussianNB()\n",
        "#KNN = KNeighborsClassifier(n_neighbors = 12)\n",
        "KNN = KNeighborsClassifier(n_jobs=-1)\n"
      ],
      "execution_count": 0,
      "outputs": []
    },
    {
      "cell_type": "code",
      "metadata": {
        "id": "EE5nZBu-zWgn",
        "colab_type": "code",
        "outputId": "bd0f73dd-2885-46d5-d3c0-5c2238b81555",
        "colab": {
          "base_uri": "https://localhost:8080/",
          "height": 1000
        }
      },
      "source": [
        "model_predict=[RF,LogR,DTC,GBC,SVM,NVG,KNN]\n",
        "model_predict=[RF,LogR,DTC,NVG,KNN]\n",
        "## SVM,GBC will be updated later\n",
        "model_name=['Random Forest Classifier'\n",
        "            ,'Logistic Regression'\n",
        "            , 'Decision Tree Classifer'\n",
        "#            ,'Gradient Boosting Classifier'\n",
        "#            ,'SVM Classifier'\n",
        "            ,'Naive Bayes Gauss'\n",
        "            ,'K-nearest neighbour']\n",
        "## loop\n",
        "for model, name in zip (model_predict,model_name):\n",
        "    time_start = time.clock()\n",
        "    clf=model.fit(train_X,Y_train)\n",
        "    predictions = clf.predict(test_X)\n",
        "    tmp1=classification_report(Y_test,predictions)\n",
        "    tmp2=accuracy_score(Y_test,predictions)\n",
        "    time_elapsed = (time.clock() - time_start)\n",
        "    print(name)\n",
        "    print(tmp1)\n",
        "    print('Accuracy Score: %12.3f'%tmp2)\n",
        "    print('Computing time: %12.3f second'%time_elapsed)\n",
        "    print('==========================================================')\n",
        "    #break\n",
        "    \n",
        "    \n",
        "print('======================End of predicting======================')\n",
        "## "
      ],
      "execution_count": 0,
      "outputs": [
        {
          "output_type": "stream",
          "text": [
            "Random Forest Classifier\n",
            "              precision    recall  f1-score   support\n",
            "\n",
            "           0       0.81      1.00      0.89       112\n",
            "           1       1.00      0.98      0.99        43\n",
            "           2       1.00      1.00      1.00        45\n",
            "           3       0.96      1.00      0.98       117\n",
            "           4       1.00      0.87      0.93        45\n",
            "           5       0.90      0.93      0.92        41\n",
            "           6       1.00      0.81      0.89        31\n",
            "           7       1.00      0.44      0.61        39\n",
            "           8       0.92      0.85      0.89        41\n",
            "           9       0.97      0.95      0.96        39\n",
            "          10       0.89      1.00      0.94        42\n",
            "          11       0.99      1.00      1.00       125\n",
            "\n",
            "    accuracy                           0.94       720\n",
            "   macro avg       0.95      0.90      0.92       720\n",
            "weighted avg       0.94      0.94      0.93       720\n",
            "\n",
            "Accuracy Score:        0.936\n",
            "Computing time:        0.760 second\n",
            "==========================================================\n",
            "Logistic Regression\n",
            "              precision    recall  f1-score   support\n",
            "\n",
            "           0       0.95      1.00      0.97       112\n",
            "           1       1.00      0.98      0.99        43\n",
            "           2       1.00      1.00      1.00        45\n",
            "           3       1.00      1.00      1.00       117\n",
            "           4       1.00      1.00      1.00        45\n",
            "           5       1.00      0.93      0.96        41\n",
            "           6       0.97      1.00      0.98        31\n",
            "           7       0.97      0.90      0.93        39\n",
            "           8       1.00      0.93      0.96        41\n",
            "           9       0.97      1.00      0.99        39\n",
            "          10       0.95      0.98      0.96        42\n",
            "          11       0.99      1.00      1.00       125\n",
            "\n",
            "    accuracy                           0.98       720\n",
            "   macro avg       0.98      0.98      0.98       720\n",
            "weighted avg       0.98      0.98      0.98       720\n",
            "\n",
            "Accuracy Score:        0.983\n",
            "Computing time:        0.567 second\n",
            "==========================================================\n",
            "Decision Tree Classifer\n",
            "              precision    recall  f1-score   support\n",
            "\n",
            "           0       0.79      0.80      0.80       112\n",
            "           1       0.82      0.74      0.78        43\n",
            "           2       0.96      1.00      0.98        45\n",
            "           3       0.87      0.85      0.86       117\n",
            "           4       0.88      0.62      0.73        45\n",
            "           5       0.90      0.93      0.92        41\n",
            "           6       0.78      0.68      0.72        31\n",
            "           7       0.54      0.54      0.54        39\n",
            "           8       0.86      0.88      0.87        41\n",
            "           9       0.71      0.69      0.70        39\n",
            "          10       0.73      0.83      0.78        42\n",
            "          11       0.86      0.95      0.90       125\n",
            "\n",
            "    accuracy                           0.82       720\n",
            "   macro avg       0.81      0.79      0.80       720\n",
            "weighted avg       0.82      0.82      0.82       720\n",
            "\n",
            "Accuracy Score:        0.821\n",
            "Computing time:        2.126 second\n",
            "==========================================================\n",
            "Naive Bayes Gauss\n",
            "              precision    recall  f1-score   support\n",
            "\n",
            "           0       0.79      0.97      0.87       112\n",
            "           1       0.54      1.00      0.70        43\n",
            "           2       0.87      1.00      0.93        45\n",
            "           3       0.95      1.00      0.97       117\n",
            "           4       0.66      0.73      0.69        45\n",
            "           5       1.00      0.39      0.56        41\n",
            "           6       0.65      0.97      0.78        31\n",
            "           7       0.76      0.41      0.53        39\n",
            "           8       1.00      0.56      0.72        41\n",
            "           9       0.71      0.82      0.76        39\n",
            "          10       1.00      0.07      0.13        42\n",
            "          11       0.98      0.97      0.98       125\n",
            "\n",
            "    accuracy                           0.82       720\n",
            "   macro avg       0.83      0.74      0.72       720\n",
            "weighted avg       0.86      0.82      0.79       720\n",
            "\n",
            "Accuracy Score:        0.817\n",
            "Computing time:        0.432 second\n",
            "==========================================================\n",
            "K-nearest neighbour\n",
            "              precision    recall  f1-score   support\n",
            "\n",
            "           0       0.99      0.96      0.98       112\n",
            "           1       0.98      1.00      0.99        43\n",
            "           2       0.87      1.00      0.93        45\n",
            "           3       0.97      1.00      0.98       117\n",
            "           4       0.91      0.93      0.92        45\n",
            "           5       0.95      0.98      0.96        41\n",
            "           6       0.85      0.94      0.89        31\n",
            "           7       0.97      0.85      0.90        39\n",
            "           8       1.00      1.00      1.00        41\n",
            "           9       0.82      0.92      0.87        39\n",
            "          10       0.90      0.67      0.77        42\n",
            "          11       0.99      0.97      0.98       125\n",
            "\n",
            "    accuracy                           0.95       720\n",
            "   macro avg       0.93      0.93      0.93       720\n",
            "weighted avg       0.95      0.95      0.95       720\n",
            "\n",
            "Accuracy Score:        0.949\n",
            "Computing time:       28.756 second\n",
            "==========================================================\n",
            "======================End of predicting======================\n"
          ],
          "name": "stdout"
        }
      ]
    },
    {
      "cell_type": "markdown",
      "metadata": {
        "id": "Z4q0hrs-mGMy",
        "colab_type": "text"
      },
      "source": [
        "Again, the KNN seems to perform worst among the classifier. In these scheme, all of the classifier execpt KNN yield a accuracy larger than 70 %."
      ]
    },
    {
      "cell_type": "markdown",
      "metadata": {
        "id": "YCmT-HlEm_dO",
        "colab_type": "text"
      },
      "source": [
        "### 3.3 Word2vec method"
      ]
    },
    {
      "cell_type": "code",
      "metadata": {
        "id": "5O5_d326qWj3",
        "colab_type": "code",
        "colab": {}
      },
      "source": [
        "## split text \n",
        "split_text=[]\n",
        "test=df.Text\n",
        "for i in range (len(test)):\n",
        "  split_text.append(test[i].split())"
      ],
      "execution_count": 0,
      "outputs": []
    },
    {
      "cell_type": "code",
      "metadata": {
        "id": "6SUREzSHnovr",
        "colab_type": "code",
        "outputId": "298994b7-be93-4f24-b6e0-70ddc611bacf",
        "colab": {
          "base_uri": "https://localhost:8080/",
          "height": 34
        }
      },
      "source": [
        "# converting format\n",
        "print(len(split_text))"
      ],
      "execution_count": 24,
      "outputs": [
        {
          "output_type": "stream",
          "text": [
            "3600\n"
          ],
          "name": "stdout"
        }
      ]
    },
    {
      "cell_type": "code",
      "metadata": {
        "id": "QEbSOdjazWfr",
        "colab_type": "code",
        "colab": {}
      },
      "source": [
        "from gensim.models import Word2Vec, KeyedVectors\n",
        "w2v_model = Word2Vec(split_text, window=2, workers=10,size=500)"
      ],
      "execution_count": 0,
      "outputs": []
    },
    {
      "cell_type": "code",
      "metadata": {
        "id": "qVx_EmLqzWc4",
        "colab_type": "code",
        "outputId": "76fa4944-051b-4b27-cbb3-d38910e5b544",
        "colab": {
          "base_uri": "https://localhost:8080/",
          "height": 34
        }
      },
      "source": [
        "print(w2v_model)"
      ],
      "execution_count": 111,
      "outputs": [
        {
          "output_type": "stream",
          "text": [
            "Word2Vec(vocab=16587, size=500, alpha=0.025)\n"
          ],
          "name": "stdout"
        }
      ]
    },
    {
      "cell_type": "code",
      "metadata": {
        "id": "htdw3kenrxWa",
        "colab_type": "code",
        "outputId": "6a59f917-11fd-451f-e41c-b53c165d33f6",
        "colab": {
          "base_uri": "https://localhost:8080/",
          "height": 34
        }
      },
      "source": [
        "vocab = w2v_model.wv.vocab\n",
        "wordsInVocab = len(vocab)\n",
        "print(wordsInVocab)"
      ],
      "execution_count": 112,
      "outputs": [
        {
          "output_type": "stream",
          "text": [
            "16587\n"
          ],
          "name": "stdout"
        }
      ]
    },
    {
      "cell_type": "code",
      "metadata": {
        "id": "IvVfiLBTZdjN",
        "colab_type": "code",
        "colab": {}
      },
      "source": [
        "def document_vector(word2vec_model, doc):\n",
        "    # remove out-of-vocabulary words\n",
        "    doc = [word for word in doc if word in word2vec_model.wv.vocab]\n",
        "    return np.mean(word2vec_model[doc], axis=0)\n",
        "X =[]\n",
        "for doc in split_text: #look up each doc in model\n",
        "    X.append(document_vector(w2v_model, doc))\n",
        "X = np.array(X) #list to array"
      ],
      "execution_count": 0,
      "outputs": []
    },
    {
      "cell_type": "code",
      "metadata": {
        "id": "QBEYK9IpbYmo",
        "colab_type": "code",
        "colab": {
          "base_uri": "https://localhost:8080/",
          "height": 34
        },
        "outputId": "f417042e-3575-407e-d648-de96e4c3c4a4"
      },
      "source": [
        "print(X.shape)\n",
        "#print(X[1])"
      ],
      "execution_count": 124,
      "outputs": [
        {
          "output_type": "stream",
          "text": [
            "(3600, 500)\n"
          ],
          "name": "stdout"
        }
      ]
    },
    {
      "cell_type": "code",
      "metadata": {
        "id": "e20zdzNkr7Ro",
        "colab_type": "code",
        "colab": {}
      },
      "source": [
        "X_train, X_test, Y_train, Y_test = train_test_split(X, df.Author, test_size = 0.2, random_state = 5)"
      ],
      "execution_count": 0,
      "outputs": []
    },
    {
      "cell_type": "code",
      "metadata": {
        "id": "Th-mfy9w5Ddg",
        "colab_type": "code",
        "colab": {}
      },
      "source": [
        "author_lb = LabelEncoder()\n",
        "Y_train_w2v = author_lb.fit_transform(Y_train)\n",
        "Y_test_w2v = author_lb.transform(Y_test)"
      ],
      "execution_count": 0,
      "outputs": []
    },
    {
      "cell_type": "code",
      "metadata": {
        "id": "aDLOO8a45R7i",
        "colab_type": "code",
        "colab": {}
      },
      "source": [
        "DTC = tree.DecisionTreeClassifier(max_depth=100)\n",
        "RF = RandomForestClassifier(n_estimators=20)\n",
        "GBC = GradientBoostingClassifier(n_estimators=50)\n",
        "SVM = SVC(C=100,gamma='auto', class_weight='balanced')\n",
        "LogR = LogisticRegression(C=1)\n",
        "NVG = GaussianNB()\n",
        "#KNN = KNeighborsClassifier(n_neighbors = 12)\n",
        "KNN = KNeighborsClassifier(n_jobs=-1)"
      ],
      "execution_count": 0,
      "outputs": []
    },
    {
      "cell_type": "code",
      "metadata": {
        "id": "tL6FywKt56bM",
        "colab_type": "code",
        "outputId": "126f8f2f-7bf1-4d54-aec4-8c9db630f129",
        "colab": {
          "base_uri": "https://localhost:8080/",
          "height": 1000
        }
      },
      "source": [
        "model_predict=[RF,LogR,DTC,GBC,SVM,NVG,KNN]\n",
        "model_predict=[RF,LogR,DTC,NVG,KNN]\n",
        "## SVM,GBC will be updated later\n",
        "model_name=['Random Forest Classifier'\n",
        "            ,'Logistic Regression'\n",
        "            , 'Decision Tree Classifer'\n",
        "#            ,'Gradient Boosting Classifier'\n",
        "#            ,'SVM Classifier'\n",
        "            ,'Naive Bayes Gauss'\n",
        "            ,'K-nearest neighbour']\n",
        "## loop\n",
        "for model, name in zip (model_predict,model_name):\n",
        "    time_start = time.clock()\n",
        "    clf=model.fit(X_train,Y_train_w2v)\n",
        "    predictions = clf.predict(X_test)\n",
        "    tmp1=classification_report(Y_test_w2v,predictions)\n",
        "    tmp2=accuracy_score(Y_test_w2v,predictions)\n",
        "    time_elapsed = (time.clock() - time_start)\n",
        "    print(name)\n",
        "    print(tmp1)\n",
        "    print('Accuracy Score: %12.3f'%tmp2)\n",
        "    print('Computing time: %12.3f second'%time_elapsed)\n",
        "    print('==========================================================')\n",
        "    #break\n",
        "    \n",
        "    \n",
        "print('======================End of predicting======================')\n",
        "## "
      ],
      "execution_count": 128,
      "outputs": [
        {
          "output_type": "stream",
          "text": [
            "Random Forest Classifier\n",
            "              precision    recall  f1-score   support\n",
            "\n",
            "           0       0.74      0.94      0.83       112\n",
            "           1       0.82      0.63      0.71        43\n",
            "           2       1.00      1.00      1.00        45\n",
            "           3       0.93      0.97      0.95       117\n",
            "           4       0.84      0.91      0.87        45\n",
            "           5       0.82      0.68      0.75        41\n",
            "           6       0.75      0.77      0.76        31\n",
            "           7       0.68      0.49      0.57        39\n",
            "           8       0.85      0.68      0.76        41\n",
            "           9       0.76      0.90      0.82        39\n",
            "          10       0.80      0.57      0.67        42\n",
            "          11       0.94      0.94      0.94       125\n",
            "\n",
            "    accuracy                           0.84       720\n",
            "   macro avg       0.83      0.79      0.80       720\n",
            "weighted avg       0.84      0.84      0.84       720\n",
            "\n",
            "Accuracy Score:        0.843\n",
            "Computing time:        1.152 second\n",
            "==========================================================\n",
            "Logistic Regression\n",
            "              precision    recall  f1-score   support\n",
            "\n",
            "           0       0.62      0.92      0.74       112\n",
            "           1       0.80      0.28      0.41        43\n",
            "           2       1.00      1.00      1.00        45\n",
            "           3       0.81      0.99      0.89       117\n",
            "           4       0.80      0.87      0.83        45\n",
            "           5       0.85      0.56      0.68        41\n",
            "           6       0.81      0.42      0.55        31\n",
            "           7       0.79      0.56      0.66        39\n",
            "           8       0.87      0.66      0.75        41\n",
            "           9       0.75      0.77      0.76        39\n",
            "          10       0.62      0.38      0.47        42\n",
            "          11       0.92      0.98      0.95       125\n",
            "\n",
            "    accuracy                           0.79       720\n",
            "   macro avg       0.80      0.70      0.72       720\n",
            "weighted avg       0.80      0.79      0.77       720\n",
            "\n",
            "Accuracy Score:        0.790\n",
            "Computing time:        3.446 second\n",
            "==========================================================\n",
            "Decision Tree Classifer\n",
            "              precision    recall  f1-score   support\n",
            "\n",
            "           0       0.69      0.75      0.72       112\n",
            "           1       0.72      0.67      0.70        43\n",
            "           2       1.00      0.98      0.99        45\n",
            "           3       0.87      0.91      0.89       117\n",
            "           4       0.73      0.71      0.72        45\n",
            "           5       0.56      0.59      0.57        41\n",
            "           6       0.48      0.48      0.48        31\n",
            "           7       0.54      0.49      0.51        39\n",
            "           8       0.66      0.56      0.61        41\n",
            "           9       0.71      0.74      0.72        39\n",
            "          10       0.38      0.36      0.37        42\n",
            "          11       0.89      0.87      0.88       125\n",
            "\n",
            "    accuracy                           0.74       720\n",
            "   macro avg       0.69      0.68      0.68       720\n",
            "weighted avg       0.73      0.74      0.73       720\n",
            "\n",
            "Accuracy Score:        0.736\n",
            "Computing time:        2.357 second\n",
            "==========================================================\n",
            "Naive Bayes Gauss\n",
            "              precision    recall  f1-score   support\n",
            "\n",
            "           0       0.76      0.56      0.65       112\n",
            "           1       0.60      0.81      0.69        43\n",
            "           2       1.00      1.00      1.00        45\n",
            "           3       0.95      0.90      0.93       117\n",
            "           4       0.78      0.69      0.73        45\n",
            "           5       0.62      0.61      0.62        41\n",
            "           6       0.40      0.81      0.54        31\n",
            "           7       0.56      0.51      0.53        39\n",
            "           8       0.70      0.63      0.67        41\n",
            "           9       0.59      0.69      0.64        39\n",
            "          10       0.60      0.79      0.68        42\n",
            "          11       0.94      0.82      0.88       125\n",
            "\n",
            "    accuracy                           0.75       720\n",
            "   macro avg       0.71      0.73      0.71       720\n",
            "weighted avg       0.77      0.75      0.75       720\n",
            "\n",
            "Accuracy Score:        0.746\n",
            "Computing time:        0.045 second\n",
            "==========================================================\n",
            "K-nearest neighbour\n",
            "              precision    recall  f1-score   support\n",
            "\n",
            "           0       0.68      0.84      0.75       112\n",
            "           1       0.63      0.86      0.73        43\n",
            "           2       0.98      1.00      0.99        45\n",
            "           3       0.86      0.97      0.91       117\n",
            "           4       0.72      0.98      0.83        45\n",
            "           5       0.75      0.59      0.66        41\n",
            "           6       0.57      0.87      0.69        31\n",
            "           7       0.59      0.26      0.36        39\n",
            "           8       0.80      0.20      0.31        41\n",
            "           9       0.69      0.87      0.77        39\n",
            "          10       0.83      0.12      0.21        42\n",
            "          11       0.94      0.93      0.93       125\n",
            "\n",
            "    accuracy                           0.77       720\n",
            "   macro avg       0.75      0.71      0.68       720\n",
            "weighted avg       0.78      0.77      0.74       720\n",
            "\n",
            "Accuracy Score:        0.774\n",
            "Computing time:        1.881 second\n",
            "==========================================================\n",
            "======================End of predicting======================\n"
          ],
          "name": "stdout"
        }
      ]
    },
    {
      "cell_type": "code",
      "metadata": {
        "id": "QsRFk6LD6T-b",
        "colab_type": "code",
        "colab": {}
      },
      "source": [
        ""
      ],
      "execution_count": 0,
      "outputs": []
    },
    {
      "cell_type": "markdown",
      "metadata": {
        "id": "UemmFOd6OGgN",
        "colab_type": "text"
      },
      "source": [
        "## 4. Recurrent Neural Network for classification"
      ]
    },
    {
      "cell_type": "markdown",
      "metadata": {
        "id": "LDPXeWrdONQb",
        "colab_type": "text"
      },
      "source": [
        "We will use numeric vectorized data from word2vec scheme for this section."
      ]
    },
    {
      "cell_type": "code",
      "metadata": {
        "id": "JUzhzM2TOpwn",
        "colab_type": "code",
        "colab": {}
      },
      "source": [
        "from tensorflow.keras.preprocessing import sequence\n",
        "from tensorflow.keras.models import Sequential\n",
        "from tensorflow.keras.layers import Dense, Embedding, LSTM, SpatialDropout1D\n"
      ],
      "execution_count": 0,
      "outputs": []
    },
    {
      "cell_type": "code",
      "metadata": {
        "id": "9sx3aR05NiaW",
        "colab_type": "code",
        "colab": {
          "base_uri": "https://localhost:8080/",
          "height": 51
        },
        "outputId": "7d953d9b-12fe-4651-cc9a-ded7d3af5867"
      },
      "source": [
        "Y = pd.get_dummies(df['Author']).values\n",
        "X_train_web, X_test_web, Y_train_web, Y_test_web = train_test_split(X,Y, test_size = 0.10, random_state = 42)\n",
        "print(X_train_web.shape,Y_train_web.shape)\n",
        "print(X_test_web.shape,Y_test_web.shape)"
      ],
      "execution_count": 134,
      "outputs": [
        {
          "output_type": "stream",
          "text": [
            "(3240, 500) (3240, 12)\n",
            "(360, 500) (360, 12)\n"
          ],
          "name": "stdout"
        }
      ]
    },
    {
      "cell_type": "code",
      "metadata": {
        "id": "k3cvmCETN1sh",
        "colab_type": "code",
        "colab": {
          "base_uri": "https://localhost:8080/",
          "height": 306
        },
        "outputId": "e75df5fa-d53c-47d9-ea6c-99b11ce6d751"
      },
      "source": [
        "model = Sequential()\n",
        "model.add(Embedding(wordsInVocab, 128, input_length=X.shape[1]))\n",
        "model.add(SpatialDropout1D(0.1))\n",
        "model.add(LSTM(128, dropout=0.1, recurrent_dropout=0.1))\n",
        "model.add(Dense(12, activation='softmax'))\n",
        "model.compile(loss='categorical_crossentropy', optimizer='adam', metrics=['accuracy'])\n",
        "print(model.summary())"
      ],
      "execution_count": 135,
      "outputs": [
        {
          "output_type": "stream",
          "text": [
            "Model: \"sequential_15\"\n",
            "_________________________________________________________________\n",
            "Layer (type)                 Output Shape              Param #   \n",
            "=================================================================\n",
            "embedding_15 (Embedding)     (None, 500, 128)          2123136   \n",
            "_________________________________________________________________\n",
            "spatial_dropout1d (SpatialDr (None, 500, 128)          0         \n",
            "_________________________________________________________________\n",
            "lstm_15 (LSTM)               (None, 128)               131584    \n",
            "_________________________________________________________________\n",
            "dense_15 (Dense)             (None, 12)                1548      \n",
            "=================================================================\n",
            "Total params: 2,256,268\n",
            "Trainable params: 2,256,268\n",
            "Non-trainable params: 0\n",
            "_________________________________________________________________\n",
            "None\n"
          ],
          "name": "stdout"
        }
      ]
    },
    {
      "cell_type": "code",
      "metadata": {
        "id": "jIAS5ux2N2Gs",
        "colab_type": "code",
        "colab": {
          "base_uri": "https://localhost:8080/",
          "height": 170
        },
        "outputId": "9f56e6f3-084a-49eb-e142-5576734da8a1"
      },
      "source": [
        "from keras.callbacks import EarlyStopping\n",
        "epochs = 5\n",
        "batch_size = 64\n",
        "history = model.fit(X_train_web, Y_train_web, epochs=epochs, batch_size=batch_size,validation_split=0.1,callbacks=[EarlyStopping(monitor='val_loss', patience=3, min_delta=0.0001)])"
      ],
      "execution_count": 136,
      "outputs": [
        {
          "output_type": "stream",
          "text": [
            "Train on 2916 samples, validate on 324 samples\n",
            "Epoch 1/5\n",
            "2916/2916 [==============================] - 90s 31ms/sample - loss: 2.3741 - acc: 0.1632 - val_loss: 2.3767 - val_acc: 0.1759\n",
            "Epoch 2/5\n",
            "2916/2916 [==============================] - 88s 30ms/sample - loss: 2.3439 - acc: 0.1660 - val_loss: 2.3914 - val_acc: 0.1698\n",
            "Epoch 3/5\n",
            "2916/2916 [==============================] - 88s 30ms/sample - loss: 2.3466 - acc: 0.1588 - val_loss: 2.3772 - val_acc: 0.1698\n",
            "Epoch 4/5\n",
            "2916/2916 [==============================] - 89s 30ms/sample - loss: 2.3446 - acc: 0.1639 - val_loss: 2.3811 - val_acc: 0.1698\n"
          ],
          "name": "stdout"
        }
      ]
    },
    {
      "cell_type": "markdown",
      "metadata": {
        "id": "pyHrnxOtguEQ",
        "colab_type": "text"
      },
      "source": [
        "Using the data with the w2v method applied in the RNN show bad accuracy.\n",
        "Let's try text_to_sequence method"
      ]
    },
    {
      "cell_type": "code",
      "metadata": {
        "id": "xnS2JFNdgskF",
        "colab_type": "code",
        "colab": {
          "base_uri": "https://localhost:8080/",
          "height": 34
        },
        "outputId": "aaba03a5-b5f4-43d7-a549-8ce56e419eb0"
      },
      "source": [
        "from keras.preprocessing.text import Tokenizer\n",
        "from keras.preprocessing.sequence import pad_sequences\n",
        "ftokenizer = Tokenizer(num_words=10000, filters='!\"#$%&()*+,-./:;<=>?@[\\]^_`{|}~', lower=True)\n",
        "tokenizer.fit_on_texts(df['Text'].values)\n",
        "word_index = tokenizer.word_index\n",
        "print('Found %s unique tokens.' % len(word_index))"
      ],
      "execution_count": 139,
      "outputs": [
        {
          "output_type": "stream",
          "text": [
            "Found 41745 unique tokens.\n"
          ],
          "name": "stdout"
        }
      ]
    },
    {
      "cell_type": "code",
      "metadata": {
        "id": "1nthknKeN2Bf",
        "colab_type": "code",
        "colab": {
          "base_uri": "https://localhost:8080/",
          "height": 34
        },
        "outputId": "aeda4a99-e5d7-4fa6-de31-aaa1b649f07b"
      },
      "source": [
        "X = tokenizer.texts_to_sequences(df['Text'].values)\n",
        "X = pad_sequences(X, maxlen=200) ## 200 value to present a sentence\n",
        "print('Shape of data tensor:', X.shape)"
      ],
      "execution_count": 145,
      "outputs": [
        {
          "output_type": "stream",
          "text": [
            "Shape of data tensor: (3600, 200)\n"
          ],
          "name": "stdout"
        }
      ]
    },
    {
      "cell_type": "code",
      "metadata": {
        "id": "uwkku4-NydhP",
        "colab_type": "code",
        "colab": {}
      },
      "source": [
        "X_train_rnn, X_test_rnn, Y_train_rnn, Y_test_rnn = train_test_split(X, Y, test_size = 0.2, random_state = 5)"
      ],
      "execution_count": 0,
      "outputs": []
    },
    {
      "cell_type": "code",
      "metadata": {
        "id": "Eq3z-2wLEauN",
        "colab_type": "code",
        "colab": {
          "base_uri": "https://localhost:8080/",
          "height": 102
        },
        "outputId": "a068fe99-0085-49a5-a2c9-0df01a13b4ee"
      },
      "source": [
        "# reduce the side of X, take only 100 first words\n",
        "X_train_rnn=np.array(X_train_rnn)\n",
        "X_test_rnn=np.array(X_test_rnn)\n",
        "print('shape of train and test data to rnn')\n",
        "print(X_train_rnn.shape)\n",
        "print(X_test_rnn.shape)\n",
        "print(Y_train_rnn.shape)\n",
        "print(Y_test_rnn.shape)"
      ],
      "execution_count": 147,
      "outputs": [
        {
          "output_type": "stream",
          "text": [
            "shape of train and test data to rnn\n",
            "(2880, 200)\n",
            "(720, 200)\n",
            "(2880, 12)\n",
            "(720, 12)\n"
          ],
          "name": "stdout"
        }
      ]
    },
    {
      "cell_type": "code",
      "metadata": {
        "id": "AL-3-ZTX0fNT",
        "colab_type": "code",
        "colab": {
          "base_uri": "https://localhost:8080/",
          "height": 255
        },
        "outputId": "4ec61ac4-0d28-4952-8864-9024ee34408f"
      },
      "source": [
        "model_rnn = Sequential()\n",
        "model_rnn.add(Embedding(10000, 128, input_length=200))\n",
        "model_rnn.add(LSTM(128, dropout=0.2, recurrent_dropout=0.2))\n",
        "model_rnn.add(Dense(12, activation='softmax'))\n",
        "model_rnn.summary()\n",
        "model_rnn.compile(loss='categorical_crossentropy', optimizer='adam', metrics=['accuracy'])\n"
      ],
      "execution_count": 151,
      "outputs": [
        {
          "output_type": "stream",
          "text": [
            "Model: \"sequential_17\"\n",
            "_________________________________________________________________\n",
            "Layer (type)                 Output Shape              Param #   \n",
            "=================================================================\n",
            "embedding_17 (Embedding)     (None, 200, 128)          1280000   \n",
            "_________________________________________________________________\n",
            "lstm_17 (LSTM)               (None, 128)               131584    \n",
            "_________________________________________________________________\n",
            "dense_17 (Dense)             (None, 12)                1548      \n",
            "=================================================================\n",
            "Total params: 1,413,132\n",
            "Trainable params: 1,413,132\n",
            "Non-trainable params: 0\n",
            "_________________________________________________________________\n"
          ],
          "name": "stdout"
        }
      ]
    },
    {
      "cell_type": "code",
      "metadata": {
        "id": "7sK8BqNiVf7E",
        "colab_type": "code",
        "outputId": "c98edaa0-e820-4d4e-d902-fb049a748392",
        "colab": {
          "base_uri": "https://localhost:8080/",
          "height": 714
        }
      },
      "source": [
        "# train model\n",
        "epochs = 20\n",
        "batch_size = 64\n",
        "history = model_rnn.fit(X_train_rnn, Y_train_rnn, epochs=epochs, batch_size=batch_size,validation_split=0.1)\n",
        "## valid by 10 % of train"
      ],
      "execution_count": 152,
      "outputs": [
        {
          "output_type": "stream",
          "text": [
            "Train on 2592 samples, validate on 288 samples\n",
            "Epoch 1/20\n",
            "2592/2592 [==============================] - 34s 13ms/sample - loss: 2.3147 - acc: 0.2122 - val_loss: 1.9714 - val_acc: 0.2812\n",
            "Epoch 2/20\n",
            "2592/2592 [==============================] - 32s 12ms/sample - loss: 1.6195 - acc: 0.4028 - val_loss: 1.4427 - val_acc: 0.4896\n",
            "Epoch 3/20\n",
            "2592/2592 [==============================] - 32s 12ms/sample - loss: 1.3357 - acc: 0.5181 - val_loss: 1.2694 - val_acc: 0.6181\n",
            "Epoch 4/20\n",
            "2592/2592 [==============================] - 32s 12ms/sample - loss: 0.9780 - acc: 0.6829 - val_loss: 0.9516 - val_acc: 0.6979\n",
            "Epoch 5/20\n",
            "2592/2592 [==============================] - 32s 12ms/sample - loss: 0.6368 - acc: 0.8210 - val_loss: 0.6230 - val_acc: 0.7986\n",
            "Epoch 6/20\n",
            "2592/2592 [==============================] - 32s 12ms/sample - loss: 0.4153 - acc: 0.8958 - val_loss: 0.4702 - val_acc: 0.8438\n",
            "Epoch 7/20\n",
            "2592/2592 [==============================] - 32s 12ms/sample - loss: 0.2704 - acc: 0.9236 - val_loss: 0.3885 - val_acc: 0.8681\n",
            "Epoch 8/20\n",
            "2592/2592 [==============================] - 32s 12ms/sample - loss: 0.1852 - acc: 0.9525 - val_loss: 0.4381 - val_acc: 0.8507\n",
            "Epoch 9/20\n",
            "2592/2592 [==============================] - 32s 12ms/sample - loss: 0.1530 - acc: 0.9637 - val_loss: 0.3607 - val_acc: 0.8611\n",
            "Epoch 10/20\n",
            "2592/2592 [==============================] - 32s 12ms/sample - loss: 0.0842 - acc: 0.9826 - val_loss: 0.3422 - val_acc: 0.8889\n",
            "Epoch 11/20\n",
            "2592/2592 [==============================] - 32s 12ms/sample - loss: 0.0931 - acc: 0.9788 - val_loss: 0.5224 - val_acc: 0.8333\n",
            "Epoch 12/20\n",
            "2592/2592 [==============================] - 32s 12ms/sample - loss: 0.0837 - acc: 0.9830 - val_loss: 0.4432 - val_acc: 0.8542\n",
            "Epoch 13/20\n",
            "2592/2592 [==============================] - 32s 12ms/sample - loss: 0.0411 - acc: 0.9934 - val_loss: 0.4076 - val_acc: 0.8819\n",
            "Epoch 14/20\n",
            "2592/2592 [==============================] - 32s 12ms/sample - loss: 0.0203 - acc: 0.9977 - val_loss: 0.3834 - val_acc: 0.8924\n",
            "Epoch 15/20\n",
            "2592/2592 [==============================] - 32s 12ms/sample - loss: 0.0147 - acc: 0.9981 - val_loss: 0.3617 - val_acc: 0.8993\n",
            "Epoch 16/20\n",
            "2592/2592 [==============================] - 32s 12ms/sample - loss: 0.0136 - acc: 0.9981 - val_loss: 0.3740 - val_acc: 0.8958\n",
            "Epoch 17/20\n",
            "2592/2592 [==============================] - 32s 12ms/sample - loss: 0.0116 - acc: 0.9992 - val_loss: 0.3929 - val_acc: 0.8854\n",
            "Epoch 18/20\n",
            "2592/2592 [==============================] - 32s 12ms/sample - loss: 0.0127 - acc: 0.9977 - val_loss: 0.4163 - val_acc: 0.8785\n",
            "Epoch 19/20\n",
            "2592/2592 [==============================] - 32s 12ms/sample - loss: 0.0087 - acc: 0.9988 - val_loss: 0.3640 - val_acc: 0.9028\n",
            "Epoch 20/20\n",
            "2592/2592 [==============================] - 32s 12ms/sample - loss: 0.0066 - acc: 0.9988 - val_loss: 0.3694 - val_acc: 0.8993\n"
          ],
          "name": "stdout"
        }
      ]
    },
    {
      "cell_type": "code",
      "metadata": {
        "id": "RB1iIZ1lWIqV",
        "colab_type": "code",
        "colab": {
          "base_uri": "https://localhost:8080/",
          "height": 391
        },
        "outputId": "13b44ac6-50dd-4e21-e55f-6e8c6de6c102"
      },
      "source": [
        "## check the accuracy\n",
        "score, acc= model_rnn.evaluate(X_test_rnn, Y_test_rnn,\n",
        "                           batch_size=32,\n",
        "                           verbose=2)\n",
        "print('Score value',score)\n",
        "print('Accuracy',acc)\n",
        "## report \n",
        "y_true= [np.where(r==1)[0][0] for r in Y_test_rnn]\n",
        "yhat_classes = model_rnn.predict_classes(X_test_rnn, verbose=0)\n",
        "print(classification_report(y_true,yhat_classes)) # later\n"
      ],
      "execution_count": 163,
      "outputs": [
        {
          "output_type": "stream",
          "text": [
            "720/720 - 2s - loss: 0.4342 - acc: 0.8806\n",
            "Score value 0.4342166483402252\n",
            "Accuracy 0.88055557\n",
            "              precision    recall  f1-score   support\n",
            "\n",
            "           0       0.93      0.89      0.91       112\n",
            "           1       0.60      0.63      0.61        43\n",
            "           2       0.87      1.00      0.93        45\n",
            "           3       0.93      0.97      0.95       117\n",
            "           4       0.74      0.71      0.73        45\n",
            "           5       0.98      0.98      0.98        41\n",
            "           6       0.69      0.58      0.63        31\n",
            "           7       0.95      0.95      0.95        39\n",
            "           8       1.00      1.00      1.00        41\n",
            "           9       0.45      0.38      0.42        39\n",
            "          10       0.98      1.00      0.99        42\n",
            "          11       0.98      0.99      0.98       125\n",
            "\n",
            "    accuracy                           0.88       720\n",
            "   macro avg       0.84      0.84      0.84       720\n",
            "weighted avg       0.88      0.88      0.88       720\n",
            "\n"
          ],
          "name": "stdout"
        }
      ]
    },
    {
      "cell_type": "code",
      "metadata": {
        "id": "yGH_r2PmmjDW",
        "colab_type": "code",
        "colab": {
          "base_uri": "https://localhost:8080/",
          "height": 619
        },
        "outputId": "59d5c96e-a211-45a8-b8f1-1ca7eecc4ef3"
      },
      "source": [
        "#Plotting graphs\n",
        "acc = history.history['acc']\n",
        "val_acc = history.history['val_acc']\n",
        "loss = history.history['loss']\n",
        "val_loss = history.history['val_loss']\n",
        "print('Accuracy on train:',acc[len(acc)-1] ) \n",
        "print('Accuracy on valid:',val_acc[len(acc)-1] ) \n",
        "epochs = range(len(acc))\n",
        " \n",
        "plt.plot(epochs, acc, 'b', label='Training acc')\n",
        "plt.plot(epochs, val_acc, 'r', label='Validation acc')\n",
        "plt.title('Training and validation accuracy')\n",
        "plt.legend()\n",
        " \n",
        "plt.figure()\n",
        " \n",
        "plt.plot(epochs, loss, 'b', label='Training loss')\n",
        "plt.plot(epochs, val_loss, 'r', label='Validation loss')\n",
        "plt.title('Training and validation loss')\n",
        "plt.legend()\n",
        "print('lost on train:',loss[len(acc)-1] ) \n",
        "print('lost on valid:',val_loss[len(acc)-1] )  \n",
        "plt.show()\n",
        "## print report to see f1, recall "
      ],
      "execution_count": 164,
      "outputs": [
        {
          "output_type": "stream",
          "text": [
            "Accuracy on train: 0.9988426\n",
            "Accuracy on valid: 0.8993056\n",
            "lost on train: 0.006602672906017598\n",
            "lost on valid: 0.3694363567564223\n"
          ],
          "name": "stdout"
        },
        {
          "output_type": "display_data",
          "data": {
            "image/png": "[encoded data removed]",
            "text/plain": [
              "<Figure size 432x288 with 1 Axes>"
            ]
          },
          "metadata": {
            "tags": []
          }
        },
        {
          "output_type": "display_data",
          "data": {
            "image/png": "[encoded data removed]",
            "text/plain": [
              "<Figure size 432x288 with 1 Axes>"
            ]
          },
          "metadata": {
            "tags": []
          }
        }
      ]
    },
    {
      "cell_type": "code",
      "metadata": {
        "id": "Lozpgrxdkq29",
        "colab_type": "code",
        "colab": {
          "base_uri": "https://localhost:8080/",
          "height": 527
        },
        "outputId": "23b74b91-f425-42e1-d81d-87fc084ab733"
      },
      "source": [
        ""
      ],
      "execution_count": 157,
      "outputs": [
        {
          "output_type": "stream",
          "text": [
            "[[9.99401569e-01 1.12089319e-05 6.55042004e-06 1.36886403e-04\n",
            "  7.05057028e-05 1.22588444e-05 6.17582264e-05 3.11061267e-05\n",
            "  1.83425545e-05 2.77948470e-06 3.49218135e-06 2.43619477e-04]\n",
            " [2.12700033e-05 1.38987685e-04 1.96960173e-03 1.78815014e-06\n",
            "  9.90068734e-01 4.22713129e-06 3.39881044e-05 7.94384454e-04\n",
            "  3.32798336e-05 6.54837396e-03 3.68284062e-04 1.71401734e-05]\n",
            " [1.45100174e-03 2.05186638e-03 4.87688571e-01 4.91989776e-04\n",
            "  1.31919116e-01 1.57431921e-03 2.05406599e-04 1.01388425e-01\n",
            "  3.11156991e-03 5.14009176e-03 6.32933453e-02 2.01684296e-01]\n",
            " [7.72297708e-03 4.38335631e-03 3.16313643e-04 9.72386241e-01\n",
            "  6.80336598e-05 1.95487216e-03 9.88501962e-03 4.84233642e-05\n",
            "  4.10032022e-04 2.43199611e-04 6.08612259e-04 1.97281688e-03]\n",
            " [7.73988140e-05 6.18213671e-04 1.17381642e-04 2.24312389e-05\n",
            "  2.05915130e-04 7.11301435e-03 4.18873155e-04 9.89403248e-01\n",
            "  2.35478670e-04 1.60708209e-03 1.44713005e-04 3.62277606e-05]\n",
            " [7.07704981e-04 1.34743590e-04 2.16850843e-02 4.19368327e-04\n",
            "  1.12975866e-03 7.77115129e-05 2.47656189e-05 5.43438597e-04\n",
            "  1.01774902e-04 7.10634122e-05 5.24100440e-04 9.74580467e-01]\n",
            " [4.80904564e-05 1.92008997e-06 3.39593535e-05 5.38959612e-05\n",
            "  4.12523121e-07 4.18791700e-07 1.30166143e-07 1.24324094e-06\n",
            "  1.41446981e-06 1.04532603e-07 1.52177108e-06 9.99856830e-01]\n",
            " [3.54887698e-06 1.12842194e-04 1.02785730e-03 2.77880736e-05\n",
            "  7.99106783e-04 3.74319759e-04 3.57407371e-05 3.92375950e-04\n",
            "  1.00494479e-03 3.72028037e-04 9.95784342e-01 6.51049559e-05]\n",
            " [9.91212189e-01 1.91436862e-04 7.69558319e-05 4.96794051e-03\n",
            "  3.21805419e-04 1.65162244e-04 1.81913574e-03 1.37260300e-04\n",
            "  1.59445379e-04 5.45308903e-05 4.68126127e-05 8.47316231e-04]\n",
            " [9.95173156e-01 7.96517343e-05 8.18257395e-05 8.19403736e-04\n",
            "  7.65971490e-04 2.24510513e-04 1.91380153e-03 3.20937746e-04\n",
            "  2.31836137e-04 9.76077281e-05 5.09585443e-05 2.40315334e-04]]\n"
          ],
          "name": "stdout"
        }
      ]
    },
    {
      "cell_type": "code",
      "metadata": {
        "id": "zbqXoFaGZDZY",
        "colab_type": "code",
        "colab": {}
      },
      "source": [
        ""
      ],
      "execution_count": 0,
      "outputs": []
    }
  ]
}