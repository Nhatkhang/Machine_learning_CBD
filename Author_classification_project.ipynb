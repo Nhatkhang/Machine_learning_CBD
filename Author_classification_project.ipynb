{
  "nbformat": 4,
  "nbformat_minor": 0,
  "metadata": {
    "colab": {
      "name": "Author classification project.ipynb",
      "provenance": [],
      "collapsed_sections": [],
      "toc_visible": true,
      "machine_shape": "hm",
      "include_colab_link": true
    },
    "kernelspec": {
      "name": "python3",
      "display_name": "Python 3"
    },
    "accelerator": "TPU"
  },
  "cells": [
    {
      "cell_type": "markdown",
      "metadata": {
        "id": "view-in-github",
        "colab_type": "text"
      },
      "source": [
        "<a href=\"https://colab.research.google.com/github/Nhatkhang/Machine_learning_CBD/blob/Project_assignments/Author_classification_project.ipynb\" target=\"_parent\"><img src=\"https://colab.research.google.com/assets/colab-badge.svg\" alt=\"Open In Colab\"/></a>"
      ]
    },
    {
      "cell_type": "markdown",
      "metadata": {
        "id": "9iV8F5hFP6c1",
        "colab_type": "text"
      },
      "source": [
        "Using NLP and techniques of supervised learning (including Deep\n",
        "Learning) and unsupervised learning (emphasizing on unsupervised\n",
        "for this project), and collect thousand texts from Gutenberg project\n",
        "(and 7 novels) for at least 10 authors, build a project to classify\n",
        "text-author. The project should follow the guideline as:\n",
        "\n",
        "1. Pre-process data using Spacy and other methods.\n",
        "2. Perform data exploration\n",
        "3. Using Bag of Word, apply supervised models such as Naive\n",
        "Bayes, Logistic Regression, Decision Tree, Random Forest,\n",
        "KNN, SVM and Gradient Boosting, including GridSearchCV.\n",
        "4. Similar to 3., but using TF-IDF.\n",
        "5. Similar to 3., but using word2vec.\n",
        "6. Appy RNN to do classification.\n",
        "7. Using unsupervised technique, visualize bar graphs for clusters\n",
        "containing 10 author documents. Adjust by silhouette scores.\n",
        "8. Using LSA, LDA and NNMF, print out top ten words (with their\n",
        "highest loading) for each topic modeling. Analyze and compare\n",
        "among three methods.\n",
        "9. Write up analysis and conclusions."
      ]
    },
    {
      "cell_type": "markdown",
      "metadata": {
        "id": "OgI1DJiETuLn",
        "colab_type": "text"
      },
      "source": [
        "# Introduction\n",
        "The main goal of this report is to research and present the NLP techniques including supervised and unsupervised learning to build a authorship classifier. The text processing tools in this report are Bag of word, TF-IDF and word2vec applied to the Gutenberg data set. This report is structured as followed:\n",
        "1. Load and process data\n",
        "2. Data Exploration\n",
        "3. Supervised learning used Bag of Word, TF-IDF, Word2vec\n",
        "4. Recurrent neural network (RNN)\n",
        "5. Unsupervised learning\n",
        "6. Application of LSA\n",
        "7. Conclusion\n",
        "\n",
        "\n",
        "\n",
        "\n"
      ]
    },
    {
      "cell_type": "markdown",
      "metadata": {
        "id": "oO3-5W8tV_aP",
        "colab_type": "text"
      },
      "source": [
        "## 1. Load and process data"
      ]
    },
    {
      "cell_type": "code",
      "metadata": {
        "id": "MceCjTIwRLrP",
        "colab_type": "code",
        "colab": {}
      },
      "source": [
        "### importing libraries\n",
        "import seaborn as sns\n",
        "sns.set(style=\"whitegrid\", color_codes=True)\n",
        "import pandas as pd # data processing, CSV file I/O (e.g. pd.read_csv)\n",
        "import numpy as np # linear algebra\n",
        "import matplotlib.pyplot as plt\n",
        "import sklearn\n",
        "from sklearn.model_selection import train_test_split\n",
        "%matplotlib inline\n",
        "import nltk\n",
        "import random\n",
        "import time\n",
        "from sklearn.preprocessing import LabelBinarizer\n",
        "from nltk.corpus import stopwords # Import the stop word list\n",
        "from random import randint \n",
        "from nltk.tokenize import RegexpTokenizer\n",
        "from sklearn import tree\n",
        "from sklearn import metrics\n",
        "from sklearn.preprocessing import PolynomialFeatures, StandardScaler\n",
        "from sklearn.preprocessing import LabelEncoder, OneHotEncoder\n",
        "from sklearn.model_selection import train_test_split, cross_val_score, cross_val_predict\n",
        "from sklearn.decomposition import PCA\n",
        "from sklearn.linear_model import LogisticRegression\n",
        "from sklearn.metrics import classification_report, accuracy_score\n",
        "from sklearn.naive_bayes import GaussianNB \n",
        "from sklearn.ensemble import RandomForestClassifier, GradientBoostingClassifier\n",
        "from sklearn.svm import SVC\n",
        "from sklearn.neighbors import KNeighborsClassifier \n",
        "import warnings\n",
        "warnings.filterwarnings(\"ignore\")"
      ],
      "execution_count": 0,
      "outputs": []
    },
    {
      "cell_type": "code",
      "metadata": {
        "id": "12OeYiBLRL3y",
        "colab_type": "code",
        "outputId": "b03f644d-fefb-48cf-ae16-ca58d15b83f5",
        "colab": {
          "base_uri": "https://localhost:8080/",
          "height": 102
        }
      },
      "source": [
        "nltk.download('gutenberg')\n",
        "nltk.download('stopwords')"
      ],
      "execution_count": 182,
      "outputs": [
        {
          "output_type": "stream",
          "text": [
            "[nltk_data] Downloading package gutenberg to /root/nltk_data...\n",
            "[nltk_data]   Package gutenberg is already up-to-date!\n",
            "[nltk_data] Downloading package stopwords to /root/nltk_data...\n",
            "[nltk_data]   Package stopwords is already up-to-date!\n"
          ],
          "name": "stdout"
        },
        {
          "output_type": "execute_result",
          "data": {
            "text/plain": [
              "True"
            ]
          },
          "metadata": {
            "tags": []
          },
          "execution_count": 182
        }
      ]
    },
    {
      "cell_type": "code",
      "metadata": {
        "id": "4-RnGRA8RL-b",
        "colab_type": "code",
        "colab": {}
      },
      "source": [
        "file_ID=nltk.corpus.gutenberg.fileids()\n",
        "author_list=[]\n",
        "data_set=[]\n",
        "for f in file_ID: \n",
        "  tmp=(nltk.corpus.gutenberg.words(f))\n",
        "  for i in range(len(tmp)):\n",
        "    if tmp[i]==']':\n",
        "      author_list.append(tmp[1:i])\n",
        "      data_set.append(tmp[i+1:len(tmp)])\n",
        "      break\n",
        "    "
      ],
      "execution_count": 0,
      "outputs": []
    },
    {
      "cell_type": "code",
      "metadata": {
        "id": "bGVc_NZhvCsI",
        "colab_type": "code",
        "colab": {}
      },
      "source": [
        "## remove stopwords\n",
        "for i in range (len(file_ID)):\n",
        "  #data_set[i]=[ w.lower() for w in data_set[i]] ## convert to lower case first\n",
        "  data_set[i]=[w for w in data_set[i] if not w.lower() in stopwords.words(\"english\")]"
      ],
      "execution_count": 0,
      "outputs": []
    },
    {
      "cell_type": "code",
      "metadata": {
        "id": "RbTgYPF2dW72",
        "colab_type": "code",
        "colab": {}
      },
      "source": [
        "author=[]\n",
        "name=[]\n",
        "author_list[3]=['The', 'King', 'by','James', 'Bible'] ## adding by for easy\n",
        "for i in range(len (file_ID)):\n",
        "  #print(i,author_list[i])\n",
        "  for k in range(len (author_list[i])):\n",
        "    if author_list[i][k]=='by':\n",
        "      author.append((author_list[i][k+1:len(author_list[i])]))\n",
        "      name.append((author_list[i][0:k]))\n",
        "authors=[]\n",
        "for i in range(len(file_ID)):\n",
        "  if author[i][-1].isnumeric() == True:\n",
        "    authors.append(author[i][0:-1])\n",
        "  else:\n",
        "    authors.append(author[i])\n",
        "\n",
        "authors=[\" \".join(authors[i]) for i in range(len(authors))]\n",
        "name=[\" \".join(name[i]) for i in range(len(name))]"
      ],
      "execution_count": 0,
      "outputs": []
    },
    {
      "cell_type": "code",
      "metadata": {
        "id": "dI0LM8tDLMi2",
        "colab_type": "code",
        "outputId": "580a69c1-e77c-45b6-bb56-7b6014c8a118",
        "colab": {
          "base_uri": "https://localhost:8080/",
          "height": 323
        }
      },
      "source": [
        "for i,k in zip(authors, name):\n",
        "  print(i,k)"
      ],
      "execution_count": 186,
      "outputs": [
        {
          "output_type": "stream",
          "text": [
            "Jane Austen Emma\n",
            "Jane Austen Persuasion\n",
            "Jane Austen Sense and Sensibility\n",
            "James Bible The King\n",
            "William Blake Poems\n",
            "Sara Cone Bryant Stories to Tell to Children\n",
            "Thornton W . Burgess The Adventures of Buster Bear\n",
            "Lewis Carroll Alice ' s Adventures in Wonderland\n",
            "G . K . Chesterton The Ball and The Cross\n",
            "G . K . Chesterton The Wisdom of Father Brown\n",
            "G . K . Chesterton The Man Who Was Thursday\n",
            "Maria Edgeworth The Parent ' s Assistant ,\n",
            "Herman Melville Moby Dick\n",
            "John Milton Paradise Lost\n",
            "William Shakespeare The Tragedie of Julius Caesar\n",
            "William Shakespeare The Tragedie of Hamlet\n",
            "William Shakespeare The Tragedie of Macbeth\n",
            "Walt Whitman Leaves of Grass\n"
          ],
          "name": "stdout"
        }
      ]
    },
    {
      "cell_type": "markdown",
      "metadata": {
        "id": "XJwoSjqZk5t3",
        "colab_type": "text"
      },
      "source": [
        "We have 18 texts with 12 unique authors. This quantity is too small to build a proper machine learning model, thus, additional stratergy is applied, i.e. each text will be devided into 200 sub texts, then the total number of sample is increased while the labels (authorship) will remain the same. "
      ]
    },
    {
      "cell_type": "code",
      "metadata": {
        "id": "5OZwFR3__CkL",
        "colab_type": "code",
        "colab": {}
      },
      "source": [
        "def randomList(m, n):   # function to create a list with length M and sum of them is N\n",
        "    # Create an array of size m where  \n",
        "    # every element is initialized to 0  \n",
        "    arr = [0] * m;  \n",
        "    # To make the sum of the final list as n  \n",
        "    for i in range(n) : \n",
        "        # Increment any random element  \n",
        "        arr[randint(0, n) % m] += 1;  \n",
        "    return arr"
      ],
      "execution_count": 0,
      "outputs": []
    },
    {
      "cell_type": "code",
      "metadata": {
        "id": "X4vhJEnmRMER",
        "colab_type": "code",
        "outputId": "344ab0fb-0056-4474-ac49-738094224e89",
        "colab": {
          "base_uri": "https://localhost:8080/",
          "height": 323
        }
      },
      "source": [
        "update_data_set=[]\n",
        "update_name=[]\n",
        "update_author=[]\n",
        "for i in range (len(file_ID)):\n",
        "  arr=randomList(200, len(data_set[i]))\n",
        "  st=0\n",
        "  for ii in arr:\n",
        "    fs=st+ii\n",
        "    update_data_set.append(\" \".join(data_set[i][st:fs]))\n",
        "    update_name.append(name[i])\n",
        "    update_author.append(authors[i])\n",
        "    st=fs\n",
        "  print(fs,len(data_set[i]))"
      ],
      "execution_count": 188,
      "outputs": [
        {
          "output_type": "stream",
          "text": [
            "103970 103970\n",
            "52381 52381\n",
            "74822 74822\n",
            "593752 593752\n",
            "5219 5219\n",
            "30661 30661\n",
            "10208 10208\n",
            "19008 19008\n",
            "54019 54019\n",
            "48114 48114\n",
            "38807 38807\n",
            "118066 118066\n",
            "152910 152910\n",
            "61893 61893\n",
            "16079 16079\n",
            "22985 22985\n",
            "14939 14939\n",
            "93680 93680\n"
          ],
          "name": "stdout"
        }
      ]
    },
    {
      "cell_type": "code",
      "metadata": {
        "id": "xk71mNfjy9qg",
        "colab_type": "code",
        "colab": {}
      },
      "source": [
        "tokenizer = RegexpTokenizer(r'\\w+')\n",
        "for i in range (len(update_data_set)):\n",
        "    update_data_set[i] = tokenizer.tokenize(update_data_set[i])\n",
        "    update_data_set[i] = \" \".join(update_data_set[i]) ## rejoin\n"
      ],
      "execution_count": 0,
      "outputs": []
    },
    {
      "cell_type": "markdown",
      "metadata": {
        "id": "WCPp0ij6Evdn",
        "colab_type": "text"
      },
      "source": [
        "We have fisnihed the data preparation, we have a data set consists of 18000 samples categorized into 12 authors."
      ]
    },
    {
      "cell_type": "markdown",
      "metadata": {
        "id": "sbZbo1t9-l_Z",
        "colab_type": "text"
      },
      "source": [
        "##2. Data Exploration"
      ]
    },
    {
      "cell_type": "code",
      "metadata": {
        "id": "Z2AnrotiSpRX",
        "colab_type": "code",
        "colab": {}
      },
      "source": [
        "## convert to data frame\n",
        "data=np.array([update_author, update_name,update_data_set])\n",
        "data=np.transpose(data)\n",
        "df = pd.DataFrame(data, columns=['Author', 'Book_name', 'Text'])"
      ],
      "execution_count": 0,
      "outputs": []
    },
    {
      "cell_type": "code",
      "metadata": {
        "id": "gRck-mru02zS",
        "colab_type": "code",
        "outputId": "df1a0c0b-869f-41cc-b48b-514df5a4a731",
        "colab": {
          "base_uri": "https://localhost:8080/",
          "height": 54
        }
      },
      "source": [
        "print(update_data_set[1])"
      ],
      "execution_count": 191,
      "outputs": [
        {
          "output_type": "stream",
          "text": [
            "give pleasant society Highbury large populous village almost amounting town Hartfield spite separate lawn shrubberies name really belong afforded equals Woodhouses first consequence looked many acquaintance place father universally civil one among could accepted lieu Miss Taylor even half day melancholy change Emma could sigh wish impossible things till father awoke made necessary cheerful spirits required support nervous man easily depressed fond every body used hating part hating change every kind Matrimony origin change always disagreeable means yet reconciled daughter marrying could ever speak compassion though entirely match affection obliged part Miss Taylor habits gentle selfishness never able suppose people could feel differently much disposed think Miss Taylor done sad thing would great deal happier spent rest life Hartfield Emma smiled chatted cheerfully could keep thoughts tea came impossible say exactly said dinner Poor Miss Taylor wish pity Mr Weston ever thought cannot agree papa know cannot Mr Weston good humoured pleasant excellent man thoroughly deserves good wife would Miss Taylor live us ever bear odd humours might house house advantage house three times large never odd humours dear often shall going see coming see us shall always meeting _We_ must begin must go pay wedding visit soon dear get far Randalls distance could walk half far papa nobody thought walking must go carriage sure carriage James like put horses little way poor horses paying visit put Mr Weston stable papa know settled already talked Mr Weston last night James may sure always like going Randalls daughter housemaid doubt whether ever take us anywhere else papa got Hannah good place Nobody thought Hannah till mentioned James obliged glad think lucky would poor James think slighted upon account sure make good servant civil pretty spoken girl great opinion Whenever see always curtseys asks pretty manner needlework observe always turns lock door right way never bangs sure excellent servant great comfort poor Miss Taylor somebody used see Whenever James goes see daughter know hearing us able tell Emma spared exertions maintain happier flow ideas hoped help backgammon get father tolerably evening attacked regrets backgammon table placed visitor immediately afterwards walked made unnecessary Mr Knightley sensible man seven eight thirty old intimate friend family particularly connected elder brother Isabella husband lived mile Highbury frequent visitor always welcome time welcome usual coming directly mutual connexions London returned late dinner days absence walked Hartfield say well Brunswick\n"
          ],
          "name": "stdout"
        }
      ]
    },
    {
      "cell_type": "code",
      "metadata": {
        "id": "M3173pNH9V-x",
        "colab_type": "code",
        "outputId": "37d4235c-4305-4460-df6e-d9cb8b17e293",
        "colab": {
          "base_uri": "https://localhost:8080/",
          "height": 376
        }
      },
      "source": [
        "print('Dataframe dimensions:', data.shape) ## print shape\n",
        "pd.set_option('display.max_columns', None)\n",
        "df.head(10)"
      ],
      "execution_count": 192,
      "outputs": [
        {
          "output_type": "stream",
          "text": [
            "Dataframe dimensions: (3600, 3)\n"
          ],
          "name": "stdout"
        },
        {
          "output_type": "execute_result",
          "data": {
            "text/html": [
              "<div>\n",
              "<style scoped>\n",
              "    .dataframe tbody tr th:only-of-type {\n",
              "        vertical-align: middle;\n",
              "    }\n",
              "\n",
              "    .dataframe tbody tr th {\n",
              "        vertical-align: top;\n",
              "    }\n",
              "\n",
              "    .dataframe thead th {\n",
              "        text-align: right;\n",
              "    }\n",
              "</style>\n",
              "<table border=\"1\" class=\"dataframe\">\n",
              "  <thead>\n",
              "    <tr style=\"text-align: right;\">\n",
              "      <th></th>\n",
              "      <th>Author</th>\n",
              "      <th>Book_name</th>\n",
              "      <th>Text</th>\n",
              "    </tr>\n",
              "  </thead>\n",
              "  <tbody>\n",
              "    <tr>\n",
              "      <th>0</th>\n",
              "      <td>Jane Austen</td>\n",
              "      <td>Emma</td>\n",
              "      <td>VOLUME CHAPTER Emma Woodhouse handsome clever ...</td>\n",
              "    </tr>\n",
              "    <tr>\n",
              "      <th>1</th>\n",
              "      <td>Jane Austen</td>\n",
              "      <td>Emma</td>\n",
              "      <td>give pleasant society Highbury large populous ...</td>\n",
              "    </tr>\n",
              "    <tr>\n",
              "      <th>2</th>\n",
              "      <td>Jane Austen</td>\n",
              "      <td>Emma</td>\n",
              "      <td>Square happy circumstance animated Mr Woodhous...</td>\n",
              "    </tr>\n",
              "    <tr>\n",
              "      <th>3</th>\n",
              "      <td>Jane Austen</td>\n",
              "      <td>Emma</td>\n",
              "      <td>would never marry may comfort thing Mr Knightl...</td>\n",
              "    </tr>\n",
              "    <tr>\n",
              "      <th>4</th>\n",
              "      <td>Jane Austen</td>\n",
              "      <td>Emma</td>\n",
              "      <td>agree entirely much better thing Invite dinner...</td>\n",
              "    </tr>\n",
              "    <tr>\n",
              "      <th>5</th>\n",
              "      <td>Jane Austen</td>\n",
              "      <td>Emma</td>\n",
              "      <td>unlikely therefore ever want father assistance...</td>\n",
              "    </tr>\n",
              "    <tr>\n",
              "      <th>6</th>\n",
              "      <td>Jane Austen</td>\n",
              "      <td>Emma</td>\n",
              "      <td>wedding cake proved vain earnestly tried preve...</td>\n",
              "    </tr>\n",
              "    <tr>\n",
              "      <th>7</th>\n",
              "      <td>Jane Austen</td>\n",
              "      <td>Emma</td>\n",
              "      <td>seminary establishment thing professed long se...</td>\n",
              "    </tr>\n",
              "    <tr>\n",
              "      <th>8</th>\n",
              "      <td>Jane Austen</td>\n",
              "      <td>Emma</td>\n",
              "      <td>would interesting certainly kind undertaking h...</td>\n",
              "    </tr>\n",
              "    <tr>\n",
              "      <th>9</th>\n",
              "      <td>Jane Austen</td>\n",
              "      <td>Emma</td>\n",
              "      <td>sentiment distinct independent Mrs Weston obje...</td>\n",
              "    </tr>\n",
              "  </tbody>\n",
              "</table>\n",
              "</div>"
            ],
            "text/plain": [
              "        Author Book_name                                               Text\n",
              "0  Jane Austen      Emma  VOLUME CHAPTER Emma Woodhouse handsome clever ...\n",
              "1  Jane Austen      Emma  give pleasant society Highbury large populous ...\n",
              "2  Jane Austen      Emma  Square happy circumstance animated Mr Woodhous...\n",
              "3  Jane Austen      Emma  would never marry may comfort thing Mr Knightl...\n",
              "4  Jane Austen      Emma  agree entirely much better thing Invite dinner...\n",
              "5  Jane Austen      Emma  unlikely therefore ever want father assistance...\n",
              "6  Jane Austen      Emma  wedding cake proved vain earnestly tried preve...\n",
              "7  Jane Austen      Emma  seminary establishment thing professed long se...\n",
              "8  Jane Austen      Emma  would interesting certainly kind undertaking h...\n",
              "9  Jane Austen      Emma  sentiment distinct independent Mrs Weston obje..."
            ]
          },
          "metadata": {
            "tags": []
          },
          "execution_count": 192
        }
      ]
    },
    {
      "cell_type": "code",
      "metadata": {
        "id": "SPg3wE5W9eje",
        "colab_type": "code",
        "outputId": "14e67a4f-70ed-4fcc-f701-148f82dcfd75",
        "colab": {
          "base_uri": "https://localhost:8080/",
          "height": 359
        }
      },
      "source": [
        "fig = plt.figure(1, figsize=(40,5))\n",
        "y = df.Author.value_counts()\n",
        "plt.bar(range(len(y)), y,tick_label=y.index,color=np.random.rand(18,3))\n",
        "plt.xlabel(\"Authors\")\n",
        "plt.ylabel(\"# of samples\")\n",
        "COLOR = 'White'\n",
        "plt.rcParams['text.color'] = COLOR\n",
        "plt.rcParams['axes.labelcolor'] = COLOR\n",
        "plt.rcParams['xtick.color'] = COLOR\n",
        "plt.rcParams['ytick.color'] = COLOR"
      ],
      "execution_count": 194,
      "outputs": [
        {
          "output_type": "display_data",
          "data": {
            "image/png": "[encoded data removed]",
            "text/plain": [
              "<Figure size 2880x360 with 1 Axes>"
            ]
          },
          "metadata": {
            "tags": []
          }
        }
      ]
    },
    {
      "cell_type": "code",
      "metadata": {
        "id": "nODKrvxtLujN",
        "colab_type": "code",
        "colab": {}
      },
      "source": [
        "all_words = df['Text'].str.split(expand=True).unstack().value_counts()"
      ],
      "execution_count": 0,
      "outputs": []
    },
    {
      "cell_type": "code",
      "metadata": {
        "id": "clVgbEulV5E6",
        "colab_type": "code",
        "outputId": "6ffd0c4f-8bd4-4421-d908-cf1a2a0e9807",
        "colab": {
          "base_uri": "https://localhost:8080/",
          "height": 372
        }
      },
      "source": [
        "indx=all_words.index\n",
        "fig = plt.figure(1, figsize=(15,5))\n",
        "y = all_words[0:25]\n",
        "plt.bar(range(len(y)), y,tick_label=indx[0:25],color=np.random.rand(25,3))\n",
        "plt.xlabel(\"Words\")\n",
        "plt.ylabel(\"# of appear in text\")\n",
        "plt.title('Top 25 words appears most in the data')"
      ],
      "execution_count": 196,
      "outputs": [
        {
          "output_type": "execute_result",
          "data": {
            "text/plain": [
              "Text(0.5, 1.0, 'Top 25 words appears most in the data')"
            ]
          },
          "metadata": {
            "tags": []
          },
          "execution_count": 196
        },
        {
          "output_type": "display_data",
          "data": {
            "image/png": "[encoded data removed]",
            "text/plain": [
              "<Figure size 1080x360 with 1 Axes>"
            ]
          },
          "metadata": {
            "tags": []
          }
        }
      ]
    },
    {
      "cell_type": "markdown",
      "metadata": {
        "id": "inbVSCpmelFw",
        "colab_type": "text"
      },
      "source": [
        "Let's examine word count/length statistics:"
      ]
    },
    {
      "cell_type": "code",
      "metadata": {
        "id": "jRYYAozQABrf",
        "colab_type": "code",
        "outputId": "c2c9dd76-c28d-4b91-a686-d99442242e8c",
        "colab": {
          "base_uri": "https://localhost:8080/",
          "height": 68
        }
      },
      "source": [
        "document_lengths = np.array(list(map(len, df.Text.str.split(' '))))\n",
        "\n",
        "print(\"The average number of words in a document is: {}.\".format(np.mean(document_lengths)))\n",
        "print(\"The minimum number of words in a document is: {}.\".format(min(document_lengths)))\n",
        "print(\"The maximum number of words in a document is: {}.\".format(max(document_lengths)))"
      ],
      "execution_count": 197,
      "outputs": [
        {
          "output_type": "stream",
          "text": [
            "The average number of words in a document is: 302.54583333333335.\n",
            "The minimum number of words in a document is: 8.\n",
            "The maximum number of words in a document is: 2405.\n"
          ],
          "name": "stdout"
        }
      ]
    },
    {
      "cell_type": "code",
      "metadata": {
        "colab_type": "code",
        "outputId": "65cc8a5c-fd8b-46da-907e-152993ad4f80",
        "id": "DaF0dSXXAgFN",
        "colab": {
          "base_uri": "https://localhost:8080/",
          "height": 318
        }
      },
      "source": [
        "# Plot word count distribution\n",
        "sns.distplot(document_lengths, kde = False, bins = 70, color = 'blue').set_title(\"Word Count Distribution\")\n",
        "plt.xlabel('Text Length (Words)')\n",
        "plt.ylabel('Count')\n",
        "#plt.xlim(0, 100)"
      ],
      "execution_count": 198,
      "outputs": [
        {
          "output_type": "execute_result",
          "data": {
            "text/plain": [
              "Text(0, 0.5, 'Count')"
            ]
          },
          "metadata": {
            "tags": []
          },
          "execution_count": 198
        },
        {
          "output_type": "display_data",
          "data": {
            "image/png": "[encoded data removed]",
            "text/plain": [
              "<Figure size 432x288 with 1 Axes>"
            ]
          },
          "metadata": {
            "tags": []
          }
        }
      ]
    },
    {
      "cell_type": "markdown",
      "metadata": {
        "id": "Zvzd13CWnG29",
        "colab_type": "text"
      },
      "source": [
        "Most of the text has the number of words less than 200."
      ]
    },
    {
      "cell_type": "code",
      "metadata": {
        "id": "TBgzF5vWAyeH",
        "colab_type": "code",
        "outputId": "fd3a9ae8-3fce-4c07-d3c1-e9879ad9c74d",
        "colab": {
          "base_uri": "https://localhost:8080/",
          "height": 34
        }
      },
      "source": [
        "print(\"There are {} samples with over 150 words.\".format(sum(document_lengths > 150)))\n"
      ],
      "execution_count": 199,
      "outputs": [
        {
          "output_type": "stream",
          "text": [
            "There are 2048 samples with over 150 words.\n"
          ],
          "name": "stdout"
        }
      ]
    },
    {
      "cell_type": "code",
      "metadata": {
        "id": "U76PuFdFBI81",
        "colab_type": "code",
        "outputId": "bf70ce65-96b8-40eb-8054-7f7fed54c47c",
        "colab": {
          "base_uri": "https://localhost:8080/",
          "height": 68
        }
      },
      "source": [
        "df.Text[document_lengths == 10]"
      ],
      "execution_count": 200,
      "outputs": [
        {
          "output_type": "execute_result",
          "data": {
            "text/plain": [
              "840    Peace Love God Father dear Mercy Pity Peace Lo...\n",
              "854    round fold Saying Wrath meekness health sickne...\n",
              "Name: Text, dtype: object"
            ]
          },
          "metadata": {
            "tags": []
          },
          "execution_count": 200
        }
      ]
    },
    {
      "cell_type": "code",
      "metadata": {
        "id": "KJYnt-mXHgCX",
        "colab_type": "code",
        "colab": {}
      },
      "source": [
        "df['document_lengths']=document_lengths"
      ],
      "execution_count": 0,
      "outputs": []
    },
    {
      "cell_type": "code",
      "metadata": {
        "id": "5wg_PYO3HnEA",
        "colab_type": "code",
        "outputId": "011e1458-ec7c-4d4f-86d1-4ab06a0eb52f",
        "colab": {
          "base_uri": "https://localhost:8080/",
          "height": 204
        }
      },
      "source": [
        "df[df.document_lengths>20]\n",
        "df.head()"
      ],
      "execution_count": 202,
      "outputs": [
        {
          "output_type": "execute_result",
          "data": {
            "text/html": [
              "<div>\n",
              "<style scoped>\n",
              "    .dataframe tbody tr th:only-of-type {\n",
              "        vertical-align: middle;\n",
              "    }\n",
              "\n",
              "    .dataframe tbody tr th {\n",
              "        vertical-align: top;\n",
              "    }\n",
              "\n",
              "    .dataframe thead th {\n",
              "        text-align: right;\n",
              "    }\n",
              "</style>\n",
              "<table border=\"1\" class=\"dataframe\">\n",
              "  <thead>\n",
              "    <tr style=\"text-align: right;\">\n",
              "      <th></th>\n",
              "      <th>Author</th>\n",
              "      <th>Book_name</th>\n",
              "      <th>Text</th>\n",
              "      <th>document_lengths</th>\n",
              "    </tr>\n",
              "  </thead>\n",
              "  <tbody>\n",
              "    <tr>\n",
              "      <th>0</th>\n",
              "      <td>Jane Austen</td>\n",
              "      <td>Emma</td>\n",
              "      <td>VOLUME CHAPTER Emma Woodhouse handsome clever ...</td>\n",
              "      <td>390</td>\n",
              "    </tr>\n",
              "    <tr>\n",
              "      <th>1</th>\n",
              "      <td>Jane Austen</td>\n",
              "      <td>Emma</td>\n",
              "      <td>give pleasant society Highbury large populous ...</td>\n",
              "      <td>392</td>\n",
              "    </tr>\n",
              "    <tr>\n",
              "      <th>2</th>\n",
              "      <td>Jane Austen</td>\n",
              "      <td>Emma</td>\n",
              "      <td>Square happy circumstance animated Mr Woodhous...</td>\n",
              "      <td>363</td>\n",
              "    </tr>\n",
              "    <tr>\n",
              "      <th>3</th>\n",
              "      <td>Jane Austen</td>\n",
              "      <td>Emma</td>\n",
              "      <td>would never marry may comfort thing Mr Knightl...</td>\n",
              "      <td>382</td>\n",
              "    </tr>\n",
              "    <tr>\n",
              "      <th>4</th>\n",
              "      <td>Jane Austen</td>\n",
              "      <td>Emma</td>\n",
              "      <td>agree entirely much better thing Invite dinner...</td>\n",
              "      <td>413</td>\n",
              "    </tr>\n",
              "  </tbody>\n",
              "</table>\n",
              "</div>"
            ],
            "text/plain": [
              "        Author Book_name                                               Text  \\\n",
              "0  Jane Austen      Emma  VOLUME CHAPTER Emma Woodhouse handsome clever ...   \n",
              "1  Jane Austen      Emma  give pleasant society Highbury large populous ...   \n",
              "2  Jane Austen      Emma  Square happy circumstance animated Mr Woodhous...   \n",
              "3  Jane Austen      Emma  would never marry may comfort thing Mr Knightl...   \n",
              "4  Jane Austen      Emma  agree entirely much better thing Invite dinner...   \n",
              "\n",
              "   document_lengths  \n",
              "0               390  \n",
              "1               392  \n",
              "2               363  \n",
              "3               382  \n",
              "4               413  "
            ]
          },
          "metadata": {
            "tags": []
          },
          "execution_count": 202
        }
      ]
    },
    {
      "cell_type": "markdown",
      "metadata": {
        "colab_type": "text",
        "id": "-cIscnOOOgWS"
      },
      "source": [
        "We have finished the exploration of the data, thus we will move to next section."
      ]
    },
    {
      "cell_type": "markdown",
      "metadata": {
        "id": "r2PdK2fsuFK0",
        "colab_type": "text"
      },
      "source": [
        "##3. Supervised learning used Bag of Word, TF-IDF, Word2vec"
      ]
    },
    {
      "cell_type": "markdown",
      "metadata": {
        "id": "V3ZxQ55HuKJU",
        "colab_type": "text"
      },
      "source": [
        "### 3.1 Bag of words"
      ]
    },
    {
      "cell_type": "markdown",
      "metadata": {
        "id": "mNBOwBOqtWBk",
        "colab_type": "text"
      },
      "source": [
        "Create the training and test data"
      ]
    },
    {
      "cell_type": "code",
      "metadata": {
        "id": "GuszcMORsteO",
        "colab_type": "code",
        "colab": {}
      },
      "source": [
        "text_train, text_test, author_train, author_test = train_test_split(df.Text, df.Author, test_size = 0.2, random_state = 5)"
      ],
      "execution_count": 0,
      "outputs": []
    },
    {
      "cell_type": "code",
      "metadata": {
        "id": "8xsAnixltrRN",
        "colab_type": "code",
        "outputId": "0faabcc8-064f-4f01-831c-efca6bdf0d3f",
        "colab": {
          "base_uri": "https://localhost:8080/",
          "height": 85
        }
      },
      "source": [
        "# Check shapes of created datasets\n",
        "print(np.shape(text_train))\n",
        "print(np.shape(text_test))\n",
        "print(np.shape(author_train))\n",
        "print(np.shape(author_test))"
      ],
      "execution_count": 204,
      "outputs": [
        {
          "output_type": "stream",
          "text": [
            "(2880,)\n",
            "(720,)\n",
            "(2880,)\n",
            "(720,)\n"
          ],
          "name": "stdout"
        }
      ]
    },
    {
      "cell_type": "markdown",
      "metadata": {
        "id": "QrbQgGsb5qKb",
        "colab_type": "text"
      },
      "source": [
        "Creating Features from a Bag of Words"
      ]
    },
    {
      "cell_type": "code",
      "metadata": {
        "id": "IWOJ92jvtwGd",
        "colab_type": "code",
        "outputId": "5c998e95-3dbc-49aa-8fa7-3796d081cc15",
        "colab": {
          "base_uri": "https://localhost:8080/",
          "height": 51
        }
      },
      "source": [
        "print (\"Creating the bag of words...\\n\")\n",
        "from sklearn.feature_extraction.text import CountVectorizer\n",
        "vectorizer = CountVectorizer(max_features=5000).fit(text_train) \n",
        "train_X = vectorizer.transform(text_train)\n",
        "train_X = train_X.toarray()\n",
        "test_X = vectorizer.transform(text_test)\n",
        "test_X = test_X.toarray()"
      ],
      "execution_count": 205,
      "outputs": [
        {
          "output_type": "stream",
          "text": [
            "Creating the bag of words...\n",
            "\n"
          ],
          "name": "stdout"
        }
      ]
    },
    {
      "cell_type": "code",
      "metadata": {
        "id": "QfkTTvCBt-Z2",
        "colab_type": "code",
        "outputId": "b914771b-a2d4-488a-88c4-a454b9cf1787",
        "colab": {
          "base_uri": "https://localhost:8080/",
          "height": 51
        }
      },
      "source": [
        "print (train_X.shape)\n",
        "print (test_X.shape)"
      ],
      "execution_count": 206,
      "outputs": [
        {
          "output_type": "stream",
          "text": [
            "(2880, 5000)\n",
            "(720, 5000)\n"
          ],
          "name": "stdout"
        }
      ]
    },
    {
      "cell_type": "code",
      "metadata": {
        "id": "UoBf3nr8qvkk",
        "colab_type": "code",
        "colab": {}
      },
      "source": [
        "author_lb = LabelEncoder()\n",
        "Y_train = author_lb.fit_transform(author_train)\n",
        "Y_test = author_lb.transform(author_test)"
      ],
      "execution_count": 0,
      "outputs": []
    },
    {
      "cell_type": "code",
      "metadata": {
        "id": "bnPjNsxIZ9Yx",
        "colab_type": "code",
        "outputId": "f7aba071-7a0d-45eb-f7d4-784f7b4e90fd",
        "colab": {
          "base_uri": "https://localhost:8080/",
          "height": 340
        }
      },
      "source": [
        "## check the grid CV serach to have best parameter on 10 % data set\n",
        "from sklearn.model_selection import GridSearchCV\n",
        "DTC = tree.DecisionTreeClassifier()\n",
        "RF = RandomForestClassifier()\n",
        "GBC = GradientBoostingClassifier()\n",
        "SVM = SVC()\n",
        "LogR = LogisticRegression()\n",
        "NVG = GaussianNB()\n",
        "KNN = KNeighborsClassifier()\n",
        "## 10% of data set\n",
        "X_train_10=train_X[0:1440]\n",
        "Y_train_10=Y_train[0:1440]\n",
        "X_test_10 =test_X[0:360]\n",
        "Y_test_10 =Y_test[0:360]\n",
        "### parameter change\n",
        "parameters_logr = [{'C': [1, 10,100]}]\n",
        "parameters_dtc = [{'max_depth': [10,20,30] }]\n",
        "parameters_RF = [{'n_estimators': [10,20,30]}]\n",
        "parameters_GBC = [{'n_estimators': [10,20,30]}]\n",
        "parameters_svm = [{'C': [1, 10,100]}]\n",
        "parameters_knn = [{'n_neighbors': [10, 20,30]}]\n",
        "model_parameters=[parameters_RF,parameters_logr,parameters_dtc,parameters_GBC,parameters_svm,parameters_knn]\n",
        "## no change param for Naive Bayes\n",
        "\n",
        "model_predict=[RF,LogR,DTC,GBC,SVM,KNN]\n",
        "## SVM will be updated later\n",
        "model_name=['Random Forest Classifier'\n",
        "            ,'Logistic Regression'\n",
        "            , 'Decision Tree Classifer'\n",
        "            ,'Gradient Boosting Classifier'\n",
        "            ,'SVM Classifier'\n",
        "            ,'K-nearest neighbour']\n",
        "for model, name, para in zip (model_predict,model_name,model_parameters):\n",
        "    time_start = time.clock()\n",
        "    grid_search = GridSearchCV(estimator = model,\n",
        "                           param_grid = para,\n",
        "                           scoring = 'accuracy',\n",
        "                           cv = 5)\n",
        "    grid_search = grid_search.fit(X_train_10, Y_train_10)\n",
        "    accuracy = grid_search.best_score_\n",
        "    param_best=grid_search.best_params_\n",
        "    print(name)\n",
        "    #para_out.append(param_best)\n",
        "    print('Best parameter:     ', param_best)\n",
        "    print('Best Accuracy: %12.3f'%accuracy)\n",
        "print('======================End of gettting best parameter======================')\n",
        "## "
      ],
      "execution_count": 208,
      "outputs": [
        {
          "output_type": "stream",
          "text": [
            "Random Forest Classifier\n",
            "Best parameter:      {'n_estimators': 30}\n",
            "Best Accuracy:        0.883\n",
            "Logistic Regression\n",
            "Best parameter:      {'C': 1}\n",
            "Best Accuracy:        0.981\n",
            "Decision Tree Classifer\n",
            "Best parameter:      {'max_depth': 30}\n",
            "Best Accuracy:        0.772\n",
            "Gradient Boosting Classifier\n",
            "Best parameter:      {'n_estimators': 30}\n",
            "Best Accuracy:        0.894\n",
            "SVM Classifier\n",
            "Best parameter:      {'C': 100}\n",
            "Best Accuracy:        0.985\n",
            "K-nearest neighbour\n",
            "Best parameter:      {'n_neighbors': 10}\n",
            "Best Accuracy:        0.161\n",
            "======================End of gettting best parameter======================\n"
          ],
          "name": "stdout"
        }
      ]
    },
    {
      "cell_type": "markdown",
      "metadata": {
        "id": "-PCJXUtv6YkS",
        "colab_type": "text"
      },
      "source": [
        "As we can see for Random forest an Decission tree, it seems that the parameter is not large enough thus we will use:"
      ]
    },
    {
      "cell_type": "code",
      "metadata": {
        "id": "NpkmKeVF-8Ca",
        "colab_type": "code",
        "colab": {}
      },
      "source": [
        "DTC = tree.DecisionTreeClassifier(max_depth=100)\n",
        "RF = RandomForestClassifier(n_estimators=20)\n",
        "GBC = GradientBoostingClassifier(n_estimators=50)\n",
        "SVM = SVC(C=100,gamma='auto', class_weight='balanced')\n",
        "LogR = LogisticRegression(C=1)\n",
        "NVG = GaussianNB()\n",
        "#KNN = KNeighborsClassifier(n_neighbors = 12)\n",
        "KNN = KNeighborsClassifier(n_jobs=-1)\n"
      ],
      "execution_count": 0,
      "outputs": []
    },
    {
      "cell_type": "code",
      "metadata": {
        "id": "Zhy4ynwaQyZR",
        "colab_type": "code",
        "outputId": "85c60410-70cd-4153-a248-69e16ee740b8",
        "colab": {
          "base_uri": "https://localhost:8080/",
          "height": 1000
        }
      },
      "source": [
        "model_predict=[RF,LogR,DTC,GBC,SVM,NVG,KNN]\n",
        "model_predict=[RF,LogR,DTC,NVG,KNN]\n",
        "## SVM,GBC will be updated later\n",
        "model_name=['Random Forest Classifier'\n",
        "            ,'Logistic Regression'\n",
        "            , 'Decision Tree Classifer'\n",
        "#            ,'Gradient Boosting Classifier'\n",
        "#            ,'SVM Classifier'\n",
        "            ,'Naive Bayes Gauss'\n",
        "            ,'K-nearest neighbour']\n",
        "## loop\n",
        "for model, name in zip (model_predict,model_name):\n",
        "    time_start = time.clock()\n",
        "    clf=model.fit(train_X,Y_train)\n",
        "    predictions = clf.predict(test_X)\n",
        "    tmp1=classification_report(Y_test,predictions)\n",
        "    tmp2=accuracy_score(Y_test,predictions)\n",
        "    time_elapsed = (time.clock() - time_start)\n",
        "    print(name)\n",
        "    print(tmp1)\n",
        "    print('Accuracy Score: %12.3f'%tmp2)\n",
        "    print('Computing time: %12.3f second'%time_elapsed)\n",
        "    print('==========================================================')\n",
        "    #break\n",
        "    \n",
        "    \n",
        "print('======================End of predicting======================')\n",
        "## "
      ],
      "execution_count": 210,
      "outputs": [
        {
          "output_type": "stream",
          "text": [
            "Random Forest Classifier\n",
            "              precision    recall  f1-score   support\n",
            "\n",
            "           0       0.82      0.95      0.88       112\n",
            "           1       0.97      0.88      0.93        43\n",
            "           2       1.00      1.00      1.00        45\n",
            "           3       0.91      0.99      0.95       117\n",
            "           4       0.93      0.87      0.90        45\n",
            "           5       0.97      0.88      0.92        41\n",
            "           6       0.96      0.71      0.81        31\n",
            "           7       0.96      0.67      0.79        39\n",
            "           8       1.00      0.93      0.96        41\n",
            "           9       0.91      0.79      0.85        39\n",
            "          10       0.89      0.98      0.93        42\n",
            "          11       0.93      0.98      0.96       125\n",
            "\n",
            "    accuracy                           0.92       720\n",
            "   macro avg       0.94      0.89      0.91       720\n",
            "weighted avg       0.92      0.92      0.92       720\n",
            "\n",
            "Accuracy Score:        0.918\n",
            "Computing time:        0.712 second\n",
            "==========================================================\n",
            "Logistic Regression\n",
            "              precision    recall  f1-score   support\n",
            "\n",
            "           0       0.97      0.99      0.98       112\n",
            "           1       1.00      0.98      0.99        43\n",
            "           2       1.00      0.96      0.98        45\n",
            "           3       0.99      0.99      0.99       117\n",
            "           4       1.00      1.00      1.00        45\n",
            "           5       1.00      0.98      0.99        41\n",
            "           6       1.00      1.00      1.00        31\n",
            "           7       0.97      0.97      0.97        39\n",
            "           8       1.00      1.00      1.00        41\n",
            "           9       1.00      1.00      1.00        39\n",
            "          10       0.98      1.00      0.99        42\n",
            "          11       0.99      1.00      1.00       125\n",
            "\n",
            "    accuracy                           0.99       720\n",
            "   macro avg       0.99      0.99      0.99       720\n",
            "weighted avg       0.99      0.99      0.99       720\n",
            "\n",
            "Accuracy Score:        0.990\n",
            "Computing time:        2.590 second\n",
            "==========================================================\n",
            "Decision Tree Classifer\n",
            "              precision    recall  f1-score   support\n",
            "\n",
            "           0       0.79      0.79      0.79       112\n",
            "           1       0.92      0.79      0.85        43\n",
            "           2       1.00      1.00      1.00        45\n",
            "           3       0.88      0.85      0.86       117\n",
            "           4       0.82      0.69      0.75        45\n",
            "           5       0.89      0.95      0.92        41\n",
            "           6       0.65      0.55      0.60        31\n",
            "           7       0.44      0.49      0.46        39\n",
            "           8       0.78      0.88      0.83        41\n",
            "           9       0.60      0.64      0.62        39\n",
            "          10       0.77      0.95      0.85        42\n",
            "          11       0.95      0.93      0.94       125\n",
            "\n",
            "    accuracy                           0.82       720\n",
            "   macro avg       0.79      0.79      0.79       720\n",
            "weighted avg       0.82      0.82      0.82       720\n",
            "\n",
            "Accuracy Score:        0.818\n",
            "Computing time:        4.173 second\n",
            "==========================================================\n",
            "Naive Bayes Gauss\n",
            "              precision    recall  f1-score   support\n",
            "\n",
            "           0       0.85      0.98      0.91       112\n",
            "           1       0.60      1.00      0.75        43\n",
            "           2       0.88      1.00      0.94        45\n",
            "           3       0.97      1.00      0.98       117\n",
            "           4       0.72      0.87      0.79        45\n",
            "           5       0.96      0.54      0.69        41\n",
            "           6       0.69      0.94      0.79        31\n",
            "           7       0.75      0.46      0.57        39\n",
            "           8       1.00      0.68      0.81        41\n",
            "           9       0.76      0.90      0.82        39\n",
            "          10       1.00      0.12      0.21        42\n",
            "          11       0.98      0.98      0.98       125\n",
            "\n",
            "    accuracy                           0.85       720\n",
            "   macro avg       0.85      0.79      0.77       720\n",
            "weighted avg       0.88      0.85      0.83       720\n",
            "\n",
            "Accuracy Score:        0.853\n",
            "Computing time:        0.542 second\n",
            "==========================================================\n",
            "K-nearest neighbour\n",
            "              precision    recall  f1-score   support\n",
            "\n",
            "           0       0.12      0.01      0.02       112\n",
            "           1       0.89      0.19      0.31        43\n",
            "           2       1.00      0.98      0.99        45\n",
            "           3       0.90      0.24      0.38       117\n",
            "           4       0.25      0.02      0.04        45\n",
            "           5       0.16      0.27      0.20        41\n",
            "           6       1.00      0.35      0.52        31\n",
            "           7       0.64      0.18      0.28        39\n",
            "           8       0.17      0.22      0.19        41\n",
            "           9       0.00      0.00      0.00        39\n",
            "          10       0.10      1.00      0.18        42\n",
            "          11       0.27      0.10      0.14       125\n",
            "\n",
            "    accuracy                           0.24       720\n",
            "   macro avg       0.46      0.30      0.27       720\n",
            "weighted avg       0.45      0.24      0.24       720\n",
            "\n",
            "Accuracy Score:        0.242\n",
            "Computing time:       54.550 second\n",
            "==========================================================\n",
            "======================End of predicting======================\n"
          ],
          "name": "stdout"
        }
      ]
    },
    {
      "cell_type": "markdown",
      "metadata": {
        "id": "KNX1B01XzYfF",
        "colab_type": "text"
      },
      "source": [
        "As we can see, using bag of word, KNN performs badly which produces 24 % of accuracy. Naive Bayes and Logics Regression shows good results where the accuracy is 83 % and 95 % respectively. "
      ]
    },
    {
      "cell_type": "markdown",
      "metadata": {
        "id": "Td81ZsePBXMu",
        "colab_type": "text"
      },
      "source": [
        "###3.2 TFIDF"
      ]
    },
    {
      "cell_type": "markdown",
      "metadata": {
        "id": "_uOL9CgClur3",
        "colab_type": "text"
      },
      "source": [
        "Now we will exam the performance of the TFIDF scheme."
      ]
    },
    {
      "cell_type": "code",
      "metadata": {
        "id": "kCeUImNAzWk7",
        "colab_type": "code",
        "outputId": "10ba8d15-8a88-48b1-b009-ab9d86d10cd2",
        "colab": {
          "base_uri": "https://localhost:8080/",
          "height": 68
        }
      },
      "source": [
        "from sklearn.feature_extraction.text import TfidfVectorizer\n",
        "\n",
        "vectorizer = TfidfVectorizer(max_features = 5000)\n",
        "%time tfidf_matrix = vectorizer.fit_transform(df.Text) #fit the vectorizer to synopses\n",
        "print(tfidf_matrix.shape)\n",
        "train_X, test_X, author_train, author_test = train_test_split(tfidf_matrix.toarray(), df.Author, test_size = 0.2, random_state = 5)\n",
        "author_lb = LabelEncoder()\n",
        "Y_train = author_lb.fit_transform(author_train)\n",
        "Y_test = author_lb.transform(author_test)\n"
      ],
      "execution_count": 211,
      "outputs": [
        {
          "output_type": "stream",
          "text": [
            "CPU times: user 827 ms, sys: 0 ns, total: 827 ms\n",
            "Wall time: 826 ms\n",
            "(3600, 5000)\n"
          ],
          "name": "stdout"
        }
      ]
    },
    {
      "cell_type": "code",
      "metadata": {
        "id": "TRBSpfjrzWjZ",
        "colab_type": "code",
        "colab": {}
      },
      "source": [
        "DTC = tree.DecisionTreeClassifier(max_depth=100)\n",
        "RF = RandomForestClassifier(n_estimators=20)\n",
        "GBC = GradientBoostingClassifier(n_estimators=50)\n",
        "SVM = SVC(C=100,gamma='auto', class_weight='balanced')\n",
        "LogR = LogisticRegression(C=1)\n",
        "NVG = GaussianNB()\n",
        "#KNN = KNeighborsClassifier(n_neighbors = 12)\n",
        "KNN = KNeighborsClassifier(n_jobs=-1)\n"
      ],
      "execution_count": 0,
      "outputs": []
    },
    {
      "cell_type": "code",
      "metadata": {
        "id": "EE5nZBu-zWgn",
        "colab_type": "code",
        "outputId": "fbea3914-36e0-466c-b8f6-cfff11305083",
        "colab": {
          "base_uri": "https://localhost:8080/",
          "height": 1000
        }
      },
      "source": [
        "model_predict=[RF,LogR,DTC,GBC,SVM,NVG,KNN]\n",
        "model_predict=[RF,LogR,DTC,NVG,KNN]\n",
        "## SVM,GBC will be updated later\n",
        "model_name=['Random Forest Classifier'\n",
        "            ,'Logistic Regression'\n",
        "            , 'Decision Tree Classifer'\n",
        "#            ,'Gradient Boosting Classifier'\n",
        "#            ,'SVM Classifier'\n",
        "            ,'Naive Bayes Gauss'\n",
        "            ,'K-nearest neighbour']\n",
        "## loop\n",
        "for model, name in zip (model_predict,model_name):\n",
        "    time_start = time.clock()\n",
        "    clf=model.fit(train_X,Y_train)\n",
        "    predictions = clf.predict(test_X)\n",
        "    tmp1=classification_report(Y_test,predictions)\n",
        "    tmp2=accuracy_score(Y_test,predictions)\n",
        "    time_elapsed = (time.clock() - time_start)\n",
        "    print(name)\n",
        "    print(tmp1)\n",
        "    print('Accuracy Score: %12.3f'%tmp2)\n",
        "    print('Computing time: %12.3f second'%time_elapsed)\n",
        "    print('==========================================================')\n",
        "    #break\n",
        "    \n",
        "    \n",
        "print('======================End of predicting======================')\n",
        "## "
      ],
      "execution_count": 213,
      "outputs": [
        {
          "output_type": "stream",
          "text": [
            "Random Forest Classifier\n",
            "              precision    recall  f1-score   support\n",
            "\n",
            "           0       0.85      0.98      0.91       112\n",
            "           1       0.95      0.88      0.92        43\n",
            "           2       1.00      1.00      1.00        45\n",
            "           3       0.95      0.98      0.97       117\n",
            "           4       0.98      0.91      0.94        45\n",
            "           5       0.97      0.95      0.96        41\n",
            "           6       0.94      0.94      0.94        31\n",
            "           7       1.00      0.54      0.70        39\n",
            "           8       0.95      0.98      0.96        41\n",
            "           9       1.00      0.92      0.96        39\n",
            "          10       0.91      1.00      0.95        42\n",
            "          11       0.98      0.99      0.98       125\n",
            "\n",
            "    accuracy                           0.94       720\n",
            "   macro avg       0.96      0.92      0.93       720\n",
            "weighted avg       0.95      0.94      0.94       720\n",
            "\n",
            "Accuracy Score:        0.944\n",
            "Computing time:        0.768 second\n",
            "==========================================================\n",
            "Logistic Regression\n",
            "              precision    recall  f1-score   support\n",
            "\n",
            "           0       0.93      0.99      0.96       112\n",
            "           1       1.00      0.95      0.98        43\n",
            "           2       1.00      1.00      1.00        45\n",
            "           3       0.99      1.00      1.00       117\n",
            "           4       1.00      1.00      1.00        45\n",
            "           5       1.00      0.95      0.97        41\n",
            "           6       1.00      1.00      1.00        31\n",
            "           7       1.00      0.85      0.92        39\n",
            "           8       1.00      1.00      1.00        41\n",
            "           9       1.00      1.00      1.00        39\n",
            "          10       0.98      1.00      0.99        42\n",
            "          11       0.99      1.00      1.00       125\n",
            "\n",
            "    accuracy                           0.98       720\n",
            "   macro avg       0.99      0.98      0.98       720\n",
            "weighted avg       0.99      0.98      0.98       720\n",
            "\n",
            "Accuracy Score:        0.985\n",
            "Computing time:        0.709 second\n",
            "==========================================================\n",
            "Decision Tree Classifer\n",
            "              precision    recall  f1-score   support\n",
            "\n",
            "           0       0.76      0.84      0.80       112\n",
            "           1       0.92      0.84      0.88        43\n",
            "           2       1.00      1.00      1.00        45\n",
            "           3       0.91      0.82      0.86       117\n",
            "           4       0.85      0.62      0.72        45\n",
            "           5       0.89      0.98      0.93        41\n",
            "           6       0.58      0.68      0.63        31\n",
            "           7       0.53      0.46      0.49        39\n",
            "           8       0.77      0.83      0.80        41\n",
            "           9       0.78      0.82      0.80        39\n",
            "          10       0.77      0.81      0.79        42\n",
            "          11       0.87      0.90      0.89       125\n",
            "\n",
            "    accuracy                           0.82       720\n",
            "   macro avg       0.80      0.80      0.80       720\n",
            "weighted avg       0.82      0.82      0.82       720\n",
            "\n",
            "Accuracy Score:        0.821\n",
            "Computing time:        4.628 second\n",
            "==========================================================\n",
            "Naive Bayes Gauss\n",
            "              precision    recall  f1-score   support\n",
            "\n",
            "           0       0.82      0.94      0.88       112\n",
            "           1       0.56      1.00      0.72        43\n",
            "           2       0.87      1.00      0.93        45\n",
            "           3       0.98      1.00      0.99       117\n",
            "           4       0.76      0.87      0.81        45\n",
            "           5       0.95      0.51      0.67        41\n",
            "           6       0.66      1.00      0.79        31\n",
            "           7       0.77      0.44      0.56        39\n",
            "           8       1.00      0.66      0.79        41\n",
            "           9       0.78      0.92      0.85        39\n",
            "          10       1.00      0.12      0.21        42\n",
            "          11       0.98      0.98      0.98       125\n",
            "\n",
            "    accuracy                           0.84       720\n",
            "   macro avg       0.85      0.79      0.76       720\n",
            "weighted avg       0.88      0.84      0.82       720\n",
            "\n",
            "Accuracy Score:        0.844\n",
            "Computing time:        0.456 second\n",
            "==========================================================\n",
            "K-nearest neighbour\n",
            "              precision    recall  f1-score   support\n",
            "\n",
            "           0       0.98      0.98      0.98       112\n",
            "           1       0.98      1.00      0.99        43\n",
            "           2       0.85      1.00      0.92        45\n",
            "           3       0.97      1.00      0.98       117\n",
            "           4       0.93      0.96      0.95        45\n",
            "           5       0.95      0.98      0.96        41\n",
            "           6       0.94      0.97      0.95        31\n",
            "           7       1.00      0.85      0.92        39\n",
            "           8       1.00      1.00      1.00        41\n",
            "           9       0.90      0.90      0.90        39\n",
            "          10       0.97      0.79      0.87        42\n",
            "          11       0.98      0.97      0.98       125\n",
            "\n",
            "    accuracy                           0.96       720\n",
            "   macro avg       0.95      0.95      0.95       720\n",
            "weighted avg       0.96      0.96      0.96       720\n",
            "\n",
            "Accuracy Score:        0.960\n",
            "Computing time:       56.879 second\n",
            "==========================================================\n",
            "======================End of predicting======================\n"
          ],
          "name": "stdout"
        }
      ]
    },
    {
      "cell_type": "markdown",
      "metadata": {
        "id": "Z4q0hrs-mGMy",
        "colab_type": "text"
      },
      "source": [
        "Using TFIDF improves the performance of all classifier. In these scheme, all of the classifier is more than 80 % accuracy."
      ]
    },
    {
      "cell_type": "markdown",
      "metadata": {
        "id": "YCmT-HlEm_dO",
        "colab_type": "text"
      },
      "source": [
        "### 3.3 Word2vec method"
      ]
    },
    {
      "cell_type": "code",
      "metadata": {
        "id": "5O5_d326qWj3",
        "colab_type": "code",
        "colab": {}
      },
      "source": [
        "## split text \n",
        "split_text=[]\n",
        "test=df.Text\n",
        "for i in range (len(test)):\n",
        "  split_text.append(test[i].split())"
      ],
      "execution_count": 0,
      "outputs": []
    },
    {
      "cell_type": "markdown",
      "metadata": {
        "id": "HcSdy_ZNDRCJ",
        "colab_type": "text"
      },
      "source": [
        "The word2vec scheme is shown as followed"
      ]
    },
    {
      "cell_type": "code",
      "metadata": {
        "id": "6SUREzSHnovr",
        "colab_type": "code",
        "outputId": "b9eede1b-79d5-4e7c-984b-a9b7f816ce77",
        "colab": {
          "base_uri": "https://localhost:8080/",
          "height": 34
        }
      },
      "source": [
        "# converting format\n",
        "print(len(split_text))"
      ],
      "execution_count": 215,
      "outputs": [
        {
          "output_type": "stream",
          "text": [
            "3600\n"
          ],
          "name": "stdout"
        }
      ]
    },
    {
      "cell_type": "code",
      "metadata": {
        "id": "QEbSOdjazWfr",
        "colab_type": "code",
        "colab": {}
      },
      "source": [
        "from gensim.models import Word2Vec, KeyedVectors\n",
        "w2v_model = Word2Vec(split_text, window=1, workers=10,size=200)"
      ],
      "execution_count": 0,
      "outputs": []
    },
    {
      "cell_type": "code",
      "metadata": {
        "id": "qVx_EmLqzWc4",
        "colab_type": "code",
        "outputId": "446beba4-d7af-449d-9c20-211b141253cf",
        "colab": {
          "base_uri": "https://localhost:8080/",
          "height": 34
        }
      },
      "source": [
        "print(w2v_model)"
      ],
      "execution_count": 217,
      "outputs": [
        {
          "output_type": "stream",
          "text": [
            "Word2Vec(vocab=16587, size=200, alpha=0.025)\n"
          ],
          "name": "stdout"
        }
      ]
    },
    {
      "cell_type": "code",
      "metadata": {
        "id": "htdw3kenrxWa",
        "colab_type": "code",
        "outputId": "c0f9e9e9-6431-4017-9ed4-964c99afbf3f",
        "colab": {
          "base_uri": "https://localhost:8080/",
          "height": 34
        }
      },
      "source": [
        "vocab = w2v_model.wv.vocab\n",
        "wordsInVocab = len(vocab)\n",
        "print(wordsInVocab)"
      ],
      "execution_count": 218,
      "outputs": [
        {
          "output_type": "stream",
          "text": [
            "16587\n"
          ],
          "name": "stdout"
        }
      ]
    },
    {
      "cell_type": "markdown",
      "metadata": {
        "id": "mQ5AlQIfFBOS",
        "colab_type": "text"
      },
      "source": [
        "After we get the vector of a word, we can calculate the vector expression of a sentence by average as:"
      ]
    },
    {
      "cell_type": "code",
      "metadata": {
        "id": "IvVfiLBTZdjN",
        "colab_type": "code",
        "colab": {}
      },
      "source": [
        "def document_vector(word2vec_model, doc):\n",
        "    # remove out-of-vocabulary words\n",
        "    doc = [word for word in doc if word in word2vec_model.wv.vocab]\n",
        "    return np.mean(word2vec_model[doc], axis=0)\n",
        "X =[]\n",
        "for doc in split_text: #look up each doc in model\n",
        "    X.append(document_vector(w2v_model, doc))\n",
        "X = np.array(X) #list to array"
      ],
      "execution_count": 0,
      "outputs": []
    },
    {
      "cell_type": "code",
      "metadata": {
        "id": "QBEYK9IpbYmo",
        "colab_type": "code",
        "outputId": "ffcbe988-7088-4918-855b-f884afb82632",
        "colab": {
          "base_uri": "https://localhost:8080/",
          "height": 34
        }
      },
      "source": [
        "print(X.shape)\n",
        "#print(X[1])"
      ],
      "execution_count": 220,
      "outputs": [
        {
          "output_type": "stream",
          "text": [
            "(3600, 200)\n"
          ],
          "name": "stdout"
        }
      ]
    },
    {
      "cell_type": "code",
      "metadata": {
        "id": "e20zdzNkr7Ro",
        "colab_type": "code",
        "colab": {}
      },
      "source": [
        "X_train, X_test, Y_train, Y_test = train_test_split(X, df.Author, test_size = 0.2, random_state = 5)"
      ],
      "execution_count": 0,
      "outputs": []
    },
    {
      "cell_type": "code",
      "metadata": {
        "id": "Th-mfy9w5Ddg",
        "colab_type": "code",
        "colab": {}
      },
      "source": [
        "author_lb = LabelEncoder()\n",
        "Y_train_w2v = author_lb.fit_transform(Y_train)\n",
        "Y_test_w2v = author_lb.transform(Y_test)"
      ],
      "execution_count": 0,
      "outputs": []
    },
    {
      "cell_type": "code",
      "metadata": {
        "id": "aDLOO8a45R7i",
        "colab_type": "code",
        "colab": {}
      },
      "source": [
        "DTC = tree.DecisionTreeClassifier(max_depth=100)\n",
        "RF = RandomForestClassifier(n_estimators=20)\n",
        "GBC = GradientBoostingClassifier(n_estimators=50)\n",
        "SVM = SVC(C=100,gamma='auto', class_weight='balanced')\n",
        "LogR = LogisticRegression(C=1)\n",
        "NVG = GaussianNB()\n",
        "#KNN = KNeighborsClassifier(n_neighbors = 12)\n",
        "KNN = KNeighborsClassifier(n_jobs=-1)"
      ],
      "execution_count": 0,
      "outputs": []
    },
    {
      "cell_type": "code",
      "metadata": {
        "id": "tL6FywKt56bM",
        "colab_type": "code",
        "outputId": "d55a3db5-53ef-4bee-bde2-c78832353cf6",
        "colab": {
          "base_uri": "https://localhost:8080/",
          "height": 1000
        }
      },
      "source": [
        "model_predict=[RF,LogR,DTC,GBC,SVM,NVG,KNN]\n",
        "model_predict=[RF,LogR,DTC,NVG,KNN]\n",
        "## SVM,GBC will be updated later\n",
        "model_name=['Random Forest Classifier'\n",
        "            ,'Logistic Regression'\n",
        "            , 'Decision Tree Classifer'\n",
        "#            ,'Gradient Boosting Classifier'\n",
        "#            ,'SVM Classifier'\n",
        "            ,'Naive Bayes Gauss'\n",
        "            ,'K-nearest neighbour']\n",
        "## loop\n",
        "for model, name in zip (model_predict,model_name):\n",
        "    time_start = time.clock()\n",
        "    clf=model.fit(X_train,Y_train_w2v)\n",
        "    predictions = clf.predict(X_test)\n",
        "    tmp1=classification_report(Y_test_w2v,predictions)\n",
        "    tmp2=accuracy_score(Y_test_w2v,predictions)\n",
        "    time_elapsed = (time.clock() - time_start)\n",
        "    print(name)\n",
        "    print(tmp1)\n",
        "    print('Accuracy Score: %12.3f'%tmp2)\n",
        "    print('Computing time: %12.3f second'%time_elapsed)\n",
        "    print('==========================================================')\n",
        "    #break\n",
        "    \n",
        "    \n",
        "print('======================End of predicting======================')\n",
        "## "
      ],
      "execution_count": 224,
      "outputs": [
        {
          "output_type": "stream",
          "text": [
            "Random Forest Classifier\n",
            "              precision    recall  f1-score   support\n",
            "\n",
            "           0       0.72      0.89      0.80       112\n",
            "           1       0.78      0.74      0.76        43\n",
            "           2       1.00      1.00      1.00        45\n",
            "           3       0.93      0.97      0.95       117\n",
            "           4       0.81      0.96      0.88        45\n",
            "           5       0.81      0.63      0.71        41\n",
            "           6       0.71      0.65      0.68        31\n",
            "           7       0.80      0.62      0.70        39\n",
            "           8       0.84      0.63      0.72        41\n",
            "           9       0.78      0.79      0.78        39\n",
            "          10       0.92      0.57      0.71        42\n",
            "          11       0.93      0.99      0.96       125\n",
            "\n",
            "    accuracy                           0.85       720\n",
            "   macro avg       0.84      0.79      0.80       720\n",
            "weighted avg       0.85      0.85      0.84       720\n",
            "\n",
            "Accuracy Score:        0.846\n",
            "Computing time:        0.747 second\n",
            "==========================================================\n",
            "Logistic Regression\n",
            "              precision    recall  f1-score   support\n",
            "\n",
            "           0       0.54      0.90      0.68       112\n",
            "           1       0.73      0.19      0.30        43\n",
            "           2       1.00      1.00      1.00        45\n",
            "           3       0.78      0.99      0.88       117\n",
            "           4       0.75      0.87      0.80        45\n",
            "           5       0.81      0.54      0.65        41\n",
            "           6       0.71      0.16      0.26        31\n",
            "           7       0.77      0.51      0.62        39\n",
            "           8       0.88      0.51      0.65        41\n",
            "           9       0.67      0.79      0.73        39\n",
            "          10       1.00      0.29      0.44        42\n",
            "          11       0.89      0.97      0.93       125\n",
            "\n",
            "    accuracy                           0.75       720\n",
            "   macro avg       0.80      0.64      0.66       720\n",
            "weighted avg       0.78      0.75      0.72       720\n",
            "\n",
            "Accuracy Score:        0.751\n",
            "Computing time:        1.093 second\n",
            "==========================================================\n",
            "Decision Tree Classifer\n",
            "              precision    recall  f1-score   support\n",
            "\n",
            "           0       0.71      0.76      0.73       112\n",
            "           1       0.79      0.60      0.68        43\n",
            "           2       0.90      1.00      0.95        45\n",
            "           3       0.89      0.93      0.91       117\n",
            "           4       0.67      0.84      0.75        45\n",
            "           5       0.62      0.61      0.62        41\n",
            "           6       0.44      0.45      0.44        31\n",
            "           7       0.52      0.44      0.47        39\n",
            "           8       0.73      0.59      0.65        41\n",
            "           9       0.64      0.74      0.69        39\n",
            "          10       0.50      0.43      0.46        42\n",
            "          11       0.93      0.88      0.91       125\n",
            "\n",
            "    accuracy                           0.75       720\n",
            "   macro avg       0.69      0.69      0.69       720\n",
            "weighted avg       0.75      0.75      0.75       720\n",
            "\n",
            "Accuracy Score:        0.750\n",
            "Computing time:        3.263 second\n",
            "==========================================================\n",
            "Naive Bayes Gauss\n",
            "              precision    recall  f1-score   support\n",
            "\n",
            "           0       0.80      0.59      0.68       112\n",
            "           1       0.65      0.81      0.72        43\n",
            "           2       1.00      1.00      1.00        45\n",
            "           3       0.96      0.86      0.91       117\n",
            "           4       0.75      0.73      0.74        45\n",
            "           5       0.61      0.61      0.61        41\n",
            "           6       0.43      0.81      0.56        31\n",
            "           7       0.61      0.59      0.60        39\n",
            "           8       0.74      0.76      0.75        41\n",
            "           9       0.65      0.77      0.71        39\n",
            "          10       0.64      0.81      0.72        42\n",
            "          11       0.96      0.86      0.91       125\n",
            "\n",
            "    accuracy                           0.77       720\n",
            "   macro avg       0.73      0.77      0.74       720\n",
            "weighted avg       0.80      0.77      0.78       720\n",
            "\n",
            "Accuracy Score:        0.771\n",
            "Computing time:        0.020 second\n",
            "==========================================================\n",
            "K-nearest neighbour\n",
            "              precision    recall  f1-score   support\n",
            "\n",
            "           0       0.58      0.82      0.68       112\n",
            "           1       0.60      0.91      0.72        43\n",
            "           2       1.00      1.00      1.00        45\n",
            "           3       0.86      0.97      0.91       117\n",
            "           4       0.67      0.93      0.78        45\n",
            "           5       0.76      0.39      0.52        41\n",
            "           6       0.57      0.74      0.65        31\n",
            "           7       0.89      0.41      0.56        39\n",
            "           8       0.88      0.17      0.29        41\n",
            "           9       0.76      0.79      0.77        39\n",
            "          10       1.00      0.14      0.25        42\n",
            "          11       0.95      0.94      0.95       125\n",
            "\n",
            "    accuracy                           0.76       720\n",
            "   macro avg       0.79      0.69      0.67       720\n",
            "weighted avg       0.80      0.76      0.73       720\n",
            "\n",
            "Accuracy Score:        0.761\n",
            "Computing time:        4.214 second\n",
            "==========================================================\n",
            "======================End of predicting======================\n"
          ],
          "name": "stdout"
        }
      ]
    },
    {
      "cell_type": "markdown",
      "metadata": {
        "id": "0fjv22_LFXic",
        "colab_type": "text"
      },
      "source": [
        "Using the word2vec, the time consumption is reduced a lot but the accuracy is also decreased"
      ]
    },
    {
      "cell_type": "markdown",
      "metadata": {
        "id": "UemmFOd6OGgN",
        "colab_type": "text"
      },
      "source": [
        "## 4. Recurrent Neural Network for classification"
      ]
    },
    {
      "cell_type": "markdown",
      "metadata": {
        "id": "LDPXeWrdONQb",
        "colab_type": "text"
      },
      "source": [
        "We will use numeric vectorized data from word2vec scheme for this section."
      ]
    },
    {
      "cell_type": "code",
      "metadata": {
        "id": "JUzhzM2TOpwn",
        "colab_type": "code",
        "colab": {}
      },
      "source": [
        "from tensorflow.keras.preprocessing import sequence\n",
        "from tensorflow.keras.models import Sequential\n",
        "from tensorflow.keras.layers import Dense, Embedding, LSTM, SpatialDropout1D\n"
      ],
      "execution_count": 0,
      "outputs": []
    },
    {
      "cell_type": "code",
      "metadata": {
        "id": "9sx3aR05NiaW",
        "colab_type": "code",
        "outputId": "f2bd5170-6b04-4abd-dbd8-0d197f840735",
        "colab": {
          "base_uri": "https://localhost:8080/",
          "height": 51
        }
      },
      "source": [
        "Y = pd.get_dummies(df['Author']).values\n",
        "X_train_web, X_test_web, Y_train_web, Y_test_web = train_test_split(X,Y, test_size = 0.10, random_state = 42)\n",
        "print(X_train_web.shape,Y_train_web.shape)\n",
        "print(X_test_web.shape,Y_test_web.shape)"
      ],
      "execution_count": 226,
      "outputs": [
        {
          "output_type": "stream",
          "text": [
            "(3240, 200) (3240, 12)\n",
            "(360, 200) (360, 12)\n"
          ],
          "name": "stdout"
        }
      ]
    },
    {
      "cell_type": "code",
      "metadata": {
        "id": "k3cvmCETN1sh",
        "colab_type": "code",
        "outputId": "4c904470-d21b-4741-be52-ed85b16600ca",
        "colab": {
          "base_uri": "https://localhost:8080/",
          "height": 306
        }
      },
      "source": [
        "model = Sequential()\n",
        "model.add(Embedding(wordsInVocab, 128, input_length=X.shape[1]))\n",
        "model.add(SpatialDropout1D(0.1))\n",
        "model.add(LSTM(128, dropout=0.1, recurrent_dropout=0.1))\n",
        "model.add(Dense(12, activation='softmax'))\n",
        "model.compile(loss='categorical_crossentropy', optimizer='adam', metrics=['accuracy'])\n",
        "print(model.summary())"
      ],
      "execution_count": 227,
      "outputs": [
        {
          "output_type": "stream",
          "text": [
            "Model: \"sequential_4\"\n",
            "_________________________________________________________________\n",
            "Layer (type)                 Output Shape              Param #   \n",
            "=================================================================\n",
            "embedding_4 (Embedding)      (None, 200, 128)          2123136   \n",
            "_________________________________________________________________\n",
            "spatial_dropout1d_2 (Spatial (None, 200, 128)          0         \n",
            "_________________________________________________________________\n",
            "lstm_4 (LSTM)                (None, 128)               131584    \n",
            "_________________________________________________________________\n",
            "dense_4 (Dense)              (None, 12)                1548      \n",
            "=================================================================\n",
            "Total params: 2,256,268\n",
            "Trainable params: 2,256,268\n",
            "Non-trainable params: 0\n",
            "_________________________________________________________________\n",
            "None\n"
          ],
          "name": "stdout"
        }
      ]
    },
    {
      "cell_type": "code",
      "metadata": {
        "id": "jIAS5ux2N2Gs",
        "colab_type": "code",
        "outputId": "aa2f0034-701d-4c44-c3b6-0b3d50403c17",
        "colab": {
          "base_uri": "https://localhost:8080/",
          "height": 204
        }
      },
      "source": [
        "from keras.callbacks import EarlyStopping\n",
        "epochs = 5\n",
        "batch_size = 64\n",
        "history = model.fit(X_train_web, Y_train_web, epochs=epochs, batch_size=batch_size,validation_split=0.1,callbacks=[EarlyStopping(monitor='val_loss', patience=3, min_delta=0.0001)])"
      ],
      "execution_count": 228,
      "outputs": [
        {
          "output_type": "stream",
          "text": [
            "Train on 2916 samples, validate on 324 samples\n",
            "Epoch 1/5\n",
            "2916/2916 [==============================] - 24s 8ms/sample - loss: 2.3729 - acc: 0.1605 - val_loss: 2.3828 - val_acc: 0.1235\n",
            "Epoch 2/5\n",
            "2916/2916 [==============================] - 21s 7ms/sample - loss: 2.3482 - acc: 0.1612 - val_loss: 2.3813 - val_acc: 0.1759\n",
            "Epoch 3/5\n",
            "2916/2916 [==============================] - 21s 7ms/sample - loss: 2.3461 - acc: 0.1629 - val_loss: 2.3833 - val_acc: 0.1759\n",
            "Epoch 4/5\n",
            "2916/2916 [==============================] - 21s 7ms/sample - loss: 2.3463 - acc: 0.1639 - val_loss: 2.3846 - val_acc: 0.1698\n",
            "Epoch 5/5\n",
            "2916/2916 [==============================] - 21s 7ms/sample - loss: 2.3437 - acc: 0.1722 - val_loss: 2.3763 - val_acc: 0.1759\n"
          ],
          "name": "stdout"
        }
      ]
    },
    {
      "cell_type": "markdown",
      "metadata": {
        "id": "pyHrnxOtguEQ",
        "colab_type": "text"
      },
      "source": [
        "Using the data with the w2v method applied in the RNN show bad accuracy.\n",
        "Let's try text_to_sequence method"
      ]
    },
    {
      "cell_type": "code",
      "metadata": {
        "id": "xnS2JFNdgskF",
        "colab_type": "code",
        "outputId": "85949fc1-d391-41fe-899d-c58cd8326e84",
        "colab": {
          "base_uri": "https://localhost:8080/",
          "height": 34
        }
      },
      "source": [
        "from keras.preprocessing.text import Tokenizer\n",
        "from keras.preprocessing.sequence import pad_sequences\n",
        "tokenizer = Tokenizer(num_words=10000, filters='!\"#$%&()*+,-./:;<=>?@[\\]^_`{|}~', lower=True)\n",
        "tokenizer.fit_on_texts(df['Text'].values)\n",
        "word_index = tokenizer.word_index\n",
        "print('Found %s unique tokens.' % len(word_index))"
      ],
      "execution_count": 229,
      "outputs": [
        {
          "output_type": "stream",
          "text": [
            "Found 41738 unique tokens.\n"
          ],
          "name": "stdout"
        }
      ]
    },
    {
      "cell_type": "code",
      "metadata": {
        "id": "1nthknKeN2Bf",
        "colab_type": "code",
        "outputId": "0c57af94-3575-44f0-dfa2-f965523cc140",
        "colab": {
          "base_uri": "https://localhost:8080/",
          "height": 34
        }
      },
      "source": [
        "X = tokenizer.texts_to_sequences(df['Text'].values)\n",
        "X = pad_sequences(X, maxlen=200) ## 200 value to present a sentence\n",
        "print('Shape of data tensor:', X.shape)"
      ],
      "execution_count": 230,
      "outputs": [
        {
          "output_type": "stream",
          "text": [
            "Shape of data tensor: (3600, 200)\n"
          ],
          "name": "stdout"
        }
      ]
    },
    {
      "cell_type": "code",
      "metadata": {
        "id": "uwkku4-NydhP",
        "colab_type": "code",
        "colab": {}
      },
      "source": [
        "X_train_rnn, X_test_rnn, Y_train_rnn, Y_test_rnn = train_test_split(X, Y, test_size = 0.2, random_state = 5)"
      ],
      "execution_count": 0,
      "outputs": []
    },
    {
      "cell_type": "code",
      "metadata": {
        "id": "Eq3z-2wLEauN",
        "colab_type": "code",
        "outputId": "e74dd173-349a-4de4-b25a-637e98dd8f1d",
        "colab": {
          "base_uri": "https://localhost:8080/",
          "height": 102
        }
      },
      "source": [
        "# reduce the side of X, take only 100 first words\n",
        "X_train_rnn=np.array(X_train_rnn)\n",
        "X_test_rnn=np.array(X_test_rnn)\n",
        "print('shape of train and test data to rnn')\n",
        "print(X_train_rnn.shape)\n",
        "print(X_test_rnn.shape)\n",
        "print(Y_train_rnn.shape)\n",
        "print(Y_test_rnn.shape)"
      ],
      "execution_count": 232,
      "outputs": [
        {
          "output_type": "stream",
          "text": [
            "shape of train and test data to rnn\n",
            "(2880, 200)\n",
            "(720, 200)\n",
            "(2880, 12)\n",
            "(720, 12)\n"
          ],
          "name": "stdout"
        }
      ]
    },
    {
      "cell_type": "code",
      "metadata": {
        "id": "AL-3-ZTX0fNT",
        "colab_type": "code",
        "outputId": "3df0a2da-8f9b-434f-f716-d8adeee71eec",
        "colab": {
          "base_uri": "https://localhost:8080/",
          "height": 255
        }
      },
      "source": [
        "model_rnn = Sequential()\n",
        "model_rnn.add(Embedding(10000, 128, input_length=200))\n",
        "model_rnn.add(LSTM(128, dropout=0.2, recurrent_dropout=0.2))\n",
        "model_rnn.add(Dense(12, activation='softmax'))\n",
        "model_rnn.summary()\n",
        "model_rnn.compile(loss='categorical_crossentropy', optimizer='adam', metrics=['accuracy'])\n"
      ],
      "execution_count": 233,
      "outputs": [
        {
          "output_type": "stream",
          "text": [
            "Model: \"sequential_5\"\n",
            "_________________________________________________________________\n",
            "Layer (type)                 Output Shape              Param #   \n",
            "=================================================================\n",
            "embedding_5 (Embedding)      (None, 200, 128)          1280000   \n",
            "_________________________________________________________________\n",
            "lstm_5 (LSTM)                (None, 128)               131584    \n",
            "_________________________________________________________________\n",
            "dense_5 (Dense)              (None, 12)                1548      \n",
            "=================================================================\n",
            "Total params: 1,413,132\n",
            "Trainable params: 1,413,132\n",
            "Non-trainable params: 0\n",
            "_________________________________________________________________\n"
          ],
          "name": "stdout"
        }
      ]
    },
    {
      "cell_type": "code",
      "metadata": {
        "id": "7sK8BqNiVf7E",
        "colab_type": "code",
        "outputId": "2fc16cef-e228-4475-c57e-195e3cb81d30",
        "colab": {
          "base_uri": "https://localhost:8080/",
          "height": 544
        }
      },
      "source": [
        "# train model\n",
        "epochs = 15\n",
        "batch_size = 128\n",
        "history = model_rnn.fit(X_train_rnn, Y_train_rnn, epochs=epochs, batch_size=batch_size,validation_split=0.1)\n",
        "## valid by 10 % of train"
      ],
      "execution_count": 234,
      "outputs": [
        {
          "output_type": "stream",
          "text": [
            "Train on 2592 samples, validate on 288 samples\n",
            "Epoch 1/15\n",
            "2592/2592 [==============================] - 12s 5ms/sample - loss: 2.4061 - acc: 0.2218 - val_loss: 2.2806 - val_acc: 0.4271\n",
            "Epoch 2/15\n",
            "2592/2592 [==============================] - 11s 4ms/sample - loss: 2.0538 - acc: 0.3638 - val_loss: 1.6890 - val_acc: 0.3889\n",
            "Epoch 3/15\n",
            "2592/2592 [==============================] - 11s 4ms/sample - loss: 1.5871 - acc: 0.4641 - val_loss: 1.4912 - val_acc: 0.5278\n",
            "Epoch 4/15\n",
            "2592/2592 [==============================] - 11s 4ms/sample - loss: 1.3773 - acc: 0.5123 - val_loss: 1.2768 - val_acc: 0.6007\n",
            "Epoch 5/15\n",
            "2592/2592 [==============================] - 11s 4ms/sample - loss: 1.1281 - acc: 0.5895 - val_loss: 1.0471 - val_acc: 0.5868\n",
            "Epoch 6/15\n",
            "2592/2592 [==============================] - 11s 4ms/sample - loss: 0.9320 - acc: 0.6755 - val_loss: 0.8215 - val_acc: 0.7153\n",
            "Epoch 7/15\n",
            "2592/2592 [==============================] - 11s 4ms/sample - loss: 0.8083 - acc: 0.7724 - val_loss: 0.8044 - val_acc: 0.7326\n",
            "Epoch 8/15\n",
            "2592/2592 [==============================] - 11s 4ms/sample - loss: 0.7112 - acc: 0.7971 - val_loss: 0.7449 - val_acc: 0.7639\n",
            "Epoch 9/15\n",
            "2592/2592 [==============================] - 11s 4ms/sample - loss: 0.6242 - acc: 0.8079 - val_loss: 0.6379 - val_acc: 0.7604\n",
            "Epoch 10/15\n",
            "2592/2592 [==============================] - 11s 4ms/sample - loss: 0.4827 - acc: 0.8465 - val_loss: 0.5337 - val_acc: 0.8056\n",
            "Epoch 11/15\n",
            "2592/2592 [==============================] - 11s 4ms/sample - loss: 0.5026 - acc: 0.8476 - val_loss: 0.5931 - val_acc: 0.7778\n",
            "Epoch 12/15\n",
            "2592/2592 [==============================] - 12s 4ms/sample - loss: 0.3889 - acc: 0.8927 - val_loss: 0.4556 - val_acc: 0.8333\n",
            "Epoch 13/15\n",
            "2592/2592 [==============================] - 11s 4ms/sample - loss: 0.3037 - acc: 0.9240 - val_loss: 0.4213 - val_acc: 0.8299\n",
            "Epoch 14/15\n",
            "2592/2592 [==============================] - 11s 4ms/sample - loss: 0.2550 - acc: 0.9456 - val_loss: 0.3958 - val_acc: 0.8333\n",
            "Epoch 15/15\n",
            "2592/2592 [==============================] - 11s 4ms/sample - loss: 0.2203 - acc: 0.9537 - val_loss: 0.3748 - val_acc: 0.8715\n"
          ],
          "name": "stdout"
        }
      ]
    },
    {
      "cell_type": "code",
      "metadata": {
        "id": "RB1iIZ1lWIqV",
        "colab_type": "code",
        "colab": {
          "base_uri": "https://localhost:8080/",
          "height": 391
        },
        "outputId": "89edfb4b-d302-458c-c1b6-97475b60471b"
      },
      "source": [
        "## check the accuracy\n",
        "score, acc= model_rnn.evaluate(X_test_rnn, Y_test_rnn,\n",
        "                           batch_size=32,\n",
        "                           verbose=2)\n",
        "print('Score value',score)\n",
        "print('Accuracy',acc)\n",
        "## report \n",
        "y_true= [np.where(r==1)[0][0] for r in Y_test_rnn]\n",
        "yhat_classes = model_rnn.predict_classes(X_test_rnn, verbose=0)\n",
        "print(classification_report(y_true,yhat_classes)) # later\n"
      ],
      "execution_count": 235,
      "outputs": [
        {
          "output_type": "stream",
          "text": [
            "720/720 - 1s - loss: 0.4065 - acc: 0.8611\n",
            "Score value 0.4065286987357669\n",
            "Accuracy 0.8611111\n",
            "              precision    recall  f1-score   support\n",
            "\n",
            "           0       0.92      0.95      0.93       112\n",
            "           1       0.39      0.56      0.46        43\n",
            "           2       0.92      0.98      0.95        45\n",
            "           3       0.97      0.95      0.96       117\n",
            "           4       0.88      0.49      0.63        45\n",
            "           5       0.97      0.85      0.91        41\n",
            "           6       0.47      0.87      0.61        31\n",
            "           7       0.89      0.87      0.88        39\n",
            "           8       1.00      1.00      1.00        41\n",
            "           9       0.53      0.23      0.32        39\n",
            "          10       1.00      1.00      1.00        42\n",
            "          11       0.99      1.00      1.00       125\n",
            "\n",
            "    accuracy                           0.86       720\n",
            "   macro avg       0.83      0.81      0.80       720\n",
            "weighted avg       0.88      0.86      0.86       720\n",
            "\n"
          ],
          "name": "stdout"
        }
      ]
    },
    {
      "cell_type": "code",
      "metadata": {
        "id": "yGH_r2PmmjDW",
        "colab_type": "code",
        "colab": {
          "base_uri": "https://localhost:8080/",
          "height": 619
        },
        "outputId": "2df7bc3d-7fc7-40fc-fdd7-06a24d2fe1e5"
      },
      "source": [
        "#Plotting graphs\n",
        "acc = history.history['acc']\n",
        "val_acc = history.history['val_acc']\n",
        "loss = history.history['loss']\n",
        "val_loss = history.history['val_loss']\n",
        "print('Accuracy on train:',acc[len(acc)-1] ) \n",
        "print('Accuracy on valid:',val_acc[len(acc)-1] ) \n",
        "epochs = range(len(acc))\n",
        " \n",
        "plt.plot(epochs, acc, 'b', label='Training acc')\n",
        "plt.plot(epochs, val_acc, 'r', label='Validation acc')\n",
        "plt.title('Training and validation accuracy')\n",
        "plt.legend()\n",
        " \n",
        "plt.figure()\n",
        " \n",
        "plt.plot(epochs, loss, 'b', label='Training loss')\n",
        "plt.plot(epochs, val_loss, 'r', label='Validation loss')\n",
        "plt.title('Training and validation loss')\n",
        "plt.legend()\n",
        "print('lost on train:',loss[len(acc)-1] ) \n",
        "print('lost on valid:',val_loss[len(acc)-1] )  \n",
        "plt.show()\n",
        "## print report to see f1, recall "
      ],
      "execution_count": 236,
      "outputs": [
        {
          "output_type": "stream",
          "text": [
            "Accuracy on train: 0.9537037\n",
            "Accuracy on valid: 0.8715278\n",
            "lost on train: 0.22029559479819405\n",
            "lost on valid: 0.37481430504057145\n"
          ],
          "name": "stdout"
        },
        {
          "output_type": "display_data",
          "data": {
            "image/png": "[encoded data removed]",
            "text/plain": [
              "<Figure size 432x288 with 1 Axes>"
            ]
          },
          "metadata": {
            "tags": []
          }
        },
        {
          "output_type": "display_data",
          "data": {
            "image/png": "[encoded data removed]",
            "text/plain": [
              "<Figure size 432x288 with 1 Axes>"
            ]
          },
          "metadata": {
            "tags": []
          }
        }
      ]
    },
    {
      "cell_type": "markdown",
      "metadata": {
        "id": "kqVdUxmGyErw",
        "colab_type": "text"
      },
      "source": [
        "The model RNN using text to sequence performs very well."
      ]
    },
    {
      "cell_type": "markdown",
      "metadata": {
        "id": "TQv570THyFMs",
        "colab_type": "text"
      },
      "source": [
        "## Clustering data"
      ]
    },
    {
      "cell_type": "code",
      "metadata": {
        "id": "zbqXoFaGZDZY",
        "colab_type": "code",
        "colab": {}
      },
      "source": [
        "### k mean cluster using text 2 seq data"
      ],
      "execution_count": 0,
      "outputs": []
    },
    {
      "cell_type": "markdown",
      "metadata": {
        "id": "2MBoAph8yKnR",
        "colab_type": "text"
      },
      "source": [
        "In this report we use the matrix from TFIDF to cluster the documents. We choose a typical number of cluster as 5 show in follow"
      ]
    },
    {
      "cell_type": "code",
      "metadata": {
        "id": "DRRlb7AjYd-l",
        "colab_type": "code",
        "colab": {}
      },
      "source": [
        "kmeans=KMeans(n_clusters=5,algorithm='elkan', max_iter=100)\n",
        "kmeans.fit(tfidf_matrix.toarray())\n",
        "centers = kmeans.cluster_centers_\n",
        "ssvariance = kmeans.inertia_\n",
        "clusters = kmeans.labels_.tolist()"
      ],
      "execution_count": 0,
      "outputs": []
    },
    {
      "cell_type": "code",
      "metadata": {
        "id": "qOzRYizIUGgQ",
        "colab_type": "code",
        "colab": {}
      },
      "source": [
        "terms = vectorizer.get_feature_names()"
      ],
      "execution_count": 0,
      "outputs": []
    },
    {
      "cell_type": "code",
      "metadata": {
        "id": "KepbtfMpUHEE",
        "colab_type": "code",
        "colab": {}
      },
      "source": [
        "df['kmeans']=pd.DataFrame(clusters)\n",
        "df['encode_author']=pd.DataFrame(author_lb.fit_transform(df.Author))"
      ],
      "execution_count": 0,
      "outputs": []
    },
    {
      "cell_type": "code",
      "metadata": {
        "id": "qv2VP-hYUJ8B",
        "colab_type": "code",
        "colab": {
          "base_uri": "https://localhost:8080/",
          "height": 119
        },
        "outputId": "062f0d63-eae5-44b3-8caf-4e7c3e61bad0"
      },
      "source": [
        "print(df.kmeans.value_counts())"
      ],
      "execution_count": 178,
      "outputs": [
        {
          "output_type": "stream",
          "text": [
            "1    1578\n",
            "3     614\n",
            "4     613\n",
            "2     597\n",
            "0     198\n",
            "Name: kmeans, dtype: int64\n"
          ],
          "name": "stdout"
        }
      ]
    },
    {
      "cell_type": "code",
      "metadata": {
        "id": "17btW7g9U_h4",
        "colab_type": "code",
        "colab": {
          "base_uri": "https://localhost:8080/",
          "height": 318
        },
        "outputId": "c39c7789-0974-45ca-be09-4a50cc45c277"
      },
      "source": [
        "sns.distplot(df.kmeans, kde = False, bins = 5, color = 'blue').set_title(\"Cluster Distribution\")\n",
        "plt.xlabel('Cluster')\n",
        "plt.ylabel('Count')"
      ],
      "execution_count": 179,
      "outputs": [
        {
          "output_type": "execute_result",
          "data": {
            "text/plain": [
              "Text(0, 0.5, 'Count')"
            ]
          },
          "metadata": {
            "tags": []
          },
          "execution_count": 179
        },
        {
          "output_type": "display_data",
          "data": {
            "image/png": "[encoded data removed]",
            "text/plain": [
              "<Figure size 432x288 with 1 Axes>"
            ]
          },
          "metadata": {
            "tags": []
          }
        }
      ]
    },
    {
      "cell_type": "markdown",
      "metadata": {
        "id": "qsh7fEl-0N8Y",
        "colab_type": "text"
      },
      "source": [
        "As shown in the figure, all of the cluster contains more than 200 sub-documents. Let's examine the most word appears in each cluster:"
      ]
    },
    {
      "cell_type": "code",
      "metadata": {
        "id": "hvkh1NTmWw14",
        "colab_type": "code",
        "colab": {
          "base_uri": "https://localhost:8080/",
          "height": 1000
        },
        "outputId": "d5afde1f-354a-4782-e694-2857a2505eea"
      },
      "source": [
        "from __future__ import print_function\n",
        "\n",
        "print(\"Top terms per cluster:\")\n",
        "print()\n",
        "#sort cluster centers by proximity to centroid\n",
        "order_centroids = kmeans.cluster_centers_.argsort()[:, ::-1] \n",
        "\n",
        "for i in range(5):\n",
        "    print(\"Cluster %d words: \\n\" % i, end='')\n",
        "    \n",
        "    for ind in order_centroids[i, :10]: #10 with n words per cluster\n",
        "        print(terms[ind])\n",
        "    print() #add whitespace\n",
        "    print() #add whitespace\n",
        "print()\n",
        "print()"
      ],
      "execution_count": 180,
      "outputs": [
        {
          "output_type": "stream",
          "text": [
            "Top terms per cluster:\n",
            "\n",
            "Cluster 0 words: \n",
            "unto\n",
            "lord\n",
            "shall\n",
            "thou\n",
            "thy\n",
            "ye\n",
            "god\n",
            "thee\n",
            "israel\n",
            "10\n",
            "\n",
            "\n",
            "Cluster 1 words: \n",
            "said\n",
            "little\n",
            "alice\n",
            "one\n",
            "like\n",
            "man\n",
            "syme\n",
            "turnbull\n",
            "buster\n",
            "brown\n",
            "\n",
            "\n",
            "Cluster 2 words: \n",
            "haue\n",
            "ham\n",
            "thou\n",
            "caesar\n",
            "enter\n",
            "vs\n",
            "lord\n",
            "macb\n",
            "brutus\n",
            "vpon\n",
            "\n",
            "\n",
            "Cluster 3 words: \n",
            "mrs\n",
            "mr\n",
            "could\n",
            "would\n",
            "miss\n",
            "emma\n",
            "elinor\n",
            "marianne\n",
            "anne\n",
            "must\n",
            "\n",
            "\n",
            "Cluster 4 words: \n",
            "whale\n",
            "thou\n",
            "thee\n",
            "thy\n",
            "heaven\n",
            "one\n",
            "yet\n",
            "sea\n",
            "earth\n",
            "ahab\n",
            "\n",
            "\n",
            "\n",
            "\n"
          ],
          "name": "stdout"
        }
      ]
    },
    {
      "cell_type": "markdown",
      "metadata": {
        "id": "Uf8Cbk8nKSV0",
        "colab_type": "text"
      },
      "source": [
        "# Conclusion\n",
        "The main goal of this report is to research and present the NLP techniques including supervised and unsupervised learning to build a authorship classifier. The text processing tools in this report are Bag of word, TF-IDF and word2vec applied to the Gutenberg data set. Among the supervised learning, TFIDF seems performs very well in terms of accuracy. In case of BOW, the KNN performs quite bad compared to the other. To have a quick result we can use w2v scheme with a bit lower in the fidelity. \n",
        "RNN using w2v vector as input produces a very bad result around 16 % of accuracy, in stead we use the text to sequence scheme for RNN. It can be seen that the RNN using text to sequence give a excellent resut with 15 epochs.\n",
        "Furthermore, we also done clustering in this case, it can be categorized as a genre or topic of the documents, i.e. several documents of different author can has the same topic (cluster). \n",
        "\n",
        "For furture work, we can use LSA, LDA to do topic modeling in stead of Kmeans. A reason why the w2v scheme yields bad result when apply to RNN should be investigated."
      ]
    },
    {
      "cell_type": "code",
      "metadata": {
        "id": "u24Fg7Tabt1S",
        "colab_type": "code",
        "colab": {}
      },
      "source": [
        ""
      ],
      "execution_count": 0,
      "outputs": []
    }
  ]
}