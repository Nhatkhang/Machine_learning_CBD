{
 "cells": [
  {
   "cell_type": "markdown",
   "metadata": {},
   "source": [
    "There is a lot of information on runners and their performance for the\n",
    "Boston Marathon. Pick a year (post-2012 has more info) and do some\n",
    "clustering.\n",
    "Specifically, use the tools at hand to determine which clustering\n",
    "solution, including number of clusters and algorithm used, is best for\n",
    "the marathon data. Once you have a solution you like, write a data\n",
    "story, including visualizations, where you teach the reader something\n",
    "about the Boston Marathon based on your clusters. Write up your\n",
    "report, including your process from start to finish. You must include\n",
    "analysis as:\n",
    "1. Draw bar graphs (both male & female in different color) for each\n",
    "cluster for male and female, from the bar graphs, you can tell things\n",
    "as which cluster contains the most number of female (or male).\n",
    "2. Draw bar graphs for runners in different ranges of age (dividing by 3\n",
    "groups: 18-25, 26-40, 40-70 or so) for each cluster (in different colors),\n",
    "from the graph, you should be able to anwser which cluster contains\n",
    "the most young people, which cluster contains oldest people, etc.\n",
    "3. Do the same things as above for finishing time (which group runs fastest)."
   ]
  },
  {
   "cell_type": "markdown",
   "metadata": {},
   "source": [
    "# Abstract\n",
    "In this report, we will manipulate the data of Boston marathon runners in 2012 to do clustering. The technique used in this report is K-mean clustering algorithm, which is easy to implement and comprehend. This report will include:\n",
    "1. Initial Data Exploration\n",
    "2. Clustering\n",
    "2. Data Visualization\n",
    "4. Conclusion\n",
    "\n"
   ]
  },
  {
   "cell_type": "markdown",
   "metadata": {},
   "source": [
    "## 1. Initial Data Exploration"
   ]
  },
  {
   "cell_type": "code",
   "execution_count": 2,
   "metadata": {},
   "outputs": [],
   "source": [
    "%config IPCompleter.greedy=True\n",
    "import pandas as pd\n",
    "import numpy as np\n",
    "import seaborn as sns\n",
    "import time\n",
    "import matplotlib.pyplot as plt\n",
    "from sklearn.cluster import KMeans\n",
    "from sklearn.preprocessing import StandardScaler\n",
    "import warnings\n",
    "warnings.filterwarnings(\"ignore\")"
   ]
  },
  {
   "cell_type": "code",
   "execution_count": 3,
   "metadata": {},
   "outputs": [
    {
     "name": "stdout",
     "output_type": "stream",
     "text": [
      "<class 'pandas.core.frame.DataFrame'>\n",
      "RangeIndex: 21652 entries, 0 to 21651\n",
      "Data columns (total 12 columns):\n",
      "division     21652 non-null object\n",
      "name         21652 non-null object\n",
      "city         21652 non-null object\n",
      "gender       21652 non-null object\n",
      "age          21652 non-null int64\n",
      "official     21652 non-null object\n",
      "bib          21652 non-null object\n",
      "overall      21652 non-null object\n",
      "state        19880 non-null object\n",
      "genderdiv    21652 non-null object\n",
      "net          21652 non-null float64\n",
      "country      21652 non-null object\n",
      "dtypes: float64(1), int64(1), object(10)\n",
      "memory usage: 2.0+ MB\n"
     ]
    }
   ],
   "source": [
    "data=pd.read_csv('D:\\\\ML_coures\\\\CBD_assigment\\\\Assigment_06_KNN_clustering_Boston_marathon\\\\data\\\\results.csv')\n",
    "## load data\n",
    "pd.set_option('display.max_columns', None)\n",
    "data.info()"
   ]
  },
  {
   "cell_type": "code",
   "execution_count": 4,
   "metadata": {},
   "outputs": [
    {
     "name": "stdout",
     "output_type": "stream",
     "text": [
      "Dataframe dimensions: (21652, 12)\n"
     ]
    },
    {
     "data": {
      "text/html": [
       "<div>\n",
       "<style scoped>\n",
       "    .dataframe tbody tr th:only-of-type {\n",
       "        vertical-align: middle;\n",
       "    }\n",
       "\n",
       "    .dataframe tbody tr th {\n",
       "        vertical-align: top;\n",
       "    }\n",
       "\n",
       "    .dataframe thead th {\n",
       "        text-align: right;\n",
       "    }\n",
       "</style>\n",
       "<table border=\"1\" class=\"dataframe\">\n",
       "  <thead>\n",
       "    <tr style=\"text-align: right;\">\n",
       "      <th></th>\n",
       "      <th>division</th>\n",
       "      <th>name</th>\n",
       "      <th>city</th>\n",
       "      <th>gender</th>\n",
       "      <th>age</th>\n",
       "      <th>official</th>\n",
       "      <th>bib</th>\n",
       "      <th>overall</th>\n",
       "      <th>state</th>\n",
       "      <th>genderdiv</th>\n",
       "      <th>net</th>\n",
       "      <th>country</th>\n",
       "    </tr>\n",
       "  </thead>\n",
       "  <tbody>\n",
       "    <tr>\n",
       "      <th>column type</th>\n",
       "      <td>object</td>\n",
       "      <td>object</td>\n",
       "      <td>object</td>\n",
       "      <td>object</td>\n",
       "      <td>int64</td>\n",
       "      <td>object</td>\n",
       "      <td>object</td>\n",
       "      <td>object</td>\n",
       "      <td>object</td>\n",
       "      <td>object</td>\n",
       "      <td>float64</td>\n",
       "      <td>object</td>\n",
       "    </tr>\n",
       "    <tr>\n",
       "      <th>null values</th>\n",
       "      <td>0</td>\n",
       "      <td>0</td>\n",
       "      <td>0</td>\n",
       "      <td>0</td>\n",
       "      <td>0</td>\n",
       "      <td>0</td>\n",
       "      <td>0</td>\n",
       "      <td>0</td>\n",
       "      <td>1772</td>\n",
       "      <td>0</td>\n",
       "      <td>0</td>\n",
       "      <td>0</td>\n",
       "    </tr>\n",
       "    <tr>\n",
       "      <th>null values (%)</th>\n",
       "      <td>0</td>\n",
       "      <td>0</td>\n",
       "      <td>0</td>\n",
       "      <td>0</td>\n",
       "      <td>0</td>\n",
       "      <td>0</td>\n",
       "      <td>0</td>\n",
       "      <td>0</td>\n",
       "      <td>8.184</td>\n",
       "      <td>0</td>\n",
       "      <td>0</td>\n",
       "      <td>0</td>\n",
       "    </tr>\n",
       "  </tbody>\n",
       "</table>\n",
       "</div>"
      ],
      "text/plain": [
       "                division    name    city  gender    age official     bib  \\\n",
       "column type       object  object  object  object  int64   object  object   \n",
       "null values            0       0       0       0      0        0       0   \n",
       "null values (%)        0       0       0       0      0        0       0   \n",
       "\n",
       "                overall   state genderdiv      net country  \n",
       "column type      object  object    object  float64  object  \n",
       "null values           0    1772         0        0       0  \n",
       "null values (%)       0   8.184         0        0       0  "
      ]
     },
     "execution_count": 4,
     "metadata": {},
     "output_type": "execute_result"
    }
   ],
   "source": [
    "print('Dataframe dimensions:', data.shape) ## print shape\n",
    "pd.set_option('display.max_columns', None)\n",
    "#____________________________________________________________\n",
    "# gives some infor on columns types and number of null values\n",
    "tab_info=pd.DataFrame(data.dtypes).T.rename(index={0:'column type'})\n",
    "tab_info=tab_info.append(pd.DataFrame(data.isnull().sum()).T.rename(index={0:'null values'}))\n",
    "tab_info=tab_info.append(pd.DataFrame(data.isnull().sum()/data.shape[0]*100)\n",
    "                         .T.rename(index={0:'null values (%)'}))\n",
    "tab_info\n",
    "\n"
   ]
  },
  {
   "cell_type": "code",
   "execution_count": 5,
   "metadata": {},
   "outputs": [
    {
     "data": {
      "text/plain": [
       "68"
      ]
     },
     "execution_count": 5,
     "metadata": {},
     "output_type": "execute_result"
    }
   ],
   "source": [
    "len(data.state.unique())"
   ]
  },
  {
   "cell_type": "markdown",
   "metadata": {},
   "source": [
    "Let's drop the state column for ease in clustering due to its number of unique value is 68 and it is a category type variable. "
   ]
  },
  {
   "cell_type": "code",
   "execution_count": 6,
   "metadata": {},
   "outputs": [
    {
     "data": {
      "text/html": [
       "<div>\n",
       "<style scoped>\n",
       "    .dataframe tbody tr th:only-of-type {\n",
       "        vertical-align: middle;\n",
       "    }\n",
       "\n",
       "    .dataframe tbody tr th {\n",
       "        vertical-align: top;\n",
       "    }\n",
       "\n",
       "    .dataframe thead th {\n",
       "        text-align: right;\n",
       "    }\n",
       "</style>\n",
       "<table border=\"1\" class=\"dataframe\">\n",
       "  <thead>\n",
       "    <tr style=\"text-align: right;\">\n",
       "      <th></th>\n",
       "      <th>division</th>\n",
       "      <th>name</th>\n",
       "      <th>city</th>\n",
       "      <th>gender</th>\n",
       "      <th>age</th>\n",
       "      <th>official</th>\n",
       "      <th>bib</th>\n",
       "      <th>overall</th>\n",
       "      <th>genderdiv</th>\n",
       "      <th>net</th>\n",
       "      <th>country</th>\n",
       "    </tr>\n",
       "  </thead>\n",
       "  <tbody>\n",
       "    <tr>\n",
       "      <th>0</th>\n",
       "      <td>4        / 26</td>\n",
       "      <td>Soejima, Masazumi</td>\n",
       "      <td>Fukuoka City</td>\n",
       "      <td>M</td>\n",
       "      <td>41</td>\n",
       "      <td>83.45</td>\n",
       "      <td>W1</td>\n",
       "      <td>4        / 35</td>\n",
       "      <td>4        / 26</td>\n",
       "      <td>83.45</td>\n",
       "      <td>JPN</td>\n",
       "    </tr>\n",
       "    <tr>\n",
       "      <th>1</th>\n",
       "      <td>14       / 4335</td>\n",
       "      <td>Gebremariam, Gebregziabher</td>\n",
       "      <td>Tigray</td>\n",
       "      <td>M</td>\n",
       "      <td>27</td>\n",
       "      <td>142.93</td>\n",
       "      <td>2</td>\n",
       "      <td>14       / 21616</td>\n",
       "      <td>14       / 12621</td>\n",
       "      <td>142.93</td>\n",
       "      <td>ETH</td>\n",
       "    </tr>\n",
       "    <tr>\n",
       "      <th>2</th>\n",
       "      <td>6        / 26</td>\n",
       "      <td>Van Dyk, Ernst F.</td>\n",
       "      <td>Paarl</td>\n",
       "      <td>M</td>\n",
       "      <td>39</td>\n",
       "      <td>84.38</td>\n",
       "      <td>W2</td>\n",
       "      <td>6        / 35</td>\n",
       "      <td>6        / 26</td>\n",
       "      <td>84.38</td>\n",
       "      <td>RSA</td>\n",
       "    </tr>\n",
       "    <tr>\n",
       "      <th>3</th>\n",
       "      <td>2        / 26</td>\n",
       "      <td>Fearnley, Kurt H.</td>\n",
       "      <td>Hamilton</td>\n",
       "      <td>M</td>\n",
       "      <td>31</td>\n",
       "      <td>81.65</td>\n",
       "      <td>W3</td>\n",
       "      <td>2        / 35</td>\n",
       "      <td>2        / 26</td>\n",
       "      <td>81.65</td>\n",
       "      <td>AUS</td>\n",
       "    </tr>\n",
       "    <tr>\n",
       "      <th>4</th>\n",
       "      <td>3        / 26</td>\n",
       "      <td>Hokinoue, Kota</td>\n",
       "      <td>Iizuka</td>\n",
       "      <td>M</td>\n",
       "      <td>38</td>\n",
       "      <td>83.43</td>\n",
       "      <td>W4</td>\n",
       "      <td>3        / 35</td>\n",
       "      <td>3        / 26</td>\n",
       "      <td>83.43</td>\n",
       "      <td>JPN</td>\n",
       "    </tr>\n",
       "  </tbody>\n",
       "</table>\n",
       "</div>"
      ],
      "text/plain": [
       "          division                        name          city gender  age  \\\n",
       "0    4        / 26           Soejima, Masazumi  Fukuoka City      M   41   \n",
       "1  14       / 4335  Gebremariam, Gebregziabher        Tigray      M   27   \n",
       "2    6        / 26           Van Dyk, Ernst F.         Paarl      M   39   \n",
       "3    2        / 26           Fearnley, Kurt H.      Hamilton      M   31   \n",
       "4    3        / 26              Hokinoue, Kota        Iizuka      M   38   \n",
       "\n",
       "  official bib           overall         genderdiv     net country  \n",
       "0    83.45  W1     4        / 35     4        / 26   83.45     JPN  \n",
       "1   142.93   2  14       / 21616  14       / 12621  142.93     ETH  \n",
       "2    84.38  W2     6        / 35     6        / 26   84.38     RSA  \n",
       "3    81.65  W3     2        / 35     2        / 26   81.65     AUS  \n",
       "4    83.43  W4     3        / 35     3        / 26   83.43     JPN  "
      ]
     },
     "execution_count": 6,
     "metadata": {},
     "output_type": "execute_result"
    }
   ],
   "source": [
    "data=data.drop('state',axis=1)\n",
    "data.head()"
   ]
  },
  {
   "cell_type": "code",
   "execution_count": 7,
   "metadata": {},
   "outputs": [
    {
     "name": "stdout",
     "output_type": "stream",
     "text": [
      "Columns name division            unique value: 21652\n",
      "Columns name name            unique value: 21621\n",
      "Columns name city            unique value:  4975\n",
      "Columns name gender            unique value:     2\n",
      "Columns name age            unique value:    65\n",
      "Columns name official            unique value:  9570\n",
      "Columns name bib            unique value: 21652\n",
      "Columns name overall            unique value: 21652\n",
      "Columns name genderdiv            unique value: 21652\n",
      "Columns name net            unique value:  9392\n",
      "Columns name country            unique value:    60\n"
     ]
    },
    {
     "data": {
      "text/plain": [
       "division      object\n",
       "name          object\n",
       "city          object\n",
       "gender        object\n",
       "age            int64\n",
       "official      object\n",
       "bib           object\n",
       "overall       object\n",
       "genderdiv     object\n",
       "net          float64\n",
       "country       object\n",
       "dtype: object"
      ]
     },
     "execution_count": 7,
     "metadata": {},
     "output_type": "execute_result"
    }
   ],
   "source": [
    "for col in data.columns:\n",
    "    print ('Columns name',str(col),'           unique value: %5i'%len(data[col].unique()))\n",
    "data.dtypes"
   ]
  },
  {
   "cell_type": "markdown",
   "metadata": {},
   "source": [
    "We have 21652 observations seperated into 11 features. We only use some of them to do analysis.\n",
    "\n"
   ]
  },
  {
   "cell_type": "code",
   "execution_count": 8,
   "metadata": {},
   "outputs": [
    {
     "data": {
      "text/html": [
       "<div>\n",
       "<style scoped>\n",
       "    .dataframe tbody tr th:only-of-type {\n",
       "        vertical-align: middle;\n",
       "    }\n",
       "\n",
       "    .dataframe tbody tr th {\n",
       "        vertical-align: top;\n",
       "    }\n",
       "\n",
       "    .dataframe thead th {\n",
       "        text-align: right;\n",
       "    }\n",
       "</style>\n",
       "<table border=\"1\" class=\"dataframe\">\n",
       "  <thead>\n",
       "    <tr style=\"text-align: right;\">\n",
       "      <th></th>\n",
       "      <th>age</th>\n",
       "      <th>gender</th>\n",
       "      <th>official</th>\n",
       "      <th>country</th>\n",
       "    </tr>\n",
       "  </thead>\n",
       "  <tbody>\n",
       "    <tr>\n",
       "      <th>0</th>\n",
       "      <td>41</td>\n",
       "      <td>M</td>\n",
       "      <td>83.45</td>\n",
       "      <td>JPN</td>\n",
       "    </tr>\n",
       "    <tr>\n",
       "      <th>1</th>\n",
       "      <td>27</td>\n",
       "      <td>M</td>\n",
       "      <td>142.93</td>\n",
       "      <td>ETH</td>\n",
       "    </tr>\n",
       "    <tr>\n",
       "      <th>2</th>\n",
       "      <td>39</td>\n",
       "      <td>M</td>\n",
       "      <td>84.38</td>\n",
       "      <td>RSA</td>\n",
       "    </tr>\n",
       "    <tr>\n",
       "      <th>3</th>\n",
       "      <td>31</td>\n",
       "      <td>M</td>\n",
       "      <td>81.65</td>\n",
       "      <td>AUS</td>\n",
       "    </tr>\n",
       "    <tr>\n",
       "      <th>4</th>\n",
       "      <td>38</td>\n",
       "      <td>M</td>\n",
       "      <td>83.43</td>\n",
       "      <td>JPN</td>\n",
       "    </tr>\n",
       "  </tbody>\n",
       "</table>\n",
       "</div>"
      ],
      "text/plain": [
       "   age gender official country\n",
       "0   41      M    83.45     JPN\n",
       "1   27      M   142.93     ETH\n",
       "2   39      M    84.38     RSA\n",
       "3   31      M    81.65     AUS\n",
       "4   38      M    83.43     JPN"
      ]
     },
     "execution_count": 8,
     "metadata": {},
     "output_type": "execute_result"
    }
   ],
   "source": [
    "boston=data[['age','gender','official','country']]\n",
    "boston.head()"
   ]
  },
  {
   "cell_type": "code",
   "execution_count": 9,
   "metadata": {},
   "outputs": [
    {
     "name": "stdout",
     "output_type": "stream",
     "text": [
      "<class 'pandas.core.frame.DataFrame'>\n",
      "Int64Index: 21576 entries, 0 to 21651\n",
      "Data columns (total 4 columns):\n",
      "age         21576 non-null int64\n",
      "gender      21576 non-null object\n",
      "official    21576 non-null float64\n",
      "country     21576 non-null object\n",
      "dtypes: float64(1), int64(1), object(2)\n",
      "memory usage: 842.8+ KB\n"
     ]
    }
   ],
   "source": [
    "# Changing the str columns float\n",
    "def isfloat(value):\n",
    "  try:\n",
    "    float(value)\n",
    "    return True\n",
    "  except ValueError:\n",
    "    return False\n",
    "## just take data with usable value\n",
    "for val, index in zip(boston.official,boston.official.index):\n",
    "    if (isfloat(val)==False):\n",
    "        boston=boston.drop(index)\n",
    "boston.official= boston.official.astype(float) # convert to float\n",
    "boston.info()\n",
    "\n",
    "#boston"
   ]
  },
  {
   "cell_type": "markdown",
   "metadata": {},
   "source": [
    "There are 76 unused values in the data and have been removed. Then we will encode for gender and country columns."
   ]
  },
  {
   "cell_type": "code",
   "execution_count": 10,
   "metadata": {},
   "outputs": [],
   "source": [
    "boston.gender=boston.gender.astype('category').cat.codes\n",
    "boston.country=boston.country.astype('category').cat.codes"
   ]
  },
  {
   "cell_type": "markdown",
   "metadata": {},
   "source": [
    "## 2. Clustering using K-means"
   ]
  },
  {
   "cell_type": "markdown",
   "metadata": {},
   "source": [
    "Now we will conduct the clustering, based on the elbow method we can select the optimium number of cluster as followed:"
   ]
  },
  {
   "cell_type": "code",
   "execution_count": 11,
   "metadata": {},
   "outputs": [
    {
     "data": {
      "image/png": "[encoded data removed]",
      "text/plain": [
       "<Figure size 720x504 with 1 Axes>"
      ]
     },
     "metadata": {
      "needs_background": "light"
     },
     "output_type": "display_data"
    }
   ],
   "source": [
    "#Scaling of data\n",
    "ss = StandardScaler()\n",
    "ss.fit_transform(boston)\n",
    "var=[]\n",
    "for k in range (1,20):\n",
    "    kmeans=KMeans(n_clusters=k,algorithm='elkan', max_iter=100)\n",
    "    kmeans.fit(boston)\n",
    "    #labels = kmeans.predict(boston)\n",
    "    centroids = kmeans.cluster_centers_\n",
    "    ssvariance = kmeans.inertia_\n",
    "    var.append(ssvariance)\n",
    "fig = plt.figure(1, figsize=(10,7))\n",
    "num_k=range(1,20)\n",
    "plt.scatter(num_k,var)\n",
    "plt.show()\n",
    "ax.set_title('Optimum elbow method for selecting # of cluster')\n",
    "ax.set_xlabel('# cluster')\n",
    "ax.set_ylabel('Sum square variance')"
   ]
  },
  {
   "cell_type": "markdown",
   "metadata": {},
   "source": [
    "As shown in the elbow figure, the optimum number of cluster for this problem is 7. \n",
    "Thus:"
   ]
  },
  {
   "cell_type": "code",
   "execution_count": 12,
   "metadata": {},
   "outputs": [
    {
     "data": {
      "text/plain": [
       "<matplotlib.colorbar.Colorbar at 0x1b0c8748be0>"
      ]
     },
     "execution_count": 12,
     "metadata": {},
     "output_type": "execute_result"
    },
    {
     "data": {
      "image/png": "[encoded data removed]",
      "text/plain": [
       "<Figure size 432x288 with 2 Axes>"
      ]
     },
     "metadata": {
      "needs_background": "light"
     },
     "output_type": "display_data"
    }
   ],
   "source": [
    "kmeans=KMeans(n_clusters=7,algorithm='elkan', max_iter=100)\n",
    "kmeans.fit(boston)\n",
    "labels = kmeans.predict(boston)\n",
    "centers = kmeans.cluster_centers_\n",
    "ssvariance = kmeans.inertia_\n",
    "kmean_plot=pd.DataFrame(labels)\n",
    "boston['kmeans']=kmean_plot\n",
    "## plotting the clusters obtained using k mean\n",
    "fig = plt.figure()\n",
    "ax = fig.add_subplot(111)\n",
    "scatter = ax.scatter(boston.age,boston.official,\n",
    "                     c=kmean_plot[0],s=50)\n",
    "ax.set_title('K-Means Clustering')\n",
    "ax.set_xlabel('Age')\n",
    "ax.set_ylabel('Official finish time')\n",
    "plt.colorbar(scatter)"
   ]
  },
  {
   "cell_type": "markdown",
   "metadata": {},
   "source": [
    "Initially, we can see that group 5th (index 4) includes many young contestants which leads to the best perfomance in the finishing time. "
   ]
  },
  {
   "cell_type": "markdown",
   "metadata": {},
   "source": [
    "## 3. Visualization of clustering"
   ]
  },
  {
   "cell_type": "code",
   "execution_count": 20,
   "metadata": {},
   "outputs": [
    {
     "data": {
      "image/png": "[encoded data removed]",
      "text/plain": [
       "<Figure size 720x504 with 1 Axes>"
      ]
     },
     "metadata": {
      "needs_background": "light"
     },
     "output_type": "display_data"
    }
   ],
   "source": [
    "fig = plt.figure(1, figsize=(10,7))\n",
    "ax = sns.countplot(y='gender', hue='kmeans', data=boston)\n",
    "ax.set_title('K-Means Clustering')\n",
    "ax.set_xlabel('Count')\n",
    "lab=['Male', 'Female']\n",
    "ax.set_yticklabels(lab)\n",
    "ax.set_ylabel('Gender')\n",
    "# Set the legend\n",
    "L = plt.legend()\n",
    "for i in range (0,7):\n",
    "    L.get_texts()[i].set_text('Group '+str(i+1))"
   ]
  },
  {
   "cell_type": "markdown",
   "metadata": {},
   "source": [
    "As illustrated in the Figure, Group 2nd has the largest number of contestants. Furthermore, the female ratio is dominant in this group. Generally, it is suppuring that the female participants are usually more than the male in this year; however, in Group 6th, the male participants are dominant."
   ]
  },
  {
   "cell_type": "code",
   "execution_count": 21,
   "metadata": {},
   "outputs": [
    {
     "data": {
      "text/html": [
       "<div>\n",
       "<style scoped>\n",
       "    .dataframe tbody tr th:only-of-type {\n",
       "        vertical-align: middle;\n",
       "    }\n",
       "\n",
       "    .dataframe tbody tr th {\n",
       "        vertical-align: top;\n",
       "    }\n",
       "\n",
       "    .dataframe thead th {\n",
       "        text-align: right;\n",
       "    }\n",
       "</style>\n",
       "<table border=\"1\" class=\"dataframe\">\n",
       "  <thead>\n",
       "    <tr style=\"text-align: right;\">\n",
       "      <th></th>\n",
       "      <th>age</th>\n",
       "      <th>gender</th>\n",
       "      <th>official</th>\n",
       "      <th>country</th>\n",
       "      <th>kmeans</th>\n",
       "      <th>age_group</th>\n",
       "      <th>finish_group</th>\n",
       "    </tr>\n",
       "  </thead>\n",
       "  <tbody>\n",
       "    <tr>\n",
       "      <th>0</th>\n",
       "      <td>41</td>\n",
       "      <td>1</td>\n",
       "      <td>83.45</td>\n",
       "      <td>34</td>\n",
       "      <td>4.0</td>\n",
       "      <td>2</td>\n",
       "      <td>0</td>\n",
       "    </tr>\n",
       "    <tr>\n",
       "      <th>1</th>\n",
       "      <td>27</td>\n",
       "      <td>1</td>\n",
       "      <td>142.93</td>\n",
       "      <td>20</td>\n",
       "      <td>4.0</td>\n",
       "      <td>1</td>\n",
       "      <td>0</td>\n",
       "    </tr>\n",
       "    <tr>\n",
       "      <th>2</th>\n",
       "      <td>39</td>\n",
       "      <td>1</td>\n",
       "      <td>84.38</td>\n",
       "      <td>49</td>\n",
       "      <td>4.0</td>\n",
       "      <td>1</td>\n",
       "      <td>0</td>\n",
       "    </tr>\n",
       "    <tr>\n",
       "      <th>3</th>\n",
       "      <td>31</td>\n",
       "      <td>1</td>\n",
       "      <td>81.65</td>\n",
       "      <td>1</td>\n",
       "      <td>4.0</td>\n",
       "      <td>1</td>\n",
       "      <td>0</td>\n",
       "    </tr>\n",
       "    <tr>\n",
       "      <th>4</th>\n",
       "      <td>38</td>\n",
       "      <td>1</td>\n",
       "      <td>83.43</td>\n",
       "      <td>34</td>\n",
       "      <td>4.0</td>\n",
       "      <td>1</td>\n",
       "      <td>0</td>\n",
       "    </tr>\n",
       "  </tbody>\n",
       "</table>\n",
       "</div>"
      ],
      "text/plain": [
       "   age  gender  official  country  kmeans  age_group  finish_group\n",
       "0   41       1     83.45       34     4.0          2             0\n",
       "1   27       1    142.93       20     4.0          1             0\n",
       "2   39       1     84.38       49     4.0          1             0\n",
       "3   31       1     81.65        1     4.0          1             0\n",
       "4   38       1     83.43       34     4.0          1             0"
      ]
     },
     "execution_count": 21,
     "metadata": {},
     "output_type": "execute_result"
    }
   ],
   "source": [
    "#add columns for age div\n",
    "age_group = lambda x: 0 if (x>18 and x<25) else(1 if (x>26 and x<40) else 2)\n",
    "boston['age_group'] = boston.age.apply(age_group)\n",
    "boston.head()\n"
   ]
  },
  {
   "cell_type": "code",
   "execution_count": 22,
   "metadata": {},
   "outputs": [
    {
     "data": {
      "image/png": "[encoded data removed]",
      "text/plain": [
       "<Figure size 720x504 with 1 Axes>"
      ]
     },
     "metadata": {
      "needs_background": "light"
     },
     "output_type": "display_data"
    }
   ],
   "source": [
    "fig = plt.figure(1, figsize=(10,7))\n",
    "ax = sns.countplot(y='age_group', hue='kmeans', data=boston)\n",
    "ax.set_title('K-Means Clustering')\n",
    "ax.set_ylabel('Age group')\n",
    "ax.set_xlabel('Counts')\n",
    "\n",
    "lab=['18-25', '26-40', '>40']\n",
    "ax.set_yticklabels(lab)\n",
    "# Set the legend\n",
    "L = plt.legend()\n",
    "for i in range (0,7):\n",
    "    L.get_texts()[i].set_text('Group '+str(i+1))"
   ]
  },
  {
   "cell_type": "markdown",
   "metadata": {},
   "source": [
    "The young group are the least compare the other contestants. In the group 2nd, which has the most number of contestant, older people seems to participate more than the other. "
   ]
  },
  {
   "cell_type": "code",
   "execution_count": 26,
   "metadata": {},
   "outputs": [
    {
     "data": {
      "image/png": "[encoded data removed]",
      "text/plain": [
       "<Figure size 720x504 with 1 Axes>"
      ]
     },
     "metadata": {
      "needs_background": "light"
     },
     "output_type": "display_data"
    }
   ],
   "source": [
    "#add columns for age div\n",
    "finish_group = lambda x: 0 if (x>60 and x<200) else(1 if (x>200 and x<300) else 2)\n",
    "boston['finish_group'] = boston.official.apply(finish_group)\n",
    "fig = plt.figure(1, figsize=(10,7))\n",
    "ax = sns.countplot(y='finish_group', hue='kmeans', data=boston)\n",
    "ax.set_title('K-Means Clustering')\n",
    "ax.set_ylabel('Finish group')\n",
    "ax.set_xlabel('Counts')\n",
    "\n",
    "lab=['Faster (Winners)', 'Runner up', 'Other']\n",
    "ax.set_yticklabels(lab)\n",
    "# Set the legend\n",
    "L = plt.legend()\n",
    "for i in range (0,7):\n",
    "    L.get_texts()[i].set_text('Group '+str(i+1))"
   ]
  },
  {
   "cell_type": "code",
   "execution_count": 25,
   "metadata": {},
   "outputs": [
    {
     "name": "stdout",
     "output_type": "stream",
     "text": [
      "Mean time of group     1 :    276.04510\n",
      "Mean time of group     2 :    249.32756\n",
      "Mean time of group     3 :    313.76282\n",
      "Mean time of group     4 :    237.43530\n",
      "Mean time of group     5 :    212.26772\n",
      "Mean time of group     6 :    274.69726\n",
      "Mean time of group     7 :    300.33859\n"
     ]
    }
   ],
   "source": [
    "check=boston[['kmeans','official']]\n",
    "for k in range(0,7):\n",
    "    dt=check.loc[check.kmeans==k]\n",
    "    print('Mean time of group %5i : %12.5f'%(k+1,dt.official.mean()))"
   ]
  },
  {
   "cell_type": "markdown",
   "metadata": {},
   "source": [
    "As expected, Group 5th run the fastest with mean finish time is 212 seconds. Amazingly, group 2nd has many contestants who finish at runner up place."
   ]
  },
  {
   "cell_type": "markdown",
   "metadata": {},
   "source": [
    "## 4. Conclusion"
   ]
  },
  {
   "cell_type": "markdown",
   "metadata": {},
   "source": [
    "In this report, the data for Boston marathon contestant in 2012 is used and clustered by K-means clustering algorithm (for a dense matrix). After clustering, using the elbow method, the data is divided into 7 groups based on 4 features: Age, Gender, Country and Official Finish time. As a result, Group 5th run the fastest with mean finish time is 212 seconds. Amazingly, group 2nd has many contestants who finish at runner up place. Furthermore, the young group are the least compare the other contestants. In the group 2nd, which has the most number of contestant, older people seems to participate more than the other. Generally, it is suppuring that the female participants are usually more than the male in this year; however, in Group 6th, the male participants are dominant."
   ]
  },
  {
   "cell_type": "code",
   "execution_count": null,
   "metadata": {},
   "outputs": [],
   "source": []
  }
 ],
 "metadata": {
  "kernelspec": {
   "display_name": "Python 3",
   "language": "python",
   "name": "python3"
  },
  "language_info": {
   "codemirror_mode": {
    "name": "ipython",
    "version": 3
   },
   "file_extension": ".py",
   "mimetype": "text/x-python",
   "name": "python",
   "nbconvert_exporter": "python",
   "pygments_lexer": "ipython3",
   "version": "3.7.3"
  }
 },
 "nbformat": 4,
 "nbformat_minor": 2
}
