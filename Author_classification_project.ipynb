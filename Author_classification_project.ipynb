{
  "nbformat": 4,
  "nbformat_minor": 0,
  "metadata": {
    "colab": {
      "name": "Author classification project.ipynb",
      "provenance": [],
      "collapsed_sections": [],
      "toc_visible": true,
      "machine_shape": "hm",
      "include_colab_link": true
    },
    "kernelspec": {
      "name": "python3",
      "display_name": "Python 3"
    },
    "accelerator": "TPU"
  },
  "cells": [
    {
      "cell_type": "markdown",
      "metadata": {
        "id": "view-in-github",
        "colab_type": "text"
      },
      "source": [
        "<a href=\"https://colab.research.google.com/github/Nhatkhang/Machine_learning_CBD/blob/Project_assignments/Author_classification_project.ipynb\" target=\"_parent\"><img src=\"https://colab.research.google.com/assets/colab-badge.svg\" alt=\"Open In Colab\"/></a>"
      ]
    },
    {
      "cell_type": "markdown",
      "metadata": {
        "id": "9iV8F5hFP6c1",
        "colab_type": "text"
      },
      "source": [
        "Using NLP and techniques of supervised learning (including Deep\n",
        "Learning) and unsupervised learning (emphasizing on unsupervised\n",
        "for this project), and collect thousand texts from Gutenberg project\n",
        "(and 7 novels) for at least 10 authors, build a project to classify\n",
        "text-author. The project should follow the guideline as:\n",
        "\n",
        "1. Pre-process data using Spacy and other methods.\n",
        "2. Perform data exploration\n",
        "3. Using Bag of Word, apply supervised models such as Naive\n",
        "Bayes, Logistic Regression, Decision Tree, Random Forest,\n",
        "KNN, SVM and Gradient Boosting, including GridSearchCV.\n",
        "4. Similar to 3., but using TF-IDF.\n",
        "5. Similar to 3., but using word2vec.\n",
        "6. Appy RNN to do classification.\n",
        "7. Using unsupervised technique, visualize bar graphs for clusters\n",
        "containing 10 author documents. Adjust by silhouette scores.\n",
        "8. Using LSA, LDA and NNMF, print out top ten words (with their\n",
        "highest loading) for each topic modeling. Analyze and compare\n",
        "among three methods.\n",
        "9. Write up analysis and conclusions."
      ]
    },
    {
      "cell_type": "markdown",
      "metadata": {
        "id": "OgI1DJiETuLn",
        "colab_type": "text"
      },
      "source": [
        "# Introduction\n",
        "The main goal of this report is to research and present the NLP techniques including supervised and unsupervised learning to build a authorship classifier. The text processing tools in this report are Bag of word, TF-IDF and word2vec applied to the Gutenberg data set. This report is structured as followed:\n",
        "1. Load and process data\n",
        "2. Data Exploration\n",
        "3. Supervised learning used Bag of Word, TF-IDF, Word2vec\n",
        "4. Recurrent neural network (RNN)\n",
        "5. Unsupervised learning\n",
        "6. Application of LSA\n",
        "7. Conclusion\n",
        "\n",
        "\n",
        "\n",
        "\n"
      ]
    },
    {
      "cell_type": "markdown",
      "metadata": {
        "id": "oO3-5W8tV_aP",
        "colab_type": "text"
      },
      "source": [
        "## 1. Load and process data"
      ]
    },
    {
      "cell_type": "code",
      "metadata": {
        "id": "MceCjTIwRLrP",
        "colab_type": "code",
        "colab": {}
      },
      "source": [
        "### importing libraries\n",
        "import seaborn as sns\n",
        "sns.set(style=\"whitegrid\", color_codes=True)\n",
        "import pandas as pd # data processing, CSV file I/O (e.g. pd.read_csv)\n",
        "import numpy as np # linear algebra\n",
        "import matplotlib.pyplot as plt\n",
        "import sklearn\n",
        "from sklearn.model_selection import train_test_split\n",
        "%matplotlib inline\n",
        "import nltk\n",
        "import random\n",
        "import time\n",
        "from sklearn.preprocessing import LabelBinarizer\n",
        "from nltk.corpus import stopwords # Import the stop word list\n",
        "from random import randint \n",
        "from nltk.tokenize import RegexpTokenizer\n",
        "from sklearn import tree\n",
        "from sklearn import metrics\n",
        "from sklearn.preprocessing import PolynomialFeatures, StandardScaler\n",
        "from sklearn.preprocessing import LabelEncoder, OneHotEncoder\n",
        "from sklearn.model_selection import train_test_split, cross_val_score, cross_val_predict\n",
        "from sklearn.decomposition import PCA\n",
        "from sklearn.linear_model import LogisticRegression\n",
        "from sklearn.metrics import classification_report, accuracy_score\n",
        "from sklearn.naive_bayes import GaussianNB \n",
        "from sklearn.ensemble import RandomForestClassifier, GradientBoostingClassifier\n",
        "from sklearn.svm import SVC\n",
        "from sklearn.neighbors import KNeighborsClassifier \n",
        "import warnings\n",
        "warnings.filterwarnings(\"ignore\")"
      ],
      "execution_count": 0,
      "outputs": []
    },
    {
      "cell_type": "code",
      "metadata": {
        "id": "12OeYiBLRL3y",
        "colab_type": "code",
        "outputId": "8225f4d6-4bb9-46dc-ed3a-c1ce79ad7b23",
        "colab": {
          "base_uri": "https://localhost:8080/",
          "height": 102
        }
      },
      "source": [
        "nltk.download('gutenberg')\n",
        "nltk.download('stopwords')"
      ],
      "execution_count": 2,
      "outputs": [
        {
          "output_type": "stream",
          "text": [
            "[nltk_data] Downloading package gutenberg to /root/nltk_data...\n",
            "[nltk_data]   Unzipping corpora/gutenberg.zip.\n",
            "[nltk_data] Downloading package stopwords to /root/nltk_data...\n",
            "[nltk_data]   Unzipping corpora/stopwords.zip.\n"
          ],
          "name": "stdout"
        },
        {
          "output_type": "execute_result",
          "data": {
            "text/plain": [
              "True"
            ]
          },
          "metadata": {
            "tags": []
          },
          "execution_count": 2
        }
      ]
    },
    {
      "cell_type": "code",
      "metadata": {
        "id": "4-RnGRA8RL-b",
        "colab_type": "code",
        "colab": {}
      },
      "source": [
        "file_ID=nltk.corpus.gutenberg.fileids()\n",
        "author_list=[]\n",
        "data_set=[]\n",
        "for f in file_ID: \n",
        "  tmp=(nltk.corpus.gutenberg.words(f))\n",
        "  for i in range(len(tmp)):\n",
        "    if tmp[i]==']':\n",
        "      author_list.append(tmp[1:i])\n",
        "      data_set.append(tmp[i+1:len(tmp)])\n",
        "      break\n",
        "    "
      ],
      "execution_count": 0,
      "outputs": []
    },
    {
      "cell_type": "code",
      "metadata": {
        "id": "bGVc_NZhvCsI",
        "colab_type": "code",
        "colab": {}
      },
      "source": [
        "## remove stopwords\n",
        "for i in range (len(file_ID)):\n",
        "  #data_set[i]=[ w.lower() for w in data_set[i]] ## convert to lower case first\n",
        "  data_set[i]=[w for w in data_set[i] if not w.lower() in stopwords.words(\"english\")]"
      ],
      "execution_count": 0,
      "outputs": []
    },
    {
      "cell_type": "code",
      "metadata": {
        "id": "RbTgYPF2dW72",
        "colab_type": "code",
        "colab": {}
      },
      "source": [
        "author=[]\n",
        "name=[]\n",
        "author_list[3]=['The', 'King', 'by','James', 'Bible'] ## adding by for easy\n",
        "for i in range(len (file_ID)):\n",
        "  #print(i,author_list[i])\n",
        "  for k in range(len (author_list[i])):\n",
        "    if author_list[i][k]=='by':\n",
        "      author.append((author_list[i][k+1:len(author_list[i])]))\n",
        "      name.append((author_list[i][0:k]))\n",
        "authors=[]\n",
        "for i in range(len(file_ID)):\n",
        "  if author[i][-1].isnumeric() == True:\n",
        "    authors.append(author[i][0:-1])\n",
        "  else:\n",
        "    authors.append(author[i])\n",
        "\n",
        "authors=[\" \".join(authors[i]) for i in range(len(authors))]\n",
        "name=[\" \".join(name[i]) for i in range(len(name))]"
      ],
      "execution_count": 0,
      "outputs": []
    },
    {
      "cell_type": "code",
      "metadata": {
        "id": "dI0LM8tDLMi2",
        "colab_type": "code",
        "outputId": "debe3b04-ce53-4009-d133-d191dcef35bf",
        "colab": {
          "base_uri": "https://localhost:8080/",
          "height": 323
        }
      },
      "source": [
        "for i,k in zip(authors, name):\n",
        "  print(i,k)"
      ],
      "execution_count": 6,
      "outputs": [
        {
          "output_type": "stream",
          "text": [
            "Jane Austen Emma\n",
            "Jane Austen Persuasion\n",
            "Jane Austen Sense and Sensibility\n",
            "James Bible The King\n",
            "William Blake Poems\n",
            "Sara Cone Bryant Stories to Tell to Children\n",
            "Thornton W . Burgess The Adventures of Buster Bear\n",
            "Lewis Carroll Alice ' s Adventures in Wonderland\n",
            "G . K . Chesterton The Ball and The Cross\n",
            "G . K . Chesterton The Wisdom of Father Brown\n",
            "G . K . Chesterton The Man Who Was Thursday\n",
            "Maria Edgeworth The Parent ' s Assistant ,\n",
            "Herman Melville Moby Dick\n",
            "John Milton Paradise Lost\n",
            "William Shakespeare The Tragedie of Julius Caesar\n",
            "William Shakespeare The Tragedie of Hamlet\n",
            "William Shakespeare The Tragedie of Macbeth\n",
            "Walt Whitman Leaves of Grass\n"
          ],
          "name": "stdout"
        }
      ]
    },
    {
      "cell_type": "markdown",
      "metadata": {
        "id": "XJwoSjqZk5t3",
        "colab_type": "text"
      },
      "source": [
        "We have 18 texts with 12 unique authors. This quantity is too small to build a proper machine learning model, thus, additional stratergy is applied, i.e. each text will be devided into 200 sub texts, then the total number of sample is increased while the labels (authorship) will remain the same. "
      ]
    },
    {
      "cell_type": "code",
      "metadata": {
        "id": "5OZwFR3__CkL",
        "colab_type": "code",
        "colab": {}
      },
      "source": [
        "def randomList(m, n):   # function to create a list with length M and sum of them is N\n",
        "    # Create an array of size m where  \n",
        "    # every element is initialized to 0  \n",
        "    arr = [0] * m;  \n",
        "    # To make the sum of the final list as n  \n",
        "    for i in range(n) : \n",
        "        # Increment any random element  \n",
        "        arr[randint(0, n) % m] += 1;  \n",
        "    return arr"
      ],
      "execution_count": 0,
      "outputs": []
    },
    {
      "cell_type": "code",
      "metadata": {
        "id": "X4vhJEnmRMER",
        "colab_type": "code",
        "outputId": "765a23bc-44a9-41cf-c847-c6649d260aaf",
        "colab": {
          "base_uri": "https://localhost:8080/",
          "height": 323
        }
      },
      "source": [
        "update_data_set=[]\n",
        "update_name=[]\n",
        "update_author=[]\n",
        "for i in range (len(file_ID)):\n",
        "  arr=randomList(200, len(data_set[i]))\n",
        "  st=0\n",
        "  for ii in arr:\n",
        "    fs=st+ii\n",
        "    update_data_set.append(\" \".join(data_set[i][st:fs]))\n",
        "    update_name.append(name[i])\n",
        "    update_author.append(authors[i])\n",
        "    st=fs\n",
        "  print(fs,len(data_set[i]))"
      ],
      "execution_count": 8,
      "outputs": [
        {
          "output_type": "stream",
          "text": [
            "103970 103970\n",
            "52381 52381\n",
            "74822 74822\n",
            "593752 593752\n",
            "5219 5219\n",
            "30661 30661\n",
            "10208 10208\n",
            "19008 19008\n",
            "54019 54019\n",
            "48114 48114\n",
            "38807 38807\n",
            "118066 118066\n",
            "152910 152910\n",
            "61893 61893\n",
            "16079 16079\n",
            "22985 22985\n",
            "14939 14939\n",
            "93680 93680\n"
          ],
          "name": "stdout"
        }
      ]
    },
    {
      "cell_type": "code",
      "metadata": {
        "id": "xk71mNfjy9qg",
        "colab_type": "code",
        "colab": {}
      },
      "source": [
        "tokenizer = RegexpTokenizer(r'\\w+')\n",
        "for i in range (len(update_data_set)):\n",
        "    update_data_set[i] = tokenizer.tokenize(update_data_set[i])\n",
        "    update_data_set[i] = \" \".join(update_data_set[i]) ## rejoin\n"
      ],
      "execution_count": 0,
      "outputs": []
    },
    {
      "cell_type": "markdown",
      "metadata": {
        "id": "WCPp0ij6Evdn",
        "colab_type": "text"
      },
      "source": [
        "We have fisnihed the data preparation, we have a data set consists of 18000 samples categorized into 12 authors."
      ]
    },
    {
      "cell_type": "markdown",
      "metadata": {
        "id": "sbZbo1t9-l_Z",
        "colab_type": "text"
      },
      "source": [
        "##2. Data Exploration"
      ]
    },
    {
      "cell_type": "code",
      "metadata": {
        "id": "Z2AnrotiSpRX",
        "colab_type": "code",
        "colab": {}
      },
      "source": [
        "## convert to data frame\n",
        "data=np.array([update_author, update_name,update_data_set])\n",
        "data=np.transpose(data)\n",
        "df = pd.DataFrame(data, columns=['Author', 'Book_name', 'Text'])"
      ],
      "execution_count": 0,
      "outputs": []
    },
    {
      "cell_type": "code",
      "metadata": {
        "id": "gRck-mru02zS",
        "colab_type": "code",
        "outputId": "168b39e8-fdc9-4b5e-cc0a-8da9ee511a95",
        "colab": {
          "base_uri": "https://localhost:8080/",
          "height": 54
        }
      },
      "source": [
        "print(update_data_set[1])"
      ],
      "execution_count": 11,
      "outputs": [
        {
          "output_type": "stream",
          "text": [
            "afforded equals Woodhouses first consequence looked many acquaintance place father universally civil one among could accepted lieu Miss Taylor even half day melancholy change Emma could sigh wish impossible things till father awoke made necessary cheerful spirits required support nervous man easily depressed fond every body used hating part hating change every kind Matrimony origin change always disagreeable means yet reconciled daughter marrying could ever speak compassion though entirely match affection obliged part Miss Taylor habits gentle selfishness never able suppose people could feel differently much disposed think Miss Taylor done sad thing would great deal happier spent rest life Hartfield Emma smiled chatted cheerfully could keep thoughts tea came impossible say exactly said dinner Poor Miss Taylor wish pity Mr Weston ever thought cannot agree papa know cannot Mr Weston good humoured pleasant excellent man thoroughly deserves good wife would Miss Taylor live us ever bear odd humours might house house advantage house three times large never odd humours dear often shall going see coming see us shall always meeting _We_ must begin must go pay wedding visit soon dear get far Randalls distance could walk half far papa nobody thought walking must go carriage sure carriage James like put horses little way poor horses paying visit put Mr Weston stable papa know settled already talked Mr Weston last night James may sure always like going Randalls daughter housemaid doubt whether ever take us anywhere else papa got Hannah good place Nobody thought Hannah till mentioned James obliged glad think lucky would poor James think slighted upon account sure make good servant civil pretty spoken girl great opinion Whenever see always curtseys asks pretty manner needlework observe always turns lock door right way never bangs sure excellent servant great comfort poor Miss Taylor somebody used see Whenever James goes see daughter know hearing us able tell Emma spared exertions maintain happier flow ideas hoped help backgammon get father tolerably evening attacked regrets backgammon table placed visitor immediately afterwards walked made unnecessary Mr Knightley sensible man seven eight thirty old intimate friend family particularly connected elder brother Isabella husband lived mile Highbury frequent visitor always welcome time welcome usual coming directly mutual connexions London returned late dinner days absence walked Hartfield say well Brunswick Square happy circumstance animated Mr Woodhouse time Mr Knightley cheerful manner always good many inquiries poor\n"
          ],
          "name": "stdout"
        }
      ]
    },
    {
      "cell_type": "code",
      "metadata": {
        "id": "M3173pNH9V-x",
        "colab_type": "code",
        "outputId": "2eedf481-2897-4daa-af54-0fa88e6e9e28",
        "colab": {
          "base_uri": "https://localhost:8080/",
          "height": 376
        }
      },
      "source": [
        "print('Dataframe dimensions:', data.shape) ## print shape\n",
        "pd.set_option('display.max_columns', None)\n",
        "df.head(10)"
      ],
      "execution_count": 12,
      "outputs": [
        {
          "output_type": "stream",
          "text": [
            "Dataframe dimensions: (3600, 3)\n"
          ],
          "name": "stdout"
        },
        {
          "output_type": "execute_result",
          "data": {
            "text/html": [
              "<div>\n",
              "<style scoped>\n",
              "    .dataframe tbody tr th:only-of-type {\n",
              "        vertical-align: middle;\n",
              "    }\n",
              "\n",
              "    .dataframe tbody tr th {\n",
              "        vertical-align: top;\n",
              "    }\n",
              "\n",
              "    .dataframe thead th {\n",
              "        text-align: right;\n",
              "    }\n",
              "</style>\n",
              "<table border=\"1\" class=\"dataframe\">\n",
              "  <thead>\n",
              "    <tr style=\"text-align: right;\">\n",
              "      <th></th>\n",
              "      <th>Author</th>\n",
              "      <th>Book_name</th>\n",
              "      <th>Text</th>\n",
              "    </tr>\n",
              "  </thead>\n",
              "  <tbody>\n",
              "    <tr>\n",
              "      <th>0</th>\n",
              "      <td>Jane Austen</td>\n",
              "      <td>Emma</td>\n",
              "      <td>VOLUME CHAPTER Emma Woodhouse handsome clever ...</td>\n",
              "    </tr>\n",
              "    <tr>\n",
              "      <th>1</th>\n",
              "      <td>Jane Austen</td>\n",
              "      <td>Emma</td>\n",
              "      <td>afforded equals Woodhouses first consequence l...</td>\n",
              "    </tr>\n",
              "    <tr>\n",
              "      <th>2</th>\n",
              "      <td>Jane Austen</td>\n",
              "      <td>Emma</td>\n",
              "      <td>Isabella children answered satisfactorily Mr W...</td>\n",
              "    </tr>\n",
              "    <tr>\n",
              "      <th>3</th>\n",
              "      <td>Jane Austen</td>\n",
              "      <td>Emma</td>\n",
              "      <td>would make matches foretell things whatever sa...</td>\n",
              "    </tr>\n",
              "    <tr>\n",
              "      <th>4</th>\n",
              "      <td>Jane Austen</td>\n",
              "      <td>Emma</td>\n",
              "      <td>deal pleasure sir time said Mr Knightley laugh...</td>\n",
              "    </tr>\n",
              "    <tr>\n",
              "      <th>5</th>\n",
              "      <td>Jane Austen</td>\n",
              "      <td>Emma</td>\n",
              "      <td>Churchill coming age unlikely therefore ever w...</td>\n",
              "    </tr>\n",
              "    <tr>\n",
              "      <th>6</th>\n",
              "      <td>Jane Austen</td>\n",
              "      <td>Emma</td>\n",
              "      <td>eating pains consulting Mr Perry apothecary su...</td>\n",
              "    </tr>\n",
              "    <tr>\n",
              "      <th>7</th>\n",
              "      <td>Jane Austen</td>\n",
              "      <td>Emma</td>\n",
              "      <td>reasonable quantity accomplishments sold reaso...</td>\n",
              "    </tr>\n",
              "    <tr>\n",
              "      <th>8</th>\n",
              "      <td>Jane Austen</td>\n",
              "      <td>Emma</td>\n",
              "      <td>recommend minced chicken scalloped oysters urg...</td>\n",
              "    </tr>\n",
              "    <tr>\n",
              "      <th>9</th>\n",
              "      <td>Jane Austen</td>\n",
              "      <td>Emma</td>\n",
              "      <td>whole Martins occupied thoughts good deal spen...</td>\n",
              "    </tr>\n",
              "  </tbody>\n",
              "</table>\n",
              "</div>"
            ],
            "text/plain": [
              "        Author Book_name                                               Text\n",
              "0  Jane Austen      Emma  VOLUME CHAPTER Emma Woodhouse handsome clever ...\n",
              "1  Jane Austen      Emma  afforded equals Woodhouses first consequence l...\n",
              "2  Jane Austen      Emma  Isabella children answered satisfactorily Mr W...\n",
              "3  Jane Austen      Emma  would make matches foretell things whatever sa...\n",
              "4  Jane Austen      Emma  deal pleasure sir time said Mr Knightley laugh...\n",
              "5  Jane Austen      Emma  Churchill coming age unlikely therefore ever w...\n",
              "6  Jane Austen      Emma  eating pains consulting Mr Perry apothecary su...\n",
              "7  Jane Austen      Emma  reasonable quantity accomplishments sold reaso...\n",
              "8  Jane Austen      Emma  recommend minced chicken scalloped oysters urg...\n",
              "9  Jane Austen      Emma  whole Martins occupied thoughts good deal spen..."
            ]
          },
          "metadata": {
            "tags": []
          },
          "execution_count": 12
        }
      ]
    },
    {
      "cell_type": "code",
      "metadata": {
        "id": "SPg3wE5W9eje",
        "colab_type": "code",
        "outputId": "6f691db6-3dbd-471d-eaa1-aaf7448e808c",
        "colab": {
          "base_uri": "https://localhost:8080/",
          "height": 359
        }
      },
      "source": [
        "fig = plt.figure(1, figsize=(40,5))\n",
        "y = df.Author.value_counts()\n",
        "plt.bar(range(len(y)), y,tick_label=y.index,color=np.random.rand(18,3))\n",
        "plt.xlabel(\"Authors\")\n",
        "plt.ylabel(\"# of samples\")\n",
        "COLOR = 'White'\n",
        "plt.rcParams['text.color'] = COLOR\n",
        "plt.rcParams['axes.labelcolor'] = COLOR\n",
        "plt.rcParams['xtick.color'] = COLOR\n",
        "plt.rcParams['ytick.color'] = COLOR"
      ],
      "execution_count": 13,
      "outputs": [
        {
          "output_type": "display_data",
          "data": {
            "image/png": "[encoded data removed]",
            "text/plain": [
              "<Figure size 2880x360 with 1 Axes>"
            ]
          },
          "metadata": {
            "tags": []
          }
        }
      ]
    },
    {
      "cell_type": "code",
      "metadata": {
        "id": "nODKrvxtLujN",
        "colab_type": "code",
        "colab": {}
      },
      "source": [
        "all_words = df['Text'].str.split(expand=True).unstack().value_counts()"
      ],
      "execution_count": 0,
      "outputs": []
    },
    {
      "cell_type": "code",
      "metadata": {
        "id": "clVgbEulV5E6",
        "colab_type": "code",
        "outputId": "eb8055e8-845d-4996-c1a6-49ceba9f441a",
        "colab": {
          "base_uri": "https://localhost:8080/",
          "height": 372
        }
      },
      "source": [
        "indx=all_words.index\n",
        "fig = plt.figure(1, figsize=(15,5))\n",
        "y = all_words[0:25]\n",
        "plt.bar(range(len(y)), y,tick_label=indx[0:25],color=np.random.rand(25,3))\n",
        "plt.xlabel(\"Words\")\n",
        "plt.ylabel(\"# of appear in text\")\n",
        "plt.title('Top 25 words appears most in the data')"
      ],
      "execution_count": 15,
      "outputs": [
        {
          "output_type": "execute_result",
          "data": {
            "text/plain": [
              "Text(0.5, 1.0, 'Top 25 words appears most in the data')"
            ]
          },
          "metadata": {
            "tags": []
          },
          "execution_count": 15
        },
        {
          "output_type": "display_data",
          "data": {
            "image/png": "[encoded data removed]",
            "text/plain": [
              "<Figure size 1080x360 with 1 Axes>"
            ]
          },
          "metadata": {
            "tags": []
          }
        }
      ]
    },
    {
      "cell_type": "markdown",
      "metadata": {
        "id": "inbVSCpmelFw",
        "colab_type": "text"
      },
      "source": [
        "Let's examine word count/length statistics:"
      ]
    },
    {
      "cell_type": "code",
      "metadata": {
        "id": "jRYYAozQABrf",
        "colab_type": "code",
        "outputId": "8eb003b0-979d-4ac0-da7a-be25e955cbd3",
        "colab": {
          "base_uri": "https://localhost:8080/",
          "height": 68
        }
      },
      "source": [
        "document_lengths = np.array(list(map(len, df.Text.str.split(' '))))\n",
        "\n",
        "print(\"The average number of words in a document is: {}.\".format(np.mean(document_lengths)))\n",
        "print(\"The minimum number of words in a document is: {}.\".format(min(document_lengths)))\n",
        "print(\"The maximum number of words in a document is: {}.\".format(max(document_lengths)))"
      ],
      "execution_count": 16,
      "outputs": [
        {
          "output_type": "stream",
          "text": [
            "The average number of words in a document is: 302.54583333333335.\n",
            "The minimum number of words in a document is: 11.\n",
            "The maximum number of words in a document is: 2368.\n"
          ],
          "name": "stdout"
        }
      ]
    },
    {
      "cell_type": "code",
      "metadata": {
        "colab_type": "code",
        "outputId": "6099a7bb-b4da-425a-d1c7-5b7f7bc79492",
        "id": "DaF0dSXXAgFN",
        "colab": {
          "base_uri": "https://localhost:8080/",
          "height": 318
        }
      },
      "source": [
        "# Plot word count distribution\n",
        "sns.distplot(document_lengths, kde = False, bins = 70, color = 'blue').set_title(\"Word Count Distribution\")\n",
        "plt.xlabel('Text Length (Words)')\n",
        "plt.ylabel('Count')\n",
        "#plt.xlim(0, 100)"
      ],
      "execution_count": 17,
      "outputs": [
        {
          "output_type": "execute_result",
          "data": {
            "text/plain": [
              "Text(0, 0.5, 'Count')"
            ]
          },
          "metadata": {
            "tags": []
          },
          "execution_count": 17
        },
        {
          "output_type": "display_data",
          "data": {
            "image/png": "[encoded data removed]",
            "text/plain": [
              "<Figure size 432x288 with 1 Axes>"
            ]
          },
          "metadata": {
            "tags": []
          }
        }
      ]
    },
    {
      "cell_type": "markdown",
      "metadata": {
        "id": "Zvzd13CWnG29",
        "colab_type": "text"
      },
      "source": [
        "Most of the text has the number of words less than 200."
      ]
    },
    {
      "cell_type": "code",
      "metadata": {
        "id": "TBgzF5vWAyeH",
        "colab_type": "code",
        "outputId": "aeea27cc-d2a8-4c76-ea1c-00b76dad4344",
        "colab": {
          "base_uri": "https://localhost:8080/",
          "height": 34
        }
      },
      "source": [
        "print(\"There are {} samples with over 150 words.\".format(sum(document_lengths > 150)))\n"
      ],
      "execution_count": 18,
      "outputs": [
        {
          "output_type": "stream",
          "text": [
            "There are 2044 samples with over 150 words.\n"
          ],
          "name": "stdout"
        }
      ]
    },
    {
      "cell_type": "code",
      "metadata": {
        "id": "U76PuFdFBI81",
        "colab_type": "code",
        "outputId": "af9e9acd-4c00-4e2a-9a3b-31778edae4ed",
        "colab": {
          "base_uri": "https://localhost:8080/",
          "height": 34
        }
      },
      "source": [
        "df.Text[document_lengths == 10]"
      ],
      "execution_count": 19,
      "outputs": [
        {
          "output_type": "execute_result",
          "data": {
            "text/plain": [
              "Series([], Name: Text, dtype: object)"
            ]
          },
          "metadata": {
            "tags": []
          },
          "execution_count": 19
        }
      ]
    },
    {
      "cell_type": "code",
      "metadata": {
        "id": "KJYnt-mXHgCX",
        "colab_type": "code",
        "colab": {}
      },
      "source": [
        "df['document_lengths']=document_lengths"
      ],
      "execution_count": 0,
      "outputs": []
    },
    {
      "cell_type": "code",
      "metadata": {
        "id": "5wg_PYO3HnEA",
        "colab_type": "code",
        "outputId": "2093c6e6-b4f9-4a61-e1fa-24227b41544b",
        "colab": {
          "base_uri": "https://localhost:8080/",
          "height": 204
        }
      },
      "source": [
        "df[df.document_lengths>20]\n",
        "df.head()"
      ],
      "execution_count": 21,
      "outputs": [
        {
          "output_type": "execute_result",
          "data": {
            "text/html": [
              "<div>\n",
              "<style scoped>\n",
              "    .dataframe tbody tr th:only-of-type {\n",
              "        vertical-align: middle;\n",
              "    }\n",
              "\n",
              "    .dataframe tbody tr th {\n",
              "        vertical-align: top;\n",
              "    }\n",
              "\n",
              "    .dataframe thead th {\n",
              "        text-align: right;\n",
              "    }\n",
              "</style>\n",
              "<table border=\"1\" class=\"dataframe\">\n",
              "  <thead>\n",
              "    <tr style=\"text-align: right;\">\n",
              "      <th></th>\n",
              "      <th>Author</th>\n",
              "      <th>Book_name</th>\n",
              "      <th>Text</th>\n",
              "      <th>document_lengths</th>\n",
              "    </tr>\n",
              "  </thead>\n",
              "  <tbody>\n",
              "    <tr>\n",
              "      <th>0</th>\n",
              "      <td>Jane Austen</td>\n",
              "      <td>Emma</td>\n",
              "      <td>VOLUME CHAPTER Emma Woodhouse handsome clever ...</td>\n",
              "      <td>408</td>\n",
              "    </tr>\n",
              "    <tr>\n",
              "      <th>1</th>\n",
              "      <td>Jane Austen</td>\n",
              "      <td>Emma</td>\n",
              "      <td>afforded equals Woodhouses first consequence l...</td>\n",
              "      <td>390</td>\n",
              "    </tr>\n",
              "    <tr>\n",
              "      <th>2</th>\n",
              "      <td>Jane Austen</td>\n",
              "      <td>Emma</td>\n",
              "      <td>Isabella children answered satisfactorily Mr W...</td>\n",
              "      <td>363</td>\n",
              "    </tr>\n",
              "    <tr>\n",
              "      <th>3</th>\n",
              "      <td>Jane Austen</td>\n",
              "      <td>Emma</td>\n",
              "      <td>would make matches foretell things whatever sa...</td>\n",
              "      <td>358</td>\n",
              "    </tr>\n",
              "    <tr>\n",
              "      <th>4</th>\n",
              "      <td>Jane Austen</td>\n",
              "      <td>Emma</td>\n",
              "      <td>deal pleasure sir time said Mr Knightley laugh...</td>\n",
              "      <td>418</td>\n",
              "    </tr>\n",
              "  </tbody>\n",
              "</table>\n",
              "</div>"
            ],
            "text/plain": [
              "        Author Book_name                                               Text  \\\n",
              "0  Jane Austen      Emma  VOLUME CHAPTER Emma Woodhouse handsome clever ...   \n",
              "1  Jane Austen      Emma  afforded equals Woodhouses first consequence l...   \n",
              "2  Jane Austen      Emma  Isabella children answered satisfactorily Mr W...   \n",
              "3  Jane Austen      Emma  would make matches foretell things whatever sa...   \n",
              "4  Jane Austen      Emma  deal pleasure sir time said Mr Knightley laugh...   \n",
              "\n",
              "   document_lengths  \n",
              "0               408  \n",
              "1               390  \n",
              "2               363  \n",
              "3               358  \n",
              "4               418  "
            ]
          },
          "metadata": {
            "tags": []
          },
          "execution_count": 21
        }
      ]
    },
    {
      "cell_type": "markdown",
      "metadata": {
        "colab_type": "text",
        "id": "-cIscnOOOgWS"
      },
      "source": [
        "We have finished the exploration of the data, thus we will move to next section."
      ]
    },
    {
      "cell_type": "markdown",
      "metadata": {
        "id": "r2PdK2fsuFK0",
        "colab_type": "text"
      },
      "source": [
        "##3. Supervised learning used Bag of Word, TF-IDF, Word2vec"
      ]
    },
    {
      "cell_type": "markdown",
      "metadata": {
        "id": "V3ZxQ55HuKJU",
        "colab_type": "text"
      },
      "source": [
        "### 3.1 Bag of words"
      ]
    },
    {
      "cell_type": "markdown",
      "metadata": {
        "id": "mNBOwBOqtWBk",
        "colab_type": "text"
      },
      "source": [
        "Create the training and test data"
      ]
    },
    {
      "cell_type": "code",
      "metadata": {
        "id": "GuszcMORsteO",
        "colab_type": "code",
        "colab": {}
      },
      "source": [
        "text_train, text_test, author_train, author_test = train_test_split(df.Text, df.Author, test_size = 0.2, random_state = 5)"
      ],
      "execution_count": 0,
      "outputs": []
    },
    {
      "cell_type": "code",
      "metadata": {
        "id": "8xsAnixltrRN",
        "colab_type": "code",
        "outputId": "d1573140-2de1-4f7c-f4bb-a064bbb57f1b",
        "colab": {
          "base_uri": "https://localhost:8080/",
          "height": 85
        }
      },
      "source": [
        "# Check shapes of created datasets\n",
        "print(np.shape(text_train))\n",
        "print(np.shape(text_test))\n",
        "print(np.shape(author_train))\n",
        "print(np.shape(author_test))"
      ],
      "execution_count": 23,
      "outputs": [
        {
          "output_type": "stream",
          "text": [
            "(2880,)\n",
            "(720,)\n",
            "(2880,)\n",
            "(720,)\n"
          ],
          "name": "stdout"
        }
      ]
    },
    {
      "cell_type": "markdown",
      "metadata": {
        "id": "QrbQgGsb5qKb",
        "colab_type": "text"
      },
      "source": [
        "Creating Features from a Bag of Words"
      ]
    },
    {
      "cell_type": "code",
      "metadata": {
        "id": "IWOJ92jvtwGd",
        "colab_type": "code",
        "outputId": "95c1a2c6-f567-4a8d-c96d-d2577569df20",
        "colab": {
          "base_uri": "https://localhost:8080/",
          "height": 51
        }
      },
      "source": [
        "print (\"Creating the bag of words...\\n\")\n",
        "from sklearn.feature_extraction.text import CountVectorizer\n",
        "vectorizer = CountVectorizer(max_features=5000).fit(text_train) \n",
        "train_X = vectorizer.transform(text_train)\n",
        "train_X = train_X.toarray()\n",
        "test_X = vectorizer.transform(text_test)\n",
        "test_X = test_X.toarray()"
      ],
      "execution_count": 24,
      "outputs": [
        {
          "output_type": "stream",
          "text": [
            "Creating the bag of words...\n",
            "\n"
          ],
          "name": "stdout"
        }
      ]
    },
    {
      "cell_type": "code",
      "metadata": {
        "id": "QfkTTvCBt-Z2",
        "colab_type": "code",
        "outputId": "52857cc5-3832-400b-fe37-1f24d8a0de4d",
        "colab": {
          "base_uri": "https://localhost:8080/",
          "height": 51
        }
      },
      "source": [
        "print (train_X.shape)\n",
        "print (test_X.shape)"
      ],
      "execution_count": 25,
      "outputs": [
        {
          "output_type": "stream",
          "text": [
            "(2880, 5000)\n",
            "(720, 5000)\n"
          ],
          "name": "stdout"
        }
      ]
    },
    {
      "cell_type": "code",
      "metadata": {
        "id": "UoBf3nr8qvkk",
        "colab_type": "code",
        "colab": {}
      },
      "source": [
        "author_lb = LabelEncoder()\n",
        "Y_train = author_lb.fit_transform(author_train)\n",
        "Y_test = author_lb.transform(author_test)"
      ],
      "execution_count": 0,
      "outputs": []
    },
    {
      "cell_type": "code",
      "metadata": {
        "id": "bnPjNsxIZ9Yx",
        "colab_type": "code",
        "outputId": "6d488f03-6418-43c1-c57b-355907713ddc",
        "colab": {
          "base_uri": "https://localhost:8080/",
          "height": 340
        }
      },
      "source": [
        "## check the grid CV serach to have best parameter on 10 % data set\n",
        "from sklearn.model_selection import GridSearchCV\n",
        "DTC = tree.DecisionTreeClassifier()\n",
        "RF = RandomForestClassifier()\n",
        "GBC = GradientBoostingClassifier()\n",
        "SVM = SVC()\n",
        "LogR = LogisticRegression()\n",
        "NVG = GaussianNB()\n",
        "KNN = KNeighborsClassifier()\n",
        "## 10% of data set\n",
        "X_train_10=train_X[0:1440]\n",
        "Y_train_10=Y_train[0:1440]\n",
        "X_test_10 =test_X[0:360]\n",
        "Y_test_10 =Y_test[0:360]\n",
        "### parameter change\n",
        "parameters_logr = [{'C': [1, 10,100]}]\n",
        "parameters_dtc = [{'max_depth': [10,20,30] }]\n",
        "parameters_RF = [{'n_estimators': [10,20,30]}]\n",
        "parameters_GBC = [{'n_estimators': [10,20,30]}]\n",
        "parameters_svm = [{'C': [1, 10,100]}]\n",
        "parameters_knn = [{'n_neighbors': [10, 20,30]}]\n",
        "model_parameters=[parameters_RF,parameters_logr,parameters_dtc,parameters_GBC,parameters_svm,parameters_knn]\n",
        "## no change param for Naive Bayes\n",
        "\n",
        "model_predict=[RF,LogR,DTC,GBC,SVM,KNN]\n",
        "## SVM will be updated later\n",
        "model_name=['Random Forest Classifier'\n",
        "            ,'Logistic Regression'\n",
        "            , 'Decision Tree Classifer'\n",
        "            ,'Gradient Boosting Classifier'\n",
        "            ,'SVM Classifier'\n",
        "            ,'K-nearest neighbour']\n",
        "for model, name, para in zip (model_predict,model_name,model_parameters):\n",
        "    time_start = time.clock()\n",
        "    grid_search = GridSearchCV(estimator = model,\n",
        "                           param_grid = para,\n",
        "                           scoring = 'accuracy',\n",
        "                           cv = 5)\n",
        "    grid_search = grid_search.fit(X_train_10, Y_train_10)\n",
        "    accuracy = grid_search.best_score_\n",
        "    param_best=grid_search.best_params_\n",
        "    print(name)\n",
        "    #para_out.append(param_best)\n",
        "    print('Best parameter:     ', param_best)\n",
        "    print('Best Accuracy: %12.3f'%accuracy)\n",
        "print('======================End of gettting best parameter======================')\n",
        "## "
      ],
      "execution_count": 27,
      "outputs": [
        {
          "output_type": "stream",
          "text": [
            "Random Forest Classifier\n",
            "Best parameter:      {'n_estimators': 30}\n",
            "Best Accuracy:        0.883\n",
            "Logistic Regression\n",
            "Best parameter:      {'C': 1}\n",
            "Best Accuracy:        0.973\n",
            "Decision Tree Classifer\n",
            "Best parameter:      {'max_depth': 30}\n",
            "Best Accuracy:        0.768\n",
            "Gradient Boosting Classifier\n",
            "Best parameter:      {'n_estimators': 30}\n",
            "Best Accuracy:        0.903\n",
            "SVM Classifier\n",
            "Best parameter:      {'C': 100}\n",
            "Best Accuracy:        0.983\n",
            "K-nearest neighbour\n",
            "Best parameter:      {'n_neighbors': 10}\n",
            "Best Accuracy:        0.159\n",
            "======================End of gettting best parameter======================\n"
          ],
          "name": "stdout"
        }
      ]
    },
    {
      "cell_type": "markdown",
      "metadata": {
        "id": "-PCJXUtv6YkS",
        "colab_type": "text"
      },
      "source": [
        "As we can see for Random forest an Decission tree, it seems that the parameter is not large enough thus we will use:"
      ]
    },
    {
      "cell_type": "code",
      "metadata": {
        "id": "NpkmKeVF-8Ca",
        "colab_type": "code",
        "colab": {}
      },
      "source": [
        "DTC = tree.DecisionTreeClassifier(max_depth=100)\n",
        "RF = RandomForestClassifier(n_estimators=20)\n",
        "GBC = GradientBoostingClassifier(n_estimators=50)\n",
        "SVM = SVC(C=100,gamma='auto', class_weight='balanced')\n",
        "LogR = LogisticRegression(C=1)\n",
        "NVG = GaussianNB()\n",
        "#KNN = KNeighborsClassifier(n_neighbors = 12)\n",
        "KNN = KNeighborsClassifier(n_jobs=-1)\n"
      ],
      "execution_count": 0,
      "outputs": []
    },
    {
      "cell_type": "code",
      "metadata": {
        "id": "Zhy4ynwaQyZR",
        "colab_type": "code",
        "outputId": "d7564ecd-8091-4e99-8194-4027d2f9e9e5",
        "colab": {
          "base_uri": "https://localhost:8080/",
          "height": 1000
        }
      },
      "source": [
        "model_predict=[RF,LogR,DTC,GBC,SVM,NVG,KNN]\n",
        "model_predict=[RF,LogR,DTC,NVG,KNN]\n",
        "## SVM,GBC will be updated later\n",
        "model_name=['Random Forest Classifier'\n",
        "            ,'Logistic Regression'\n",
        "            , 'Decision Tree Classifer'\n",
        "#            ,'Gradient Boosting Classifier'\n",
        "#            ,'SVM Classifier'\n",
        "            ,'Naive Bayes Gauss'\n",
        "            ,'K-nearest neighbour']\n",
        "## loop\n",
        "for model, name in zip (model_predict,model_name):\n",
        "    time_start = time.clock()\n",
        "    clf=model.fit(train_X,Y_train)\n",
        "    predictions = clf.predict(test_X)\n",
        "    tmp1=classification_report(Y_test,predictions)\n",
        "    tmp2=accuracy_score(Y_test,predictions)\n",
        "    time_elapsed = (time.clock() - time_start)\n",
        "    print(name)\n",
        "    print(tmp1)\n",
        "    print('Accuracy Score: %12.3f'%tmp2)\n",
        "    print('Computing time: %12.3f second'%time_elapsed)\n",
        "    print('==========================================================')\n",
        "    #break\n",
        "    \n",
        "    \n",
        "print('======================End of predicting======================')\n",
        "## "
      ],
      "execution_count": 29,
      "outputs": [
        {
          "output_type": "stream",
          "text": [
            "Random Forest Classifier\n",
            "              precision    recall  f1-score   support\n",
            "\n",
            "           0       0.88      0.96      0.91       112\n",
            "           1       0.97      0.91      0.94        43\n",
            "           2       1.00      1.00      1.00        45\n",
            "           3       0.91      1.00      0.96       117\n",
            "           4       0.98      0.96      0.97        45\n",
            "           5       0.97      0.90      0.94        41\n",
            "           6       0.96      0.74      0.84        31\n",
            "           7       0.84      0.69      0.76        39\n",
            "           8       0.93      0.93      0.93        41\n",
            "           9       0.97      0.82      0.89        39\n",
            "          10       0.88      1.00      0.93        42\n",
            "          11       0.99      0.99      0.99       125\n",
            "\n",
            "    accuracy                           0.94       720\n",
            "   macro avg       0.94      0.91      0.92       720\n",
            "weighted avg       0.94      0.94      0.93       720\n",
            "\n",
            "Accuracy Score:        0.936\n",
            "Computing time:        0.629 second\n",
            "==========================================================\n",
            "Logistic Regression\n",
            "              precision    recall  f1-score   support\n",
            "\n",
            "           0       1.00      0.99      1.00       112\n",
            "           1       1.00      1.00      1.00        43\n",
            "           2       1.00      0.93      0.97        45\n",
            "           3       0.99      1.00      1.00       117\n",
            "           4       1.00      1.00      1.00        45\n",
            "           5       1.00      1.00      1.00        41\n",
            "           6       1.00      0.97      0.98        31\n",
            "           7       0.91      1.00      0.95        39\n",
            "           8       1.00      0.98      0.99        41\n",
            "           9       1.00      1.00      1.00        39\n",
            "          10       1.00      1.00      1.00        42\n",
            "          11       0.99      1.00      1.00       125\n",
            "\n",
            "    accuracy                           0.99       720\n",
            "   macro avg       0.99      0.99      0.99       720\n",
            "weighted avg       0.99      0.99      0.99       720\n",
            "\n",
            "Accuracy Score:        0.992\n",
            "Computing time:        2.515 second\n",
            "==========================================================\n",
            "Decision Tree Classifer\n",
            "              precision    recall  f1-score   support\n",
            "\n",
            "           0       0.84      0.78      0.81       112\n",
            "           1       0.89      0.79      0.84        43\n",
            "           2       1.00      1.00      1.00        45\n",
            "           3       0.92      0.87      0.89       117\n",
            "           4       0.88      0.80      0.84        45\n",
            "           5       0.95      0.90      0.92        41\n",
            "           6       0.61      0.74      0.67        31\n",
            "           7       0.48      0.59      0.53        39\n",
            "           8       0.97      0.80      0.88        41\n",
            "           9       0.60      0.62      0.61        39\n",
            "          10       0.70      0.88      0.78        42\n",
            "          11       0.87      0.90      0.89       125\n",
            "\n",
            "    accuracy                           0.82       720\n",
            "   macro avg       0.81      0.81      0.80       720\n",
            "weighted avg       0.84      0.82      0.83       720\n",
            "\n",
            "Accuracy Score:        0.825\n",
            "Computing time:        3.776 second\n",
            "==========================================================\n",
            "Naive Bayes Gauss\n",
            "              precision    recall  f1-score   support\n",
            "\n",
            "           0       0.80      0.94      0.86       112\n",
            "           1       0.63      1.00      0.77        43\n",
            "           2       0.90      1.00      0.95        45\n",
            "           3       0.97      0.99      0.98       117\n",
            "           4       0.73      0.91      0.81        45\n",
            "           5       1.00      0.37      0.54        41\n",
            "           6       0.66      1.00      0.79        31\n",
            "           7       0.86      0.46      0.60        39\n",
            "           8       1.00      0.76      0.86        41\n",
            "           9       0.70      0.90      0.79        39\n",
            "          10       1.00      0.17      0.29        42\n",
            "          11       1.00      0.99      1.00       125\n",
            "\n",
            "    accuracy                           0.85       720\n",
            "   macro avg       0.85      0.79      0.77       720\n",
            "weighted avg       0.88      0.85      0.83       720\n",
            "\n",
            "Accuracy Score:        0.849\n",
            "Computing time:        0.549 second\n",
            "==========================================================\n",
            "K-nearest neighbour\n",
            "              precision    recall  f1-score   support\n",
            "\n",
            "           0       0.00      0.00      0.00       112\n",
            "           1       0.92      0.28      0.43        43\n",
            "           2       1.00      0.98      0.99        45\n",
            "           3       0.96      0.22      0.36       117\n",
            "           4       0.33      0.02      0.04        45\n",
            "           5       0.16      0.32      0.21        41\n",
            "           6       1.00      0.29      0.45        31\n",
            "           7       0.71      0.13      0.22        39\n",
            "           8       0.22      0.46      0.30        41\n",
            "           9       1.00      0.03      0.05        39\n",
            "          10       0.11      1.00      0.19        42\n",
            "          11       0.23      0.09      0.13       125\n",
            "\n",
            "    accuracy                           0.25       720\n",
            "   macro avg       0.55      0.32      0.28       720\n",
            "weighted avg       0.50      0.25      0.25       720\n",
            "\n",
            "Accuracy Score:        0.254\n",
            "Computing time:       56.429 second\n",
            "==========================================================\n",
            "======================End of predicting======================\n"
          ],
          "name": "stdout"
        }
      ]
    },
    {
      "cell_type": "markdown",
      "metadata": {
        "id": "KNX1B01XzYfF",
        "colab_type": "text"
      },
      "source": [
        "As we can see, using bag of word, KNN performs badly which produces 24 % of accuracy. Naive Bayes and Logics Regression shows good results where the accuracy is 83 % and 95 % respectively. "
      ]
    },
    {
      "cell_type": "markdown",
      "metadata": {
        "id": "Td81ZsePBXMu",
        "colab_type": "text"
      },
      "source": [
        "###3.2 TFIDF"
      ]
    },
    {
      "cell_type": "markdown",
      "metadata": {
        "id": "_uOL9CgClur3",
        "colab_type": "text"
      },
      "source": [
        "Now we will exam the performance of the TFIDF scheme."
      ]
    },
    {
      "cell_type": "code",
      "metadata": {
        "id": "kCeUImNAzWk7",
        "colab_type": "code",
        "outputId": "716bd8e5-7bac-4326-9c73-432974eafd3f",
        "colab": {
          "base_uri": "https://localhost:8080/",
          "height": 68
        }
      },
      "source": [
        "from sklearn.feature_extraction.text import TfidfVectorizer\n",
        "\n",
        "vectorizer = TfidfVectorizer(max_features = 5000)\n",
        "%time tfidf_matrix = vectorizer.fit_transform(df.Text) #fit the vectorizer to synopses\n",
        "print(tfidf_matrix.shape)\n",
        "train_X, test_X, author_train, author_test = train_test_split(tfidf_matrix.toarray(), df.Author, test_size = 0.2, random_state = 5)\n",
        "author_lb = LabelEncoder()\n",
        "Y_train = author_lb.fit_transform(author_train)\n",
        "Y_test = author_lb.transform(author_test)\n"
      ],
      "execution_count": 30,
      "outputs": [
        {
          "output_type": "stream",
          "text": [
            "CPU times: user 794 ms, sys: 2.07 ms, total: 796 ms\n",
            "Wall time: 807 ms\n",
            "(3600, 5000)\n"
          ],
          "name": "stdout"
        }
      ]
    },
    {
      "cell_type": "code",
      "metadata": {
        "id": "TRBSpfjrzWjZ",
        "colab_type": "code",
        "colab": {}
      },
      "source": [
        "DTC = tree.DecisionTreeClassifier(max_depth=100)\n",
        "RF = RandomForestClassifier(n_estimators=20)\n",
        "GBC = GradientBoostingClassifier(n_estimators=50)\n",
        "SVM = SVC(C=100,gamma='auto', class_weight='balanced')\n",
        "LogR = LogisticRegression(C=1)\n",
        "NVG = GaussianNB()\n",
        "#KNN = KNeighborsClassifier(n_neighbors = 12)\n",
        "KNN = KNeighborsClassifier(n_jobs=-1)\n"
      ],
      "execution_count": 0,
      "outputs": []
    },
    {
      "cell_type": "code",
      "metadata": {
        "id": "EE5nZBu-zWgn",
        "colab_type": "code",
        "outputId": "4091ff15-28b5-423d-a367-d9c1e05505d4",
        "colab": {
          "base_uri": "https://localhost:8080/",
          "height": 1000
        }
      },
      "source": [
        "model_predict=[RF,LogR,DTC,GBC,SVM,NVG,KNN]\n",
        "model_predict=[RF,LogR,DTC,NVG,KNN]\n",
        "## SVM,GBC will be updated later\n",
        "model_name=['Random Forest Classifier'\n",
        "            ,'Logistic Regression'\n",
        "            , 'Decision Tree Classifer'\n",
        "#            ,'Gradient Boosting Classifier'\n",
        "#            ,'SVM Classifier'\n",
        "            ,'Naive Bayes Gauss'\n",
        "            ,'K-nearest neighbour']\n",
        "## loop\n",
        "for model, name in zip (model_predict,model_name):\n",
        "    time_start = time.clock()\n",
        "    clf=model.fit(train_X,Y_train)\n",
        "    predictions = clf.predict(test_X)\n",
        "    tmp1=classification_report(Y_test,predictions)\n",
        "    tmp2=accuracy_score(Y_test,predictions)\n",
        "    time_elapsed = (time.clock() - time_start)\n",
        "    print(name)\n",
        "    print(tmp1)\n",
        "    print('Accuracy Score: %12.3f'%tmp2)\n",
        "    print('Computing time: %12.3f second'%time_elapsed)\n",
        "    print('==========================================================')\n",
        "    #break\n",
        "    \n",
        "    \n",
        "print('======================End of predicting======================')\n",
        "## "
      ],
      "execution_count": 32,
      "outputs": [
        {
          "output_type": "stream",
          "text": [
            "Random Forest Classifier\n",
            "              precision    recall  f1-score   support\n",
            "\n",
            "           0       0.87      0.97      0.92       112\n",
            "           1       0.98      0.98      0.98        43\n",
            "           2       1.00      1.00      1.00        45\n",
            "           3       0.95      0.99      0.97       117\n",
            "           4       0.96      1.00      0.98        45\n",
            "           5       0.97      0.90      0.94        41\n",
            "           6       0.96      0.87      0.92        31\n",
            "           7       0.88      0.59      0.71        39\n",
            "           8       0.98      0.98      0.98        41\n",
            "           9       0.97      0.77      0.86        39\n",
            "          10       0.88      1.00      0.93        42\n",
            "          11       0.99      0.99      0.99       125\n",
            "\n",
            "    accuracy                           0.94       720\n",
            "   macro avg       0.95      0.92      0.93       720\n",
            "weighted avg       0.95      0.94      0.94       720\n",
            "\n",
            "Accuracy Score:        0.944\n",
            "Computing time:        0.810 second\n",
            "==========================================================\n",
            "Logistic Regression\n",
            "              precision    recall  f1-score   support\n",
            "\n",
            "           0       0.96      0.99      0.97       112\n",
            "           1       1.00      1.00      1.00        43\n",
            "           2       1.00      1.00      1.00        45\n",
            "           3       0.99      1.00      1.00       117\n",
            "           4       1.00      1.00      1.00        45\n",
            "           5       1.00      0.93      0.96        41\n",
            "           6       0.97      1.00      0.98        31\n",
            "           7       0.97      0.92      0.95        39\n",
            "           8       1.00      0.98      0.99        41\n",
            "           9       0.97      0.97      0.97        39\n",
            "          10       0.98      0.98      0.98        42\n",
            "          11       1.00      1.00      1.00       125\n",
            "\n",
            "    accuracy                           0.99       720\n",
            "   macro avg       0.99      0.98      0.98       720\n",
            "weighted avg       0.99      0.99      0.99       720\n",
            "\n",
            "Accuracy Score:        0.986\n",
            "Computing time:        0.743 second\n",
            "==========================================================\n",
            "Decision Tree Classifer\n",
            "              precision    recall  f1-score   support\n",
            "\n",
            "           0       0.73      0.79      0.76       112\n",
            "           1       0.81      0.81      0.81        43\n",
            "           2       1.00      1.00      1.00        45\n",
            "           3       0.91      0.84      0.87       117\n",
            "           4       0.83      0.76      0.79        45\n",
            "           5       0.88      0.88      0.88        41\n",
            "           6       0.75      0.68      0.71        31\n",
            "           7       0.44      0.41      0.43        39\n",
            "           8       0.78      0.88      0.83        41\n",
            "           9       0.70      0.67      0.68        39\n",
            "          10       0.78      0.93      0.85        42\n",
            "          11       0.93      0.93      0.93       125\n",
            "\n",
            "    accuracy                           0.82       720\n",
            "   macro avg       0.80      0.80      0.79       720\n",
            "weighted avg       0.82      0.82      0.82       720\n",
            "\n",
            "Accuracy Score:        0.819\n",
            "Computing time:        4.221 second\n",
            "==========================================================\n",
            "Naive Bayes Gauss\n",
            "              precision    recall  f1-score   support\n",
            "\n",
            "           0       0.79      0.91      0.85       112\n",
            "           1       0.56      1.00      0.72        43\n",
            "           2       0.90      1.00      0.95        45\n",
            "           3       0.97      0.99      0.98       117\n",
            "           4       0.75      0.91      0.82        45\n",
            "           5       1.00      0.39      0.56        41\n",
            "           6       0.67      1.00      0.81        31\n",
            "           7       0.84      0.41      0.55        39\n",
            "           8       1.00      0.78      0.88        41\n",
            "           9       0.72      0.85      0.78        39\n",
            "          10       1.00      0.14      0.25        42\n",
            "          11       1.00      0.99      1.00       125\n",
            "\n",
            "    accuracy                           0.84       720\n",
            "   macro avg       0.85      0.78      0.76       720\n",
            "weighted avg       0.88      0.84      0.82       720\n",
            "\n",
            "Accuracy Score:        0.840\n",
            "Computing time:        0.422 second\n",
            "==========================================================\n",
            "K-nearest neighbour\n",
            "              precision    recall  f1-score   support\n",
            "\n",
            "           0       0.96      0.96      0.96       112\n",
            "           1       0.96      1.00      0.98        43\n",
            "           2       0.83      1.00      0.91        45\n",
            "           3       0.97      1.00      0.99       117\n",
            "           4       0.94      0.98      0.96        45\n",
            "           5       0.95      0.93      0.94        41\n",
            "           6       0.86      1.00      0.93        31\n",
            "           7       0.97      0.82      0.89        39\n",
            "           8       1.00      1.00      1.00        41\n",
            "           9       0.89      0.87      0.88        39\n",
            "          10       0.97      0.71      0.82        42\n",
            "          11       0.99      0.98      0.98       125\n",
            "\n",
            "    accuracy                           0.95       720\n",
            "   macro avg       0.94      0.94      0.94       720\n",
            "weighted avg       0.95      0.95      0.95       720\n",
            "\n",
            "Accuracy Score:        0.951\n",
            "Computing time:       59.361 second\n",
            "==========================================================\n",
            "======================End of predicting======================\n"
          ],
          "name": "stdout"
        }
      ]
    },
    {
      "cell_type": "markdown",
      "metadata": {
        "id": "Z4q0hrs-mGMy",
        "colab_type": "text"
      },
      "source": [
        "Using TFIDF improves the performance of all classifier. In these scheme, all of the classifier is more than 80 % accuracy."
      ]
    },
    {
      "cell_type": "markdown",
      "metadata": {
        "id": "YCmT-HlEm_dO",
        "colab_type": "text"
      },
      "source": [
        "### 3.3 Word2vec method"
      ]
    },
    {
      "cell_type": "code",
      "metadata": {
        "id": "5O5_d326qWj3",
        "colab_type": "code",
        "colab": {}
      },
      "source": [
        "## split text \n",
        "split_text=[]\n",
        "test=df.Text\n",
        "for i in range (len(test)):\n",
        "  split_text.append(test[i].split())"
      ],
      "execution_count": 0,
      "outputs": []
    },
    {
      "cell_type": "markdown",
      "metadata": {
        "id": "HcSdy_ZNDRCJ",
        "colab_type": "text"
      },
      "source": [
        "The word2vec scheme is shown as followed"
      ]
    },
    {
      "cell_type": "code",
      "metadata": {
        "id": "6SUREzSHnovr",
        "colab_type": "code",
        "outputId": "d8a507d3-d9d8-4030-db3f-9b84f00aa040",
        "colab": {
          "base_uri": "https://localhost:8080/",
          "height": 34
        }
      },
      "source": [
        "# converting format\n",
        "print(len(split_text))"
      ],
      "execution_count": 34,
      "outputs": [
        {
          "output_type": "stream",
          "text": [
            "3600\n"
          ],
          "name": "stdout"
        }
      ]
    },
    {
      "cell_type": "code",
      "metadata": {
        "id": "QEbSOdjazWfr",
        "colab_type": "code",
        "colab": {}
      },
      "source": [
        "from gensim.models import Word2Vec, KeyedVectors\n",
        "w2v_model = Word2Vec(split_text, window=1, workers=10,size=200)"
      ],
      "execution_count": 0,
      "outputs": []
    },
    {
      "cell_type": "code",
      "metadata": {
        "id": "qVx_EmLqzWc4",
        "colab_type": "code",
        "outputId": "3bff7db9-3f78-404e-bbcb-a011f12130df",
        "colab": {
          "base_uri": "https://localhost:8080/",
          "height": 34
        }
      },
      "source": [
        "print(w2v_model)"
      ],
      "execution_count": 36,
      "outputs": [
        {
          "output_type": "stream",
          "text": [
            "Word2Vec(vocab=16587, size=200, alpha=0.025)\n"
          ],
          "name": "stdout"
        }
      ]
    },
    {
      "cell_type": "code",
      "metadata": {
        "id": "htdw3kenrxWa",
        "colab_type": "code",
        "outputId": "ce7259dd-17f4-4bf5-8d07-31c282ae98cf",
        "colab": {
          "base_uri": "https://localhost:8080/",
          "height": 34
        }
      },
      "source": [
        "vocab = w2v_model.wv.vocab\n",
        "wordsInVocab = len(vocab)\n",
        "print(wordsInVocab)"
      ],
      "execution_count": 37,
      "outputs": [
        {
          "output_type": "stream",
          "text": [
            "16587\n"
          ],
          "name": "stdout"
        }
      ]
    },
    {
      "cell_type": "markdown",
      "metadata": {
        "id": "mQ5AlQIfFBOS",
        "colab_type": "text"
      },
      "source": [
        "After we get the vector of a word, we can calculate the vector expression of a sentence by average as:"
      ]
    },
    {
      "cell_type": "code",
      "metadata": {
        "id": "IvVfiLBTZdjN",
        "colab_type": "code",
        "colab": {}
      },
      "source": [
        "def document_vector(word2vec_model, doc):\n",
        "    # remove out-of-vocabulary words\n",
        "    doc = [word for word in doc if word in word2vec_model.wv.vocab]\n",
        "    return np.mean(word2vec_model[doc], axis=0)\n",
        "X =[]\n",
        "for doc in split_text: #look up each doc in model\n",
        "    X.append(document_vector(w2v_model, doc))\n",
        "X = np.array(X) #list to array"
      ],
      "execution_count": 0,
      "outputs": []
    },
    {
      "cell_type": "code",
      "metadata": {
        "id": "QBEYK9IpbYmo",
        "colab_type": "code",
        "outputId": "3dc1d78e-d85e-4d85-9f2c-5e5553c1996a",
        "colab": {
          "base_uri": "https://localhost:8080/",
          "height": 34
        }
      },
      "source": [
        "print(X.shape)\n",
        "#print(X[1])"
      ],
      "execution_count": 39,
      "outputs": [
        {
          "output_type": "stream",
          "text": [
            "(3600, 200)\n"
          ],
          "name": "stdout"
        }
      ]
    },
    {
      "cell_type": "code",
      "metadata": {
        "id": "e20zdzNkr7Ro",
        "colab_type": "code",
        "colab": {}
      },
      "source": [
        "X_train, X_test, Y_train, Y_test = train_test_split(X, df.Author, test_size = 0.2, random_state = 5)"
      ],
      "execution_count": 0,
      "outputs": []
    },
    {
      "cell_type": "code",
      "metadata": {
        "id": "Th-mfy9w5Ddg",
        "colab_type": "code",
        "colab": {}
      },
      "source": [
        "author_lb = LabelEncoder()\n",
        "Y_train_w2v = author_lb.fit_transform(Y_train)\n",
        "Y_test_w2v = author_lb.transform(Y_test)"
      ],
      "execution_count": 0,
      "outputs": []
    },
    {
      "cell_type": "code",
      "metadata": {
        "id": "aDLOO8a45R7i",
        "colab_type": "code",
        "colab": {}
      },
      "source": [
        "DTC = tree.DecisionTreeClassifier(max_depth=100)\n",
        "RF = RandomForestClassifier(n_estimators=20)\n",
        "GBC = GradientBoostingClassifier(n_estimators=50)\n",
        "SVM = SVC(C=100,gamma='auto', class_weight='balanced')\n",
        "LogR = LogisticRegression(C=1)\n",
        "NVG = GaussianNB()\n",
        "#KNN = KNeighborsClassifier(n_neighbors = 12)\n",
        "KNN = KNeighborsClassifier(n_jobs=-1)"
      ],
      "execution_count": 0,
      "outputs": []
    },
    {
      "cell_type": "code",
      "metadata": {
        "id": "tL6FywKt56bM",
        "colab_type": "code",
        "outputId": "216bf5dd-5a8d-458d-f431-6676fb1694b9",
        "colab": {
          "base_uri": "https://localhost:8080/",
          "height": 1000
        }
      },
      "source": [
        "model_predict=[RF,LogR,DTC,GBC,SVM,NVG,KNN]\n",
        "model_predict=[RF,LogR,DTC,NVG,KNN]\n",
        "## SVM,GBC will be updated later\n",
        "model_name=['Random Forest Classifier'\n",
        "            ,'Logistic Regression'\n",
        "            , 'Decision Tree Classifer'\n",
        "#            ,'Gradient Boosting Classifier'\n",
        "#            ,'SVM Classifier'\n",
        "            ,'Naive Bayes Gauss'\n",
        "            ,'K-nearest neighbour']\n",
        "## loop\n",
        "for model, name in zip (model_predict,model_name):\n",
        "    time_start = time.clock()\n",
        "    clf=model.fit(X_train,Y_train_w2v)\n",
        "    predictions = clf.predict(X_test)\n",
        "    tmp1=classification_report(Y_test_w2v,predictions)\n",
        "    tmp2=accuracy_score(Y_test_w2v,predictions)\n",
        "    time_elapsed = (time.clock() - time_start)\n",
        "    print(name)\n",
        "    print(tmp1)\n",
        "    print('Accuracy Score: %12.3f'%tmp2)\n",
        "    print('Computing time: %12.3f second'%time_elapsed)\n",
        "    print('==========================================================')\n",
        "    #break\n",
        "    \n",
        "    \n",
        "print('======================End of predicting======================')\n",
        "## "
      ],
      "execution_count": 43,
      "outputs": [
        {
          "output_type": "stream",
          "text": [
            "Random Forest Classifier\n",
            "              precision    recall  f1-score   support\n",
            "\n",
            "           0       0.70      0.91      0.79       112\n",
            "           1       0.76      0.67      0.72        43\n",
            "           2       1.00      1.00      1.00        45\n",
            "           3       0.92      0.92      0.92       117\n",
            "           4       0.78      0.96      0.86        45\n",
            "           5       0.76      0.63      0.69        41\n",
            "           6       0.75      0.68      0.71        31\n",
            "           7       0.79      0.59      0.68        39\n",
            "           8       0.84      0.66      0.74        41\n",
            "           9       0.70      0.77      0.73        39\n",
            "          10       0.92      0.52      0.67        42\n",
            "          11       0.93      0.97      0.95       125\n",
            "\n",
            "    accuracy                           0.83       720\n",
            "   macro avg       0.82      0.77      0.79       720\n",
            "weighted avg       0.84      0.83      0.82       720\n",
            "\n",
            "Accuracy Score:        0.829\n",
            "Computing time:        0.735 second\n",
            "==========================================================\n",
            "Logistic Regression\n",
            "              precision    recall  f1-score   support\n",
            "\n",
            "           0       0.56      0.90      0.69       112\n",
            "           1       0.76      0.30      0.43        43\n",
            "           2       1.00      1.00      1.00        45\n",
            "           3       0.79      0.99      0.88       117\n",
            "           4       0.79      0.84      0.82        45\n",
            "           5       0.75      0.37      0.49        41\n",
            "           6       0.80      0.13      0.22        31\n",
            "           7       0.78      0.54      0.64        39\n",
            "           8       0.92      0.59      0.72        41\n",
            "           9       0.69      0.85      0.76        39\n",
            "          10       0.83      0.36      0.50        42\n",
            "          11       0.89      0.99      0.94       125\n",
            "\n",
            "    accuracy                           0.76       720\n",
            "   macro avg       0.80      0.65      0.67       720\n",
            "weighted avg       0.79      0.76      0.74       720\n",
            "\n",
            "Accuracy Score:        0.762\n",
            "Computing time:        0.971 second\n",
            "==========================================================\n",
            "Decision Tree Classifer\n",
            "              precision    recall  f1-score   support\n",
            "\n",
            "           0       0.76      0.76      0.76       112\n",
            "           1       0.69      0.63      0.66        43\n",
            "           2       1.00      1.00      1.00        45\n",
            "           3       0.85      0.85      0.85       117\n",
            "           4       0.72      0.73      0.73        45\n",
            "           5       0.54      0.49      0.51        41\n",
            "           6       0.51      0.65      0.57        31\n",
            "           7       0.61      0.36      0.45        39\n",
            "           8       0.63      0.63      0.63        41\n",
            "           9       0.58      0.56      0.57        39\n",
            "          10       0.48      0.50      0.49        42\n",
            "          11       0.86      0.95      0.90       125\n",
            "\n",
            "    accuracy                           0.74       720\n",
            "   macro avg       0.69      0.68      0.68       720\n",
            "weighted avg       0.74      0.74      0.73       720\n",
            "\n",
            "Accuracy Score:        0.739\n",
            "Computing time:        3.185 second\n",
            "==========================================================\n",
            "Naive Bayes Gauss\n",
            "              precision    recall  f1-score   support\n",
            "\n",
            "           0       0.74      0.59      0.66       112\n",
            "           1       0.67      0.74      0.70        43\n",
            "           2       1.00      1.00      1.00        45\n",
            "           3       0.97      0.85      0.91       117\n",
            "           4       0.86      0.71      0.78        45\n",
            "           5       0.71      0.59      0.64        41\n",
            "           6       0.42      0.81      0.55        31\n",
            "           7       0.65      0.62      0.63        39\n",
            "           8       0.71      0.78      0.74        41\n",
            "           9       0.60      0.72      0.65        39\n",
            "          10       0.58      0.79      0.67        42\n",
            "          11       0.93      0.88      0.91       125\n",
            "\n",
            "    accuracy                           0.77       720\n",
            "   macro avg       0.74      0.76      0.74       720\n",
            "weighted avg       0.79      0.77      0.77       720\n",
            "\n",
            "Accuracy Score:        0.765\n",
            "Computing time:        0.020 second\n",
            "==========================================================\n",
            "K-nearest neighbour\n",
            "              precision    recall  f1-score   support\n",
            "\n",
            "           0       0.68      0.84      0.75       112\n",
            "           1       0.62      0.88      0.73        43\n",
            "           2       1.00      1.00      1.00        45\n",
            "           3       0.83      0.94      0.88       117\n",
            "           4       0.68      0.98      0.80        45\n",
            "           5       0.62      0.49      0.55        41\n",
            "           6       0.51      0.81      0.62        31\n",
            "           7       0.88      0.38      0.54        39\n",
            "           8       1.00      0.20      0.33        41\n",
            "           9       0.66      0.74      0.70        39\n",
            "          10       0.83      0.12      0.21        42\n",
            "          11       0.93      0.91      0.92       125\n",
            "\n",
            "    accuracy                           0.76       720\n",
            "   macro avg       0.77      0.69      0.67       720\n",
            "weighted avg       0.79      0.76      0.73       720\n",
            "\n",
            "Accuracy Score:        0.760\n",
            "Computing time:        3.997 second\n",
            "==========================================================\n",
            "======================End of predicting======================\n"
          ],
          "name": "stdout"
        }
      ]
    },
    {
      "cell_type": "markdown",
      "metadata": {
        "id": "0fjv22_LFXic",
        "colab_type": "text"
      },
      "source": [
        "Using the word2vec, the time consumption is reduced a lot but the accuracy is also decreased"
      ]
    },
    {
      "cell_type": "markdown",
      "metadata": {
        "id": "UemmFOd6OGgN",
        "colab_type": "text"
      },
      "source": [
        "## 4. Recurrent Neural Network for classification"
      ]
    },
    {
      "cell_type": "markdown",
      "metadata": {
        "id": "LDPXeWrdONQb",
        "colab_type": "text"
      },
      "source": [
        "We will use numeric vectorized data from word2vec scheme for this section."
      ]
    },
    {
      "cell_type": "code",
      "metadata": {
        "id": "JUzhzM2TOpwn",
        "colab_type": "code",
        "colab": {}
      },
      "source": [
        "from tensorflow.keras.preprocessing import sequence\n",
        "from tensorflow.keras.models import Sequential\n",
        "from tensorflow.keras.layers import Dense, Embedding, LSTM, SpatialDropout1D\n"
      ],
      "execution_count": 0,
      "outputs": []
    },
    {
      "cell_type": "code",
      "metadata": {
        "id": "9sx3aR05NiaW",
        "colab_type": "code",
        "outputId": "bc405351-969b-4f6c-be26-7bfcc03219a4",
        "colab": {
          "base_uri": "https://localhost:8080/",
          "height": 51
        }
      },
      "source": [
        "Y = pd.get_dummies(df['Author']).values\n",
        "X_train_web, X_test_web, Y_train_web, Y_test_web = train_test_split(X,Y, test_size = 0.10, random_state = 42)\n",
        "print(X_train_web.shape,Y_train_web.shape)\n",
        "print(X_test_web.shape,Y_test_web.shape)"
      ],
      "execution_count": 45,
      "outputs": [
        {
          "output_type": "stream",
          "text": [
            "(3240, 200) (3240, 12)\n",
            "(360, 200) (360, 12)\n"
          ],
          "name": "stdout"
        }
      ]
    },
    {
      "cell_type": "code",
      "metadata": {
        "id": "k3cvmCETN1sh",
        "colab_type": "code",
        "outputId": "7b857d95-e1aa-4852-b642-4140f75385a5",
        "colab": {
          "base_uri": "https://localhost:8080/",
          "height": 428
        }
      },
      "source": [
        "model = Sequential()\n",
        "model.add(Embedding(wordsInVocab, 128, input_length=X.shape[1]))\n",
        "model.add(SpatialDropout1D(0.1))\n",
        "model.add(LSTM(128, dropout=0.1, recurrent_dropout=0.1))\n",
        "model.add(Dense(12, activation='softmax'))\n",
        "model.compile(loss='categorical_crossentropy', optimizer='adam', metrics=['accuracy'])\n",
        "print(model.summary())"
      ],
      "execution_count": 46,
      "outputs": [
        {
          "output_type": "stream",
          "text": [
            "WARNING:tensorflow:From /usr/local/lib/python3.6/dist-packages/tensorflow_core/python/keras/initializers.py:119: calling RandomUniform.__init__ (from tensorflow.python.ops.init_ops) with dtype is deprecated and will be removed in a future version.\n",
            "Instructions for updating:\n",
            "Call initializer instance with the dtype argument instead of passing it to the constructor\n",
            "WARNING:tensorflow:From /usr/local/lib/python3.6/dist-packages/tensorflow_core/python/ops/resource_variable_ops.py:1630: calling BaseResourceVariable.__init__ (from tensorflow.python.ops.resource_variable_ops) with constraint is deprecated and will be removed in a future version.\n",
            "Instructions for updating:\n",
            "If using Keras pass *_constraint arguments to layers.\n",
            "Model: \"sequential\"\n",
            "_________________________________________________________________\n",
            "Layer (type)                 Output Shape              Param #   \n",
            "=================================================================\n",
            "embedding (Embedding)        (None, 200, 128)          2123136   \n",
            "_________________________________________________________________\n",
            "spatial_dropout1d (SpatialDr (None, 200, 128)          0         \n",
            "_________________________________________________________________\n",
            "lstm (LSTM)                  (None, 128)               131584    \n",
            "_________________________________________________________________\n",
            "dense (Dense)                (None, 12)                1548      \n",
            "=================================================================\n",
            "Total params: 2,256,268\n",
            "Trainable params: 2,256,268\n",
            "Non-trainable params: 0\n",
            "_________________________________________________________________\n",
            "None\n"
          ],
          "name": "stdout"
        }
      ]
    },
    {
      "cell_type": "code",
      "metadata": {
        "id": "jIAS5ux2N2Gs",
        "colab_type": "code",
        "outputId": "80125dc3-79e7-4ecd-d6b0-8406425b8d3c",
        "colab": {
          "base_uri": "https://localhost:8080/",
          "height": 292
        }
      },
      "source": [
        "from keras.callbacks import EarlyStopping\n",
        "epochs = 5\n",
        "batch_size = 64\n",
        "history = model.fit(X_train_web, Y_train_web, epochs=epochs, batch_size=batch_size,validation_split=0.1,callbacks=[EarlyStopping(monitor='val_loss', patience=3, min_delta=0.0001)])"
      ],
      "execution_count": 47,
      "outputs": [
        {
          "output_type": "stream",
          "text": [
            "WARNING:tensorflow:From /usr/local/lib/python3.6/dist-packages/tensorflow_core/python/ops/math_grad.py:1424: where (from tensorflow.python.ops.array_ops) is deprecated and will be removed in a future version.\n",
            "Instructions for updating:\n",
            "Use tf.where in 2.0, which has the same broadcast rule as np.where\n"
          ],
          "name": "stdout"
        },
        {
          "output_type": "stream",
          "text": [
            "Using TensorFlow backend.\n"
          ],
          "name": "stderr"
        },
        {
          "output_type": "stream",
          "text": [
            "Train on 2916 samples, validate on 324 samples\n",
            "Epoch 1/5\n",
            "2916/2916 [==============================] - 20s 7ms/sample - loss: 2.3652 - acc: 0.1646 - val_loss: 2.3937 - val_acc: 0.1235\n",
            "Epoch 2/5\n",
            "2916/2916 [==============================] - 20s 7ms/sample - loss: 2.3454 - acc: 0.1571 - val_loss: 2.3821 - val_acc: 0.1235\n",
            "Epoch 3/5\n",
            "2916/2916 [==============================] - 20s 7ms/sample - loss: 2.3448 - acc: 0.1636 - val_loss: 2.3747 - val_acc: 0.1759\n",
            "Epoch 4/5\n",
            "2916/2916 [==============================] - 20s 7ms/sample - loss: 2.3451 - acc: 0.1650 - val_loss: 2.3756 - val_acc: 0.1698\n",
            "Epoch 5/5\n",
            "2916/2916 [==============================] - 20s 7ms/sample - loss: 2.3440 - acc: 0.1602 - val_loss: 2.3734 - val_acc: 0.1698\n"
          ],
          "name": "stdout"
        }
      ]
    },
    {
      "cell_type": "markdown",
      "metadata": {
        "id": "pyHrnxOtguEQ",
        "colab_type": "text"
      },
      "source": [
        "Using the data with the w2v method applied in the RNN show bad accuracy.\n",
        "Let's try text_to_sequence method"
      ]
    },
    {
      "cell_type": "code",
      "metadata": {
        "id": "xnS2JFNdgskF",
        "colab_type": "code",
        "outputId": "c29dcde4-3345-42fa-f486-fc141d1cc4e2",
        "colab": {
          "base_uri": "https://localhost:8080/",
          "height": 34
        }
      },
      "source": [
        "from keras.preprocessing.text import Tokenizer\n",
        "from keras.preprocessing.sequence import pad_sequences\n",
        "tokenizer = Tokenizer(num_words=10000, filters='!\"#$%&()*+,-./:;<=>?@[\\]^_`{|}~', lower=True)\n",
        "tokenizer.fit_on_texts(df['Text'].values)\n",
        "word_index = tokenizer.word_index\n",
        "print('Found %s unique tokens.' % len(word_index))"
      ],
      "execution_count": 48,
      "outputs": [
        {
          "output_type": "stream",
          "text": [
            "Found 41738 unique tokens.\n"
          ],
          "name": "stdout"
        }
      ]
    },
    {
      "cell_type": "code",
      "metadata": {
        "id": "1nthknKeN2Bf",
        "colab_type": "code",
        "outputId": "7630cd95-5167-4907-a240-4009d7c6872a",
        "colab": {
          "base_uri": "https://localhost:8080/",
          "height": 34
        }
      },
      "source": [
        "X = tokenizer.texts_to_sequences(df['Text'].values)\n",
        "X = pad_sequences(X, maxlen=200) ## 200 value to present a sentence\n",
        "print('Shape of data tensor:', X.shape)"
      ],
      "execution_count": 49,
      "outputs": [
        {
          "output_type": "stream",
          "text": [
            "Shape of data tensor: (3600, 200)\n"
          ],
          "name": "stdout"
        }
      ]
    },
    {
      "cell_type": "code",
      "metadata": {
        "id": "uwkku4-NydhP",
        "colab_type": "code",
        "colab": {}
      },
      "source": [
        "X_train_rnn, X_test_rnn, Y_train_rnn, Y_test_rnn = train_test_split(X, Y, test_size = 0.2, random_state = 5)"
      ],
      "execution_count": 0,
      "outputs": []
    },
    {
      "cell_type": "code",
      "metadata": {
        "id": "Eq3z-2wLEauN",
        "colab_type": "code",
        "outputId": "3a7bd766-c835-435f-c3d7-25e0a95ef96f",
        "colab": {
          "base_uri": "https://localhost:8080/",
          "height": 102
        }
      },
      "source": [
        "# reduce the side of X, take only 100 first words\n",
        "X_train_rnn=np.array(X_train_rnn)\n",
        "X_test_rnn=np.array(X_test_rnn)\n",
        "print('shape of train and test data to rnn')\n",
        "print(X_train_rnn.shape)\n",
        "print(X_test_rnn.shape)\n",
        "print(Y_train_rnn.shape)\n",
        "print(Y_test_rnn.shape)"
      ],
      "execution_count": 51,
      "outputs": [
        {
          "output_type": "stream",
          "text": [
            "shape of train and test data to rnn\n",
            "(2880, 200)\n",
            "(720, 200)\n",
            "(2880, 12)\n",
            "(720, 12)\n"
          ],
          "name": "stdout"
        }
      ]
    },
    {
      "cell_type": "code",
      "metadata": {
        "id": "AL-3-ZTX0fNT",
        "colab_type": "code",
        "outputId": "8024c65f-56fb-43f8-f566-229df694e457",
        "colab": {
          "base_uri": "https://localhost:8080/",
          "height": 255
        }
      },
      "source": [
        "model_rnn = Sequential()\n",
        "model_rnn.add(Embedding(10000, 128, input_length=200))\n",
        "model_rnn.add(LSTM(128, dropout=0.2, recurrent_dropout=0.2))\n",
        "model_rnn.add(Dense(12, activation='softmax'))\n",
        "model_rnn.summary()\n",
        "model_rnn.compile(loss='categorical_crossentropy', optimizer='adam', metrics=['accuracy'])\n"
      ],
      "execution_count": 52,
      "outputs": [
        {
          "output_type": "stream",
          "text": [
            "Model: \"sequential_1\"\n",
            "_________________________________________________________________\n",
            "Layer (type)                 Output Shape              Param #   \n",
            "=================================================================\n",
            "embedding_1 (Embedding)      (None, 200, 128)          1280000   \n",
            "_________________________________________________________________\n",
            "lstm_1 (LSTM)                (None, 128)               131584    \n",
            "_________________________________________________________________\n",
            "dense_1 (Dense)              (None, 12)                1548      \n",
            "=================================================================\n",
            "Total params: 1,413,132\n",
            "Trainable params: 1,413,132\n",
            "Non-trainable params: 0\n",
            "_________________________________________________________________\n"
          ],
          "name": "stdout"
        }
      ]
    },
    {
      "cell_type": "code",
      "metadata": {
        "id": "7sK8BqNiVf7E",
        "colab_type": "code",
        "outputId": "747cb1b6-4838-4b2d-a46b-33590a765424",
        "colab": {
          "base_uri": "https://localhost:8080/",
          "height": 544
        }
      },
      "source": [
        "# train model\n",
        "epochs = 15\n",
        "batch_size = 128\n",
        "history = model_rnn.fit(X_train_rnn, Y_train_rnn, epochs=epochs, batch_size=batch_size,validation_split=0.1)\n",
        "## valid by 10 % of train"
      ],
      "execution_count": 53,
      "outputs": [
        {
          "output_type": "stream",
          "text": [
            "Train on 2592 samples, validate on 288 samples\n",
            "Epoch 1/15\n",
            "2592/2592 [==============================] - 12s 5ms/sample - loss: 2.4094 - acc: 0.1968 - val_loss: 2.2860 - val_acc: 0.1493\n",
            "Epoch 2/15\n",
            "2592/2592 [==============================] - 12s 5ms/sample - loss: 2.0521 - acc: 0.2840 - val_loss: 1.7855 - val_acc: 0.4271\n",
            "Epoch 3/15\n",
            "2592/2592 [==============================] - 11s 4ms/sample - loss: 1.5835 - acc: 0.4066 - val_loss: 1.4066 - val_acc: 0.5312\n",
            "Epoch 4/15\n",
            "2592/2592 [==============================] - 11s 4ms/sample - loss: 1.3165 - acc: 0.5602 - val_loss: 1.1777 - val_acc: 0.6076\n",
            "Epoch 5/15\n",
            "2592/2592 [==============================] - 11s 4ms/sample - loss: 1.0177 - acc: 0.6474 - val_loss: 0.9345 - val_acc: 0.6840\n",
            "Epoch 6/15\n",
            "2592/2592 [==============================] - 11s 4ms/sample - loss: 0.8128 - acc: 0.7392 - val_loss: 0.7719 - val_acc: 0.7674\n",
            "Epoch 7/15\n",
            "2592/2592 [==============================] - 11s 4ms/sample - loss: 0.6213 - acc: 0.8264 - val_loss: 0.5368 - val_acc: 0.8368\n",
            "Epoch 8/15\n",
            "2592/2592 [==============================] - 11s 4ms/sample - loss: 0.4238 - acc: 0.8978 - val_loss: 0.4792 - val_acc: 0.8438\n",
            "Epoch 9/15\n",
            "2592/2592 [==============================] - 11s 4ms/sample - loss: 0.2723 - acc: 0.9475 - val_loss: 0.3093 - val_acc: 0.9132\n",
            "Epoch 10/15\n",
            "2592/2592 [==============================] - 11s 4ms/sample - loss: 0.2013 - acc: 0.9626 - val_loss: 0.3143 - val_acc: 0.9236\n",
            "Epoch 11/15\n",
            "2592/2592 [==============================] - 11s 4ms/sample - loss: 0.1285 - acc: 0.9788 - val_loss: 0.2691 - val_acc: 0.9167\n",
            "Epoch 12/15\n",
            "2592/2592 [==============================] - 11s 4ms/sample - loss: 0.0993 - acc: 0.9799 - val_loss: 0.2274 - val_acc: 0.9306\n",
            "Epoch 13/15\n",
            "2592/2592 [==============================] - 11s 4ms/sample - loss: 0.0686 - acc: 0.9911 - val_loss: 0.1780 - val_acc: 0.9306\n",
            "Epoch 14/15\n",
            "2592/2592 [==============================] - 11s 4ms/sample - loss: 0.0892 - acc: 0.9834 - val_loss: 0.2547 - val_acc: 0.9201\n",
            "Epoch 15/15\n",
            "2592/2592 [==============================] - 11s 4ms/sample - loss: 0.0570 - acc: 0.9896 - val_loss: 0.2401 - val_acc: 0.9340\n"
          ],
          "name": "stdout"
        }
      ]
    },
    {
      "cell_type": "code",
      "metadata": {
        "id": "RB1iIZ1lWIqV",
        "colab_type": "code",
        "outputId": "82d2ec15-779e-4c07-97df-3723e97585d5",
        "colab": {
          "base_uri": "https://localhost:8080/",
          "height": 391
        }
      },
      "source": [
        "## check the accuracy\n",
        "score, acc= model_rnn.evaluate(X_test_rnn, Y_test_rnn,\n",
        "                           batch_size=32,\n",
        "                           verbose=2)\n",
        "print('Score value',score)\n",
        "print('Accuracy',acc)\n",
        "## report \n",
        "y_true= [np.where(r==1)[0][0] for r in Y_test_rnn]\n",
        "yhat_classes = model_rnn.predict_classes(X_test_rnn, verbose=0)\n",
        "print(classification_report(y_true,yhat_classes)) # later\n"
      ],
      "execution_count": 54,
      "outputs": [
        {
          "output_type": "stream",
          "text": [
            "720/720 - 1s - loss: 0.2901 - acc: 0.9236\n",
            "Score value 0.29006308217843374\n",
            "Accuracy 0.9236111\n",
            "              precision    recall  f1-score   support\n",
            "\n",
            "           0       0.96      0.91      0.94       112\n",
            "           1       0.70      0.81      0.75        43\n",
            "           2       0.97      0.82      0.89        45\n",
            "           3       0.99      0.97      0.98       117\n",
            "           4       0.88      0.96      0.91        45\n",
            "           5       1.00      0.93      0.96        41\n",
            "           6       0.79      0.87      0.83        31\n",
            "           7       0.89      0.85      0.87        39\n",
            "           8       1.00      0.98      0.99        41\n",
            "           9       0.64      0.74      0.69        39\n",
            "          10       1.00      1.00      1.00        42\n",
            "          11       0.99      1.00      1.00       125\n",
            "\n",
            "    accuracy                           0.92       720\n",
            "   macro avg       0.90      0.90      0.90       720\n",
            "weighted avg       0.93      0.92      0.93       720\n",
            "\n"
          ],
          "name": "stdout"
        }
      ]
    },
    {
      "cell_type": "code",
      "metadata": {
        "id": "yGH_r2PmmjDW",
        "colab_type": "code",
        "outputId": "33dab4a2-4bfb-4cd7-dfb8-6f3965d1ea60",
        "colab": {
          "base_uri": "https://localhost:8080/",
          "height": 619
        }
      },
      "source": [
        "#Plotting graphs\n",
        "acc = history.history['acc']\n",
        "val_acc = history.history['val_acc']\n",
        "loss = history.history['loss']\n",
        "val_loss = history.history['val_loss']\n",
        "print('Accuracy on train:',acc[len(acc)-1] ) \n",
        "print('Accuracy on valid:',val_acc[len(acc)-1] ) \n",
        "epochs = range(len(acc))\n",
        " \n",
        "plt.plot(epochs, acc, 'b', label='Training acc')\n",
        "plt.plot(epochs, val_acc, 'r', label='Validation acc')\n",
        "plt.title('Training and validation accuracy')\n",
        "plt.legend()\n",
        " \n",
        "plt.figure()\n",
        " \n",
        "plt.plot(epochs, loss, 'b', label='Training loss')\n",
        "plt.plot(epochs, val_loss, 'r', label='Validation loss')\n",
        "plt.title('Training and validation loss')\n",
        "plt.legend()\n",
        "print('lost on train:',loss[len(acc)-1] ) \n",
        "print('lost on valid:',val_loss[len(acc)-1] )  \n",
        "plt.show()\n",
        "## print report to see f1, recall "
      ],
      "execution_count": 55,
      "outputs": [
        {
          "output_type": "stream",
          "text": [
            "Accuracy on train: 0.9895833\n",
            "Accuracy on valid: 0.9340278\n",
            "lost on train: 0.05697917570302516\n",
            "lost on valid: 0.2400715301434199\n"
          ],
          "name": "stdout"
        },
        {
          "output_type": "display_data",
          "data": {
            "image/png": "[encoded data removed]",
            "text/plain": [
              "<Figure size 432x288 with 1 Axes>"
            ]
          },
          "metadata": {
            "tags": []
          }
        },
        {
          "output_type": "display_data",
          "data": {
            "image/png": "[encoded data removed]",
            "text/plain": [
              "<Figure size 432x288 with 1 Axes>"
            ]
          },
          "metadata": {
            "tags": []
          }
        }
      ]
    },
    {
      "cell_type": "markdown",
      "metadata": {
        "id": "kqVdUxmGyErw",
        "colab_type": "text"
      },
      "source": [
        "The model RNN using text to sequence performs very well."
      ]
    },
    {
      "cell_type": "markdown",
      "metadata": {
        "id": "TQv570THyFMs",
        "colab_type": "text"
      },
      "source": [
        "## Clustering data"
      ]
    },
    {
      "cell_type": "code",
      "metadata": {
        "id": "zbqXoFaGZDZY",
        "colab_type": "code",
        "colab": {}
      },
      "source": [
        "### k mean cluster using text 2 seq data"
      ],
      "execution_count": 0,
      "outputs": []
    },
    {
      "cell_type": "markdown",
      "metadata": {
        "id": "2MBoAph8yKnR",
        "colab_type": "text"
      },
      "source": [
        "In this report we use the matrix from TFIDF to cluster the documents. We choose a typical number of cluster as 5 show in follow"
      ]
    },
    {
      "cell_type": "code",
      "metadata": {
        "id": "DRRlb7AjYd-l",
        "colab_type": "code",
        "colab": {}
      },
      "source": [
        "from sklearn.cluster import KMeans\n",
        "kmeans=KMeans(n_clusters=5,algorithm='elkan', max_iter=100)\n",
        "kmeans.fit(tfidf_matrix.toarray())\n",
        "centers = kmeans.cluster_centers_\n",
        "ssvariance = kmeans.inertia_\n",
        "clusters = kmeans.labels_.tolist()"
      ],
      "execution_count": 0,
      "outputs": []
    },
    {
      "cell_type": "code",
      "metadata": {
        "id": "qOzRYizIUGgQ",
        "colab_type": "code",
        "colab": {}
      },
      "source": [
        "terms = vectorizer.get_feature_names()"
      ],
      "execution_count": 0,
      "outputs": []
    },
    {
      "cell_type": "code",
      "metadata": {
        "id": "KepbtfMpUHEE",
        "colab_type": "code",
        "colab": {}
      },
      "source": [
        "df['kmeans']=pd.DataFrame(clusters)\n",
        "df['encode_author']=pd.DataFrame(author_lb.fit_transform(df.Author))"
      ],
      "execution_count": 0,
      "outputs": []
    },
    {
      "cell_type": "code",
      "metadata": {
        "id": "qv2VP-hYUJ8B",
        "colab_type": "code",
        "outputId": "47c58d15-9ff2-44fa-9d96-03d5ab93b5c9",
        "colab": {
          "base_uri": "https://localhost:8080/",
          "height": 119
        }
      },
      "source": [
        "print(df.kmeans.value_counts())"
      ],
      "execution_count": 61,
      "outputs": [
        {
          "output_type": "stream",
          "text": [
            "1    1561\n",
            "2     630\n",
            "4     619\n",
            "3     591\n",
            "0     199\n",
            "Name: kmeans, dtype: int64\n"
          ],
          "name": "stdout"
        }
      ]
    },
    {
      "cell_type": "code",
      "metadata": {
        "id": "17btW7g9U_h4",
        "colab_type": "code",
        "outputId": "b2f7a274-68cc-4923-ca91-4fb7bad36020",
        "colab": {
          "base_uri": "https://localhost:8080/",
          "height": 318
        }
      },
      "source": [
        "sns.distplot(df.kmeans, kde = False, bins = 5, color = 'blue').set_title(\"Cluster Distribution\")\n",
        "plt.xlabel('Cluster')\n",
        "plt.ylabel('Count')"
      ],
      "execution_count": 62,
      "outputs": [
        {
          "output_type": "execute_result",
          "data": {
            "text/plain": [
              "Text(0, 0.5, 'Count')"
            ]
          },
          "metadata": {
            "tags": []
          },
          "execution_count": 62
        },
        {
          "output_type": "display_data",
          "data": {
            "image/png": "[encoded data removed]",
            "text/plain": [
              "<Figure size 432x288 with 1 Axes>"
            ]
          },
          "metadata": {
            "tags": []
          }
        }
      ]
    },
    {
      "cell_type": "markdown",
      "metadata": {
        "id": "qsh7fEl-0N8Y",
        "colab_type": "text"
      },
      "source": [
        "As shown in the figure, all of the cluster contains more than 200 sub-documents. Let's examine the most word appears in each cluster:"
      ]
    },
    {
      "cell_type": "code",
      "metadata": {
        "id": "hvkh1NTmWw14",
        "colab_type": "code",
        "outputId": "d1f7a2ff-09e3-4356-cc61-6a0737506c1e",
        "colab": {
          "base_uri": "https://localhost:8080/",
          "height": 1000
        }
      },
      "source": [
        "from __future__ import print_function\n",
        "\n",
        "print(\"Top terms per cluster:\")\n",
        "print()\n",
        "#sort cluster centers by proximity to centroid\n",
        "order_centroids = kmeans.cluster_centers_.argsort()[:, ::-1] \n",
        "\n",
        "for i in range(5):\n",
        "    print(\"Cluster %d words: \\n\" % i, end='')\n",
        "    \n",
        "    for ind in order_centroids[i, :10]: #10 with n words per cluster\n",
        "        print(terms[ind])\n",
        "    print() #add whitespace\n",
        "    print() #add whitespace\n",
        "print()\n",
        "print()"
      ],
      "execution_count": 63,
      "outputs": [
        {
          "output_type": "stream",
          "text": [
            "Top terms per cluster:\n",
            "\n",
            "Cluster 0 words: \n",
            "unto\n",
            "lord\n",
            "shall\n",
            "thou\n",
            "thy\n",
            "ye\n",
            "god\n",
            "thee\n",
            "israel\n",
            "10\n",
            "\n",
            "\n",
            "Cluster 1 words: \n",
            "said\n",
            "little\n",
            "alice\n",
            "one\n",
            "like\n",
            "man\n",
            "syme\n",
            "buster\n",
            "turnbull\n",
            "brown\n",
            "\n",
            "\n",
            "Cluster 2 words: \n",
            "whale\n",
            "thou\n",
            "thee\n",
            "thy\n",
            "heaven\n",
            "one\n",
            "yet\n",
            "sea\n",
            "earth\n",
            "shall\n",
            "\n",
            "\n",
            "Cluster 3 words: \n",
            "haue\n",
            "ham\n",
            "caesar\n",
            "thou\n",
            "enter\n",
            "vs\n",
            "lord\n",
            "macb\n",
            "brutus\n",
            "vpon\n",
            "\n",
            "\n",
            "Cluster 4 words: \n",
            "mrs\n",
            "mr\n",
            "could\n",
            "would\n",
            "miss\n",
            "elinor\n",
            "emma\n",
            "marianne\n",
            "anne\n",
            "must\n",
            "\n",
            "\n",
            "\n",
            "\n"
          ],
          "name": "stdout"
        }
      ]
    },
    {
      "cell_type": "markdown",
      "metadata": {
        "id": "ZOePbI9hdh5v",
        "colab_type": "text"
      },
      "source": [
        "## Topic modeling using LDA"
      ]
    },
    {
      "cell_type": "markdown",
      "metadata": {
        "id": "W6b-POCuh8wj",
        "colab_type": "text"
      },
      "source": [
        "Let's do the topic modeling/ clustering based on LDA !"
      ]
    },
    {
      "cell_type": "code",
      "metadata": {
        "id": "w9cMADHplJdi",
        "colab_type": "code",
        "colab": {
          "base_uri": "https://localhost:8080/",
          "height": 34
        },
        "outputId": "a222e9ae-9677-4bb7-8892-558e3f6e1284"
      },
      "source": [
        "print(\"Generating corpus and dictionary...\")\n",
        "\n",
        "dictionary = corpora.Dictionary(split_text)\n",
        "corpus = [dictionary.doc2bow(text) for text in split_text]\n",
        "## use bag of word for LDA"
      ],
      "execution_count": 78,
      "outputs": [
        {
          "output_type": "stream",
          "text": [
            "Generating corpus and dictionary...\n"
          ],
          "name": "stdout"
        }
      ]
    },
    {
      "cell_type": "code",
      "metadata": {
        "id": "c-q6SvjuiCGq",
        "colab_type": "code",
        "colab": {
          "base_uri": "https://localhost:8080/",
          "height": 85
        },
        "outputId": "c070cb34-4ff8-4954-abde-ec2cba82ed7b"
      },
      "source": [
        "%%time\n",
        "print(\"Training LDA model on train dataframe...\")\n",
        "\n",
        "NUM_TOPICS = 9\n",
        "start_time = time.time()\n",
        "ldamodel = gensim.models.LdaMulticore(corpus, \n",
        "                                           num_topics=NUM_TOPICS, \n",
        "                                           id2word=dictionary, \n",
        "                                           passes=15,workers=5)\n",
        "train_time = time.time() - start_time\n",
        "print(\"Training Time --- %s seconds \" % (round(train_time, 2)))"
      ],
      "execution_count": 83,
      "outputs": [
        {
          "output_type": "stream",
          "text": [
            "Training LDA model on train dataframe...\n",
            "Training Time --- 57.95 seconds \n",
            "CPU times: user 57.3 s, sys: 2.7 s, total: 60 s\n",
            "Wall time: 58 s\n"
          ],
          "name": "stdout"
        }
      ]
    },
    {
      "cell_type": "markdown",
      "metadata": {
        "id": "GhrT6Fc-qlfi",
        "colab_type": "text"
      },
      "source": [
        "We can check the keywords for each topic and the importance weight of each keyword using lda_model.print_topics() as shown next."
      ]
    },
    {
      "cell_type": "code",
      "metadata": {
        "id": "xehhxKiFqXW_",
        "colab_type": "code",
        "colab": {
          "base_uri": "https://localhost:8080/",
          "height": 493
        },
        "outputId": "a7701ec7-9bba-4ff6-b1f3-c088ff709259"
      },
      "source": [
        "print(\"Allocated models of each topic...\")\n",
        "\n",
        "topics_train = []\n",
        "topics = ldamodel.print_topics()\n",
        "for topic in topics:\n",
        "    pprint(topic)\n",
        "    topics_train.append(topic)"
      ],
      "execution_count": 84,
      "outputs": [
        {
          "output_type": "stream",
          "text": [
            "Allocated models of each topic...\n",
            "(0,\n",
            " '0.022*\"shall\" + 0.021*\"unto\" + 0.015*\"LORD\" + 0.011*\"thou\" + 0.010*\"God\" + '\n",
            " '0.009*\"said\" + 0.009*\"thy\" + 0.009*\"thee\" + 0.008*\"ye\" + 0.006*\"1\"')\n",
            "(1,\n",
            " '0.007*\"Ham\" + 0.007*\"Lord\" + 0.006*\"said\" + 0.006*\"Alice\" + 0.006*\"King\" + '\n",
            " '0.005*\"haue\" + 0.004*\"Enter\" + 0.004*\"like\" + 0.004*\"thou\" + 0.004*\"one\"')\n",
            "(2,\n",
            " '0.009*\"Heaven\" + 0.009*\"thee\" + 0.009*\"thou\" + 0.008*\"thy\" + 0.006*\"God\" + '\n",
            " '0.005*\"thus\" + 0.004*\"shall\" + 0.004*\"us\" + 0.004*\"first\" + 0.003*\"Man\"')\n",
            "(3,\n",
            " '0.005*\"see\" + 0.004*\"love\" + 0.004*\"day\" + 0.004*\"life\" + 0.004*\"one\" + '\n",
            " '0.004*\"soul\" + 0.004*\"old\" + 0.004*\"men\" + 0.004*\"man\" + 0.004*\"earth\"')\n",
            "(4,\n",
            " '0.008*\"whale\" + 0.007*\"ship\" + 0.006*\"one\" + 0.004*\"sea\" + 0.004*\"upon\" + '\n",
            " '0.004*\"like\" + 0.004*\"Ahab\" + 0.003*\"thou\" + 0.003*\"though\" + 0.003*\"yet\"')\n",
            "(5,\n",
            " '0.022*\"thy\" + 0.015*\"shall\" + 0.010*\"thou\" + 0.009*\"LORD\" + 0.007*\"thee\" + '\n",
            " '0.006*\"ye\" + 0.006*\"like\" + 0.006*\"119\" + 0.005*\"upon\" + 0.004*\"earth\"')\n",
            "(6,\n",
            " '0.010*\"shall\" + 0.008*\"haue\" + 0.008*\"Caesar\" + 0.006*\"Brutus\" + 0.006*\"Bru\" '\n",
            " '+ 0.005*\"vs\" + 0.004*\"come\" + 0.004*\"Cassi\" + 0.004*\"know\" + 0.004*\"King\"')\n",
            "(7,\n",
            " '0.008*\"one\" + 0.007*\"little\" + 0.007*\"like\" + 0.005*\"said\" + 0.005*\"man\" + '\n",
            " '0.004*\"whale\" + 0.004*\"old\" + 0.003*\"two\" + 0.003*\"head\" + 0.003*\"see\"')\n",
            "(8,\n",
            " '0.013*\"said\" + 0.008*\"could\" + 0.008*\"would\" + 0.006*\"Mr\" + 0.006*\"one\" + '\n",
            " '0.005*\"Mrs\" + 0.005*\"must\" + 0.005*\"little\" + 0.004*\"know\" + 0.004*\"man\"')\n"
          ],
          "name": "stdout"
        }
      ]
    },
    {
      "cell_type": "markdown",
      "metadata": {
        "id": "aBOaXO-wq6RL",
        "colab_type": "text"
      },
      "source": [
        "Depend on the words appears in each topic, we can decide the topic/ theme of a document."
      ]
    },
    {
      "cell_type": "markdown",
      "metadata": {
        "id": "Uf8Cbk8nKSV0",
        "colab_type": "text"
      },
      "source": [
        "# Conclusion\n",
        "The main goal of this report is to research and present the NLP techniques including supervised and unsupervised learning to build a authorship classifier. The text processing tools in this report are Bag of word, TF-IDF and word2vec applied to the Gutenberg data set. Among the supervised learning, TFIDF seems performs very well in terms of accuracy. In case of BOW, the KNN performs quite bad compared to the other. To have a quick result we can use w2v scheme with a bit lower in the fidelity. \n",
        "RNN using w2v vector as input produces a very bad result around 16 % of accuracy, in stead we use the text to sequence scheme for RNN. It can be seen that the RNN using text to sequence give a excellent resut with 15 epochs.\n",
        "Furthermore, we also done clustering in this case, it can be categorized as a genre or topic of the documents, i.e. several documents of different author can has the same topic (cluster). \n",
        "\n",
        "For furture work,a reason why the w2v scheme yields bad result when apply to RNN should be investigated."
      ]
    },
    {
      "cell_type": "code",
      "metadata": {
        "id": "u24Fg7Tabt1S",
        "colab_type": "code",
        "colab": {}
      },
      "source": [
        ""
      ],
      "execution_count": 0,
      "outputs": []
    }
  ]
}